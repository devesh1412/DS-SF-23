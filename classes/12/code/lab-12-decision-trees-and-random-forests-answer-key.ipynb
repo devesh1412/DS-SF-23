{
 "cells": [
  {
   "cell_type": "markdown",
   "metadata": {},
   "source": [
    "# DS-SF-23 | Lab 12 | Decision Trees and Random Forests | Answer Key"
   ]
  },
  {
   "cell_type": "code",
   "execution_count": 1,
   "metadata": {
    "collapsed": true
   },
   "outputs": [],
   "source": [
    "import os\n",
    "import numpy as np\n",
    "import pandas as pd\n",
    "import matplotlib.pyplot as plt\n",
    "from sklearn import tree, ensemble, metrics, cross_validation, externals\n",
    "\n",
    "pd.set_option('display.max_rows', 10)\n",
    "pd.set_option('display.notebook_repr_html', True)\n",
    "pd.set_option('display.max_columns', 10)\n",
    "\n",
    "%matplotlib inline\n",
    "plt.style.use('ggplot')"
   ]
  },
  {
   "cell_type": "code",
   "execution_count": 2,
   "metadata": {
    "collapsed": false
   },
   "outputs": [],
   "source": [
    "#%install_ext https://raw.github.com/cjdrake/ipython-magic/master/gvmagic.py"
   ]
  },
  {
   "cell_type": "code",
   "execution_count": 4,
   "metadata": {
    "collapsed": false
   },
   "outputs": [
    {
     "name": "stdout",
     "output_type": "stream",
     "text": [
      "The gvmagic extension is already loaded. To reload it, use:\n",
      "  %reload_ext gvmagic\n"
     ]
    }
   ],
   "source": [
    "%load_ext gvmagic"
   ]
  },
  {
   "cell_type": "markdown",
   "metadata": {},
   "source": [
    "Today we are revisiting the `boston` dataset from session 8."
   ]
  },
  {
   "cell_type": "markdown",
   "metadata": {},
   "source": [
    "## Dataset documentation"
   ]
  },
  {
   "cell_type": "markdown",
   "metadata": {},
   "source": [
    "The Boston dataset concerns itself with housing values in suburbs of Boston.  A description of the dataset is as follows:\n",
    "\n",
    "- CRIM: per capita crime rate by town\n",
    "- ZN: proportion of residential land zoned for lots over 25,000 sqft\n",
    "- INDUS: proportion of non-retail business acres per town\n",
    "- CHAS: Charles River dummy variable (= 1 if tract bounds river; 0 otherwise)\n",
    "- NOX: nitric oxides concentration (parts per 10 million)\n",
    "- RM: average number of rooms per dwelling\n",
    "- AGE: proportion of owner-occupied units built prior to 1940\n",
    "- DIS: weighted distances to five Boston employment centers\n",
    "- RAD: index of accessibility to radial highways\n",
    "- TAX: full-value property-tax rate (per ten thousands of dollars)\n",
    "- PTRATIO: pupil-teacher ratio by town\n",
    "- B: 1000(Bk - 0.63)^2 where Bk is the proportion of blacks by town\n",
    "- LSTAT: % lower status of the population\n",
    "- MEDV: Median value of owner-occupied homes (in thousands of dollars)"
   ]
  },
  {
   "cell_type": "markdown",
   "metadata": {},
   "source": [
    "## Optional: Installing Graphviz"
   ]
  },
  {
   "cell_type": "markdown",
   "metadata": {},
   "source": [
    "- Mac\n",
    "  - Type `conda install graphviz` at the command line\n",
    "- Windows\n",
    "  - Download and install the MSI file: http://www.graphviz.org/Download_windows.php\n",
    "  - Add it to your Path: Go to Control Panel, System, Advanced System Settings, Environment Variables.  Under system variables,edit \"Path\" to include the path to the \"bin\" folder, such as: C:\\Program Files (x86)\\Graphviz2.38\\bin"
   ]
  },
  {
   "cell_type": "code",
   "execution_count": 12,
   "metadata": {
    "collapsed": false
   },
   "outputs": [
    {
     "name": "stdout",
     "output_type": "stream",
     "text": [
      "The gvmagic extension is already loaded. To reload it, use:\n",
      "  %reload_ext gvmagic\n"
     ]
    }
   ],
   "source": [
    "%load_ext gvmagic"
   ]
  },
  {
   "cell_type": "code",
   "execution_count": 13,
   "metadata": {
    "collapsed": true
   },
   "outputs": [],
   "source": [
    "df = pd.read_csv(os.path.join('..', 'datasets', 'boston.csv'))"
   ]
  },
  {
   "cell_type": "code",
   "execution_count": 14,
   "metadata": {
    "collapsed": false
   },
   "outputs": [
    {
     "data": {
      "text/html": [
       "<div>\n",
       "<table border=\"1\" class=\"dataframe\">\n",
       "  <thead>\n",
       "    <tr style=\"text-align: right;\">\n",
       "      <th></th>\n",
       "      <th>CRIM</th>\n",
       "      <th>ZN</th>\n",
       "      <th>INDUS</th>\n",
       "      <th>CHAS</th>\n",
       "      <th>NOX</th>\n",
       "      <th>...</th>\n",
       "      <th>TAX</th>\n",
       "      <th>PTRATIO</th>\n",
       "      <th>BLACK</th>\n",
       "      <th>LSTAT</th>\n",
       "      <th>MEDV</th>\n",
       "    </tr>\n",
       "  </thead>\n",
       "  <tbody>\n",
       "    <tr>\n",
       "      <th>0</th>\n",
       "      <td>0.00632</td>\n",
       "      <td>18.0</td>\n",
       "      <td>2.31</td>\n",
       "      <td>0</td>\n",
       "      <td>0.538</td>\n",
       "      <td>...</td>\n",
       "      <td>296</td>\n",
       "      <td>15.3</td>\n",
       "      <td>396.90</td>\n",
       "      <td>4.98</td>\n",
       "      <td>24.0</td>\n",
       "    </tr>\n",
       "    <tr>\n",
       "      <th>1</th>\n",
       "      <td>0.02731</td>\n",
       "      <td>0.0</td>\n",
       "      <td>7.07</td>\n",
       "      <td>0</td>\n",
       "      <td>0.469</td>\n",
       "      <td>...</td>\n",
       "      <td>242</td>\n",
       "      <td>17.8</td>\n",
       "      <td>396.90</td>\n",
       "      <td>9.14</td>\n",
       "      <td>21.6</td>\n",
       "    </tr>\n",
       "    <tr>\n",
       "      <th>2</th>\n",
       "      <td>0.02729</td>\n",
       "      <td>0.0</td>\n",
       "      <td>7.07</td>\n",
       "      <td>0</td>\n",
       "      <td>0.469</td>\n",
       "      <td>...</td>\n",
       "      <td>242</td>\n",
       "      <td>17.8</td>\n",
       "      <td>392.83</td>\n",
       "      <td>4.03</td>\n",
       "      <td>34.7</td>\n",
       "    </tr>\n",
       "    <tr>\n",
       "      <th>3</th>\n",
       "      <td>0.03237</td>\n",
       "      <td>0.0</td>\n",
       "      <td>2.18</td>\n",
       "      <td>0</td>\n",
       "      <td>0.458</td>\n",
       "      <td>...</td>\n",
       "      <td>222</td>\n",
       "      <td>18.7</td>\n",
       "      <td>394.63</td>\n",
       "      <td>2.94</td>\n",
       "      <td>33.4</td>\n",
       "    </tr>\n",
       "    <tr>\n",
       "      <th>4</th>\n",
       "      <td>0.06905</td>\n",
       "      <td>0.0</td>\n",
       "      <td>2.18</td>\n",
       "      <td>0</td>\n",
       "      <td>0.458</td>\n",
       "      <td>...</td>\n",
       "      <td>222</td>\n",
       "      <td>18.7</td>\n",
       "      <td>396.90</td>\n",
       "      <td>5.33</td>\n",
       "      <td>36.2</td>\n",
       "    </tr>\n",
       "  </tbody>\n",
       "</table>\n",
       "<p>5 rows × 14 columns</p>\n",
       "</div>"
      ],
      "text/plain": [
       "      CRIM    ZN  INDUS  CHAS    NOX  ...   TAX  PTRATIO   BLACK  LSTAT  MEDV\n",
       "0  0.00632  18.0   2.31     0  0.538  ...   296     15.3  396.90   4.98  24.0\n",
       "1  0.02731   0.0   7.07     0  0.469  ...   242     17.8  396.90   9.14  21.6\n",
       "2  0.02729   0.0   7.07     0  0.469  ...   242     17.8  392.83   4.03  34.7\n",
       "3  0.03237   0.0   2.18     0  0.458  ...   222     18.7  394.63   2.94  33.4\n",
       "4  0.06905   0.0   2.18     0  0.458  ...   222     18.7  396.90   5.33  36.2\n",
       "\n",
       "[5 rows x 14 columns]"
      ]
     },
     "execution_count": 14,
     "metadata": {},
     "output_type": "execute_result"
    }
   ],
   "source": [
    "df.head()"
   ]
  },
  {
   "cell_type": "code",
   "execution_count": 15,
   "metadata": {
    "collapsed": false
   },
   "outputs": [
    {
     "data": {
      "text/plain": [
       "Index([u'CRIM', u'ZN', u'INDUS', u'CHAS', u'NOX', u'RM', u'AGE', u'DIS',\n",
       "       u'RAD', u'TAX', u'PTRATIO', u'BLACK', u'LSTAT', u'MEDV'],\n",
       "      dtype='object')"
      ]
     },
     "execution_count": 15,
     "metadata": {},
     "output_type": "execute_result"
    }
   ],
   "source": [
    "df.columns"
   ]
  },
  {
   "cell_type": "markdown",
   "metadata": {},
   "source": [
    "## Part A - Regression Decision Trees"
   ]
  },
  {
   "cell_type": "markdown",
   "metadata": {},
   "source": [
    "> ### Question 1.  Create a feature matrix `X` with all features but `MEDV`.  Also create a response vector `y` with `MEDV`"
   ]
  },
  {
   "cell_type": "code",
   "execution_count": 16,
   "metadata": {
    "collapsed": false
   },
   "outputs": [],
   "source": [
    "X = df[df.columns.values]\n",
    "X.drop('MEDV', axis = 1, inplace = True)\n",
    "\n",
    "y = df.MEDV"
   ]
  },
  {
   "cell_type": "code",
   "execution_count": 17,
   "metadata": {
    "collapsed": false
   },
   "outputs": [
    {
     "data": {
      "text/html": [
       "<div>\n",
       "<table border=\"1\" class=\"dataframe\">\n",
       "  <thead>\n",
       "    <tr style=\"text-align: right;\">\n",
       "      <th></th>\n",
       "      <th>CRIM</th>\n",
       "      <th>ZN</th>\n",
       "      <th>INDUS</th>\n",
       "      <th>CHAS</th>\n",
       "      <th>NOX</th>\n",
       "      <th>...</th>\n",
       "      <th>RAD</th>\n",
       "      <th>TAX</th>\n",
       "      <th>PTRATIO</th>\n",
       "      <th>BLACK</th>\n",
       "      <th>LSTAT</th>\n",
       "    </tr>\n",
       "  </thead>\n",
       "  <tbody>\n",
       "    <tr>\n",
       "      <th>0</th>\n",
       "      <td>0.00632</td>\n",
       "      <td>18.0</td>\n",
       "      <td>2.31</td>\n",
       "      <td>0</td>\n",
       "      <td>0.538</td>\n",
       "      <td>...</td>\n",
       "      <td>1</td>\n",
       "      <td>296</td>\n",
       "      <td>15.3</td>\n",
       "      <td>396.90</td>\n",
       "      <td>4.98</td>\n",
       "    </tr>\n",
       "    <tr>\n",
       "      <th>1</th>\n",
       "      <td>0.02731</td>\n",
       "      <td>0.0</td>\n",
       "      <td>7.07</td>\n",
       "      <td>0</td>\n",
       "      <td>0.469</td>\n",
       "      <td>...</td>\n",
       "      <td>2</td>\n",
       "      <td>242</td>\n",
       "      <td>17.8</td>\n",
       "      <td>396.90</td>\n",
       "      <td>9.14</td>\n",
       "    </tr>\n",
       "    <tr>\n",
       "      <th>2</th>\n",
       "      <td>0.02729</td>\n",
       "      <td>0.0</td>\n",
       "      <td>7.07</td>\n",
       "      <td>0</td>\n",
       "      <td>0.469</td>\n",
       "      <td>...</td>\n",
       "      <td>2</td>\n",
       "      <td>242</td>\n",
       "      <td>17.8</td>\n",
       "      <td>392.83</td>\n",
       "      <td>4.03</td>\n",
       "    </tr>\n",
       "    <tr>\n",
       "      <th>3</th>\n",
       "      <td>0.03237</td>\n",
       "      <td>0.0</td>\n",
       "      <td>2.18</td>\n",
       "      <td>0</td>\n",
       "      <td>0.458</td>\n",
       "      <td>...</td>\n",
       "      <td>3</td>\n",
       "      <td>222</td>\n",
       "      <td>18.7</td>\n",
       "      <td>394.63</td>\n",
       "      <td>2.94</td>\n",
       "    </tr>\n",
       "    <tr>\n",
       "      <th>4</th>\n",
       "      <td>0.06905</td>\n",
       "      <td>0.0</td>\n",
       "      <td>2.18</td>\n",
       "      <td>0</td>\n",
       "      <td>0.458</td>\n",
       "      <td>...</td>\n",
       "      <td>3</td>\n",
       "      <td>222</td>\n",
       "      <td>18.7</td>\n",
       "      <td>396.90</td>\n",
       "      <td>5.33</td>\n",
       "    </tr>\n",
       "    <tr>\n",
       "      <th>...</th>\n",
       "      <td>...</td>\n",
       "      <td>...</td>\n",
       "      <td>...</td>\n",
       "      <td>...</td>\n",
       "      <td>...</td>\n",
       "      <td>...</td>\n",
       "      <td>...</td>\n",
       "      <td>...</td>\n",
       "      <td>...</td>\n",
       "      <td>...</td>\n",
       "      <td>...</td>\n",
       "    </tr>\n",
       "    <tr>\n",
       "      <th>501</th>\n",
       "      <td>0.06263</td>\n",
       "      <td>0.0</td>\n",
       "      <td>11.93</td>\n",
       "      <td>0</td>\n",
       "      <td>0.573</td>\n",
       "      <td>...</td>\n",
       "      <td>1</td>\n",
       "      <td>273</td>\n",
       "      <td>21.0</td>\n",
       "      <td>391.99</td>\n",
       "      <td>9.67</td>\n",
       "    </tr>\n",
       "    <tr>\n",
       "      <th>502</th>\n",
       "      <td>0.04527</td>\n",
       "      <td>0.0</td>\n",
       "      <td>11.93</td>\n",
       "      <td>0</td>\n",
       "      <td>0.573</td>\n",
       "      <td>...</td>\n",
       "      <td>1</td>\n",
       "      <td>273</td>\n",
       "      <td>21.0</td>\n",
       "      <td>396.90</td>\n",
       "      <td>9.08</td>\n",
       "    </tr>\n",
       "    <tr>\n",
       "      <th>503</th>\n",
       "      <td>0.06076</td>\n",
       "      <td>0.0</td>\n",
       "      <td>11.93</td>\n",
       "      <td>0</td>\n",
       "      <td>0.573</td>\n",
       "      <td>...</td>\n",
       "      <td>1</td>\n",
       "      <td>273</td>\n",
       "      <td>21.0</td>\n",
       "      <td>396.90</td>\n",
       "      <td>5.64</td>\n",
       "    </tr>\n",
       "    <tr>\n",
       "      <th>504</th>\n",
       "      <td>0.10959</td>\n",
       "      <td>0.0</td>\n",
       "      <td>11.93</td>\n",
       "      <td>0</td>\n",
       "      <td>0.573</td>\n",
       "      <td>...</td>\n",
       "      <td>1</td>\n",
       "      <td>273</td>\n",
       "      <td>21.0</td>\n",
       "      <td>393.45</td>\n",
       "      <td>6.48</td>\n",
       "    </tr>\n",
       "    <tr>\n",
       "      <th>505</th>\n",
       "      <td>0.04741</td>\n",
       "      <td>0.0</td>\n",
       "      <td>11.93</td>\n",
       "      <td>0</td>\n",
       "      <td>0.573</td>\n",
       "      <td>...</td>\n",
       "      <td>1</td>\n",
       "      <td>273</td>\n",
       "      <td>21.0</td>\n",
       "      <td>396.90</td>\n",
       "      <td>7.88</td>\n",
       "    </tr>\n",
       "  </tbody>\n",
       "</table>\n",
       "<p>506 rows × 13 columns</p>\n",
       "</div>"
      ],
      "text/plain": [
       "        CRIM    ZN  INDUS  CHAS    NOX  ...    RAD  TAX  PTRATIO   BLACK  \\\n",
       "0    0.00632  18.0   2.31     0  0.538  ...      1  296     15.3  396.90   \n",
       "1    0.02731   0.0   7.07     0  0.469  ...      2  242     17.8  396.90   \n",
       "2    0.02729   0.0   7.07     0  0.469  ...      2  242     17.8  392.83   \n",
       "3    0.03237   0.0   2.18     0  0.458  ...      3  222     18.7  394.63   \n",
       "4    0.06905   0.0   2.18     0  0.458  ...      3  222     18.7  396.90   \n",
       "..       ...   ...    ...   ...    ...  ...    ...  ...      ...     ...   \n",
       "501  0.06263   0.0  11.93     0  0.573  ...      1  273     21.0  391.99   \n",
       "502  0.04527   0.0  11.93     0  0.573  ...      1  273     21.0  396.90   \n",
       "503  0.06076   0.0  11.93     0  0.573  ...      1  273     21.0  396.90   \n",
       "504  0.10959   0.0  11.93     0  0.573  ...      1  273     21.0  393.45   \n",
       "505  0.04741   0.0  11.93     0  0.573  ...      1  273     21.0  396.90   \n",
       "\n",
       "     LSTAT  \n",
       "0     4.98  \n",
       "1     9.14  \n",
       "2     4.03  \n",
       "3     2.94  \n",
       "4     5.33  \n",
       "..     ...  \n",
       "501   9.67  \n",
       "502   9.08  \n",
       "503   5.64  \n",
       "504   6.48  \n",
       "505   7.88  \n",
       "\n",
       "[506 rows x 13 columns]"
      ]
     },
     "execution_count": 17,
     "metadata": {},
     "output_type": "execute_result"
    }
   ],
   "source": [
    "X"
   ]
  },
  {
   "cell_type": "markdown",
   "metadata": {},
   "source": [
    "> ### Question 2.  Split the dataset into a training and testing sets (60%, 40%)"
   ]
  },
  {
   "cell_type": "code",
   "execution_count": 18,
   "metadata": {
    "collapsed": false
   },
   "outputs": [],
   "source": [
    "train_X, test_X, train_y, test_y = cross_validation.train_test_split(X, y, test_size = 0.4)"
   ]
  },
  {
   "cell_type": "markdown",
   "metadata": {},
   "source": [
    "> ### Question 3.  Create a decision tree (`tree.DecisionTreeRegressor`) and train the model"
   ]
  },
  {
   "cell_type": "markdown",
   "metadata": {},
   "source": [
    "(Check http://scikit-learn.org/stable/modules/generated/sklearn.tree.DecisionTreeRegressor.html as needed)"
   ]
  },
  {
   "cell_type": "code",
   "execution_count": 19,
   "metadata": {
    "collapsed": false,
    "scrolled": true
   },
   "outputs": [
    {
     "data": {
      "text/plain": [
       "DecisionTreeRegressor(criterion='mse', max_depth=None, max_features=None,\n",
       "           max_leaf_nodes=None, min_samples_leaf=1, min_samples_split=2,\n",
       "           min_weight_fraction_leaf=0.0, presort=False, random_state=None,\n",
       "           splitter='best')"
      ]
     },
     "execution_count": 19,
     "metadata": {},
     "output_type": "execute_result"
    }
   ],
   "source": [
    "model = tree.DecisionTreeRegressor()\n",
    "\n",
    "model.fit(train_X, train_y)"
   ]
  },
  {
   "cell_type": "code",
   "execution_count": 20,
   "metadata": {
    "collapsed": false
   },
   "outputs": [
    {
     "data": {
      "text/plain": [
       "1.0"
      ]
     },
     "execution_count": 20,
     "metadata": {},
     "output_type": "execute_result"
    }
   ],
   "source": [
    "model.score(train_X, train_y)"
   ]
  },
  {
   "cell_type": "markdown",
   "metadata": {},
   "source": [
    "> ### Question 4.  What are the training and testing errors?"
   ]
  },
  {
   "cell_type": "markdown",
   "metadata": {},
   "source": [
    "(Check http://scikit-learn.org/stable/modules/generated/sklearn.metrics.mean_squared_error.html as needed)"
   ]
  },
  {
   "cell_type": "code",
   "execution_count": 21,
   "metadata": {
    "collapsed": false
   },
   "outputs": [
    {
     "name": "stdout",
     "output_type": "stream",
     "text": [
      "0.0\n",
      "5.63952012073\n"
     ]
    }
   ],
   "source": [
    "train_y_hat = model.predict(train_X)\n",
    "print np.sqrt(metrics.mean_squared_error(train_y, train_y_hat))\n",
    "\n",
    "test_y_hat = model.predict(test_X)\n",
    "print np.sqrt(metrics.mean_squared_error(test_y, test_y_hat))"
   ]
  },
  {
   "cell_type": "markdown",
   "metadata": {},
   "source": [
    "Answer: .0 (training) and 5.48 (testing)"
   ]
  },
  {
   "cell_type": "markdown",
   "metadata": {},
   "source": [
    "> ### Question 5.  Retrain your model limiting the depth of the tree to 4"
   ]
  },
  {
   "cell_type": "code",
   "execution_count": 22,
   "metadata": {
    "collapsed": false
   },
   "outputs": [
    {
     "data": {
      "text/plain": [
       "DecisionTreeRegressor(criterion='mse', max_depth=4, max_features=None,\n",
       "           max_leaf_nodes=None, min_samples_leaf=1, min_samples_split=2,\n",
       "           min_weight_fraction_leaf=0.0, presort=False, random_state=None,\n",
       "           splitter='best')"
      ]
     },
     "execution_count": 22,
     "metadata": {},
     "output_type": "execute_result"
    }
   ],
   "source": [
    "model = tree.DecisionTreeRegressor(max_depth = 4)\n",
    "\n",
    "model.fit(train_X, train_y)"
   ]
  },
  {
   "cell_type": "markdown",
   "metadata": {},
   "source": [
    "> ### Question 6.  Display graphically your model"
   ]
  },
  {
   "cell_type": "code",
   "execution_count": 23,
   "metadata": {
    "collapsed": false
   },
   "outputs": [
    {
     "data": {
      "image/svg+xml": [
       "<?xml version=\"1.0\" encoding=\"UTF-8\" standalone=\"no\"?>\n",
       "<!DOCTYPE svg PUBLIC \"-//W3C//DTD SVG 1.1//EN\"\n",
       " \"http://www.w3.org/Graphics/SVG/1.1/DTD/svg11.dtd\">\n",
       "<!-- Generated by graphviz version 2.38.0 (20140413.2041)\n",
       " -->\n",
       "<!-- Title: Tree Pages: 1 -->\n",
       "<svg width=\"1624pt\" height=\"458pt\"\n",
       " viewBox=\"0.00 0.00 1624.21 458.00\" xmlns=\"http://www.w3.org/2000/svg\" xmlns:xlink=\"http://www.w3.org/1999/xlink\">\n",
       "<g id=\"graph0\" class=\"graph\" transform=\"scale(1 1) rotate(0) translate(4 454)\">\n",
       "<title>Tree</title>\n",
       "<polygon fill=\"white\" stroke=\"none\" points=\"-4,4 -4,-454 1620.21,-454 1620.21,4 -4,4\"/>\n",
       "<!-- 0 -->\n",
       "<g id=\"node1\" class=\"node\"><title>0</title>\n",
       "<polygon fill=\"none\" stroke=\"black\" points=\"753.07,-450 646.643,-450 646.643,-386 753.07,-386 753.07,-450\"/>\n",
       "<text text-anchor=\"middle\" x=\"699.856\" y=\"-434.8\" font-family=\"Times,serif\" font-size=\"14.00\">RM &lt;= 6.797</text>\n",
       "<text text-anchor=\"middle\" x=\"699.856\" y=\"-420.8\" font-family=\"Times,serif\" font-size=\"14.00\">mse = 81.5055</text>\n",
       "<text text-anchor=\"middle\" x=\"699.856\" y=\"-406.8\" font-family=\"Times,serif\" font-size=\"14.00\">samples = 303</text>\n",
       "<text text-anchor=\"middle\" x=\"699.856\" y=\"-392.8\" font-family=\"Times,serif\" font-size=\"14.00\">value = 22.5673</text>\n",
       "</g>\n",
       "<!-- 1 -->\n",
       "<g id=\"node2\" class=\"node\"><title>1</title>\n",
       "<polygon fill=\"none\" stroke=\"black\" points=\"540.787,-350 422.926,-350 422.926,-286 540.787,-286 540.787,-350\"/>\n",
       "<text text-anchor=\"middle\" x=\"481.856\" y=\"-334.8\" font-family=\"Times,serif\" font-size=\"14.00\">LSTAT &lt;= 14.405</text>\n",
       "<text text-anchor=\"middle\" x=\"481.856\" y=\"-320.8\" font-family=\"Times,serif\" font-size=\"14.00\">mse = 34.7266</text>\n",
       "<text text-anchor=\"middle\" x=\"481.856\" y=\"-306.8\" font-family=\"Times,serif\" font-size=\"14.00\">samples = 248</text>\n",
       "<text text-anchor=\"middle\" x=\"481.856\" y=\"-292.8\" font-family=\"Times,serif\" font-size=\"14.00\">value = 19.6552</text>\n",
       "</g>\n",
       "<!-- 0&#45;&gt;1 -->\n",
       "<g id=\"edge1\" class=\"edge\"><title>0&#45;&gt;1</title>\n",
       "<path fill=\"none\" stroke=\"black\" d=\"M646.528,-393.027C617.626,-380.034 581.587,-363.833 550.599,-349.902\"/>\n",
       "<polygon fill=\"black\" stroke=\"black\" points=\"551.713,-346.566 541.157,-345.658 548.843,-352.951 551.713,-346.566\"/>\n",
       "<text text-anchor=\"middle\" x=\"550.032\" y=\"-364.83\" font-family=\"Times,serif\" font-size=\"14.00\">True</text>\n",
       "</g>\n",
       "<!-- 14 -->\n",
       "<g id=\"node15\" class=\"node\"><title>14</title>\n",
       "<polygon fill=\"none\" stroke=\"black\" points=\"985.07,-350 878.643,-350 878.643,-286 985.07,-286 985.07,-350\"/>\n",
       "<text text-anchor=\"middle\" x=\"931.856\" y=\"-334.8\" font-family=\"Times,serif\" font-size=\"14.00\">RM &lt;= 7.445</text>\n",
       "<text text-anchor=\"middle\" x=\"931.856\" y=\"-320.8\" font-family=\"Times,serif\" font-size=\"14.00\">mse = 81.7784</text>\n",
       "<text text-anchor=\"middle\" x=\"931.856\" y=\"-306.8\" font-family=\"Times,serif\" font-size=\"14.00\">samples = 55</text>\n",
       "<text text-anchor=\"middle\" x=\"931.856\" y=\"-292.8\" font-family=\"Times,serif\" font-size=\"14.00\">value = 35.6982</text>\n",
       "</g>\n",
       "<!-- 0&#45;&gt;14 -->\n",
       "<g id=\"edge14\" class=\"edge\"><title>0&#45;&gt;14</title>\n",
       "<path fill=\"none\" stroke=\"black\" d=\"M753.082,-394.517C787.59,-379.94 832.704,-360.883 868.978,-345.561\"/>\n",
       "<polygon fill=\"black\" stroke=\"black\" points=\"870.627,-348.663 878.477,-341.548 867.904,-342.215 870.627,-348.663\"/>\n",
       "<text text-anchor=\"middle\" x=\"869.072\" y=\"-360.511\" font-family=\"Times,serif\" font-size=\"14.00\">False</text>\n",
       "</g>\n",
       "<!-- 2 -->\n",
       "<g id=\"node3\" class=\"node\"><title>2</title>\n",
       "<polygon fill=\"none\" stroke=\"black\" points=\"226.287,-250 115.426,-250 115.426,-186 226.287,-186 226.287,-250\"/>\n",
       "<text text-anchor=\"middle\" x=\"170.856\" y=\"-234.8\" font-family=\"Times,serif\" font-size=\"14.00\">LSTAT &lt;= 3.425</text>\n",
       "<text text-anchor=\"middle\" x=\"170.856\" y=\"-220.8\" font-family=\"Times,serif\" font-size=\"14.00\">mse = 18.2729</text>\n",
       "<text text-anchor=\"middle\" x=\"170.856\" y=\"-206.8\" font-family=\"Times,serif\" font-size=\"14.00\">samples = 151</text>\n",
       "<text text-anchor=\"middle\" x=\"170.856\" y=\"-192.8\" font-family=\"Times,serif\" font-size=\"14.00\">value = 22.8795</text>\n",
       "</g>\n",
       "<!-- 1&#45;&gt;2 -->\n",
       "<g id=\"edge2\" class=\"edge\"><title>1&#45;&gt;2</title>\n",
       "<path fill=\"none\" stroke=\"black\" d=\"M422.628,-298.336C369.343,-281.546 291.193,-256.92 236.126,-239.567\"/>\n",
       "<polygon fill=\"black\" stroke=\"black\" points=\"237.057,-236.191 226.468,-236.524 234.953,-242.867 237.057,-236.191\"/>\n",
       "</g>\n",
       "<!-- 7 -->\n",
       "<g id=\"node8\" class=\"node\"><title>7</title>\n",
       "<polygon fill=\"none\" stroke=\"black\" points=\"538.434,-250 425.279,-250 425.279,-186 538.434,-186 538.434,-250\"/>\n",
       "<text text-anchor=\"middle\" x=\"481.856\" y=\"-234.8\" font-family=\"Times,serif\" font-size=\"14.00\">CRIM &lt;= 5.7819</text>\n",
       "<text text-anchor=\"middle\" x=\"481.856\" y=\"-220.8\" font-family=\"Times,serif\" font-size=\"14.00\">mse = 18.9652</text>\n",
       "<text text-anchor=\"middle\" x=\"481.856\" y=\"-206.8\" font-family=\"Times,serif\" font-size=\"14.00\">samples = 97</text>\n",
       "<text text-anchor=\"middle\" x=\"481.856\" y=\"-192.8\" font-family=\"Times,serif\" font-size=\"14.00\">value = 14.6361</text>\n",
       "</g>\n",
       "<!-- 1&#45;&gt;7 -->\n",
       "<g id=\"edge7\" class=\"edge\"><title>1&#45;&gt;7</title>\n",
       "<path fill=\"none\" stroke=\"black\" d=\"M481.856,-285.992C481.856,-277.859 481.856,-268.959 481.856,-260.378\"/>\n",
       "<polygon fill=\"black\" stroke=\"black\" points=\"485.357,-260.142 481.856,-250.142 478.357,-260.142 485.357,-260.142\"/>\n",
       "</g>\n",
       "<!-- 3 -->\n",
       "<g id=\"node4\" class=\"node\"><title>3</title>\n",
       "<polygon fill=\"none\" stroke=\"black\" points=\"99.5698,-143 14.1431,-143 14.1431,-93 99.5698,-93 99.5698,-143\"/>\n",
       "<text text-anchor=\"middle\" x=\"56.8564\" y=\"-127.8\" font-family=\"Times,serif\" font-size=\"14.00\">mse = 0.0</text>\n",
       "<text text-anchor=\"middle\" x=\"56.8564\" y=\"-113.8\" font-family=\"Times,serif\" font-size=\"14.00\">samples = 1</text>\n",
       "<text text-anchor=\"middle\" x=\"56.8564\" y=\"-99.8\" font-family=\"Times,serif\" font-size=\"14.00\">value = 50.0</text>\n",
       "</g>\n",
       "<!-- 2&#45;&gt;3 -->\n",
       "<g id=\"edge3\" class=\"edge\"><title>2&#45;&gt;3</title>\n",
       "<path fill=\"none\" stroke=\"black\" d=\"M134.786,-185.992C121.372,-174.461 106.162,-161.385 92.7623,-149.866\"/>\n",
       "<polygon fill=\"black\" stroke=\"black\" points=\"94.9742,-147.152 85.1094,-143.288 90.411,-152.461 94.9742,-147.152\"/>\n",
       "</g>\n",
       "<!-- 4 -->\n",
       "<g id=\"node5\" class=\"node\"><title>4</title>\n",
       "<polygon fill=\"none\" stroke=\"black\" points=\"224.07,-150 117.643,-150 117.643,-86 224.07,-86 224.07,-150\"/>\n",
       "<text text-anchor=\"middle\" x=\"170.856\" y=\"-134.8\" font-family=\"Times,serif\" font-size=\"14.00\">RM &lt;= 6.542</text>\n",
       "<text text-anchor=\"middle\" x=\"170.856\" y=\"-120.8\" font-family=\"Times,serif\" font-size=\"14.00\">mse = 13.4585</text>\n",
       "<text text-anchor=\"middle\" x=\"170.856\" y=\"-106.8\" font-family=\"Times,serif\" font-size=\"14.00\">samples = 150</text>\n",
       "<text text-anchor=\"middle\" x=\"170.856\" y=\"-92.8\" font-family=\"Times,serif\" font-size=\"14.00\">value = 22.6987</text>\n",
       "</g>\n",
       "<!-- 2&#45;&gt;4 -->\n",
       "<g id=\"edge4\" class=\"edge\"><title>2&#45;&gt;4</title>\n",
       "<path fill=\"none\" stroke=\"black\" d=\"M170.856,-185.992C170.856,-177.859 170.856,-168.959 170.856,-160.378\"/>\n",
       "<polygon fill=\"black\" stroke=\"black\" points=\"174.357,-160.142 170.856,-150.142 167.357,-160.142 174.357,-160.142\"/>\n",
       "</g>\n",
       "<!-- 5 -->\n",
       "<g id=\"node6\" class=\"node\"><title>5</title>\n",
       "<polygon fill=\"none\" stroke=\"black\" points=\"99.5697,-50 0.143143,-50 0.143143,-0 99.5697,-0 99.5697,-50\"/>\n",
       "<text text-anchor=\"middle\" x=\"49.8564\" y=\"-34.8\" font-family=\"Times,serif\" font-size=\"14.00\">mse = 9.3441</text>\n",
       "<text text-anchor=\"middle\" x=\"49.8564\" y=\"-20.8\" font-family=\"Times,serif\" font-size=\"14.00\">samples = 124</text>\n",
       "<text text-anchor=\"middle\" x=\"49.8564\" y=\"-6.8\" font-family=\"Times,serif\" font-size=\"14.00\">value = 21.779</text>\n",
       "</g>\n",
       "<!-- 4&#45;&gt;5 -->\n",
       "<g id=\"edge5\" class=\"edge\"><title>4&#45;&gt;5</title>\n",
       "<path fill=\"none\" stroke=\"black\" d=\"M129.554,-85.9375C116.749,-76.3076 102.664,-65.7151 89.9437,-56.1483\"/>\n",
       "<polygon fill=\"black\" stroke=\"black\" points=\"91.9043,-53.2434 81.8085,-50.0301 87.6969,-58.8379 91.9043,-53.2434\"/>\n",
       "</g>\n",
       "<!-- 6 -->\n",
       "<g id=\"node7\" class=\"node\"><title>6</title>\n",
       "<polygon fill=\"none\" stroke=\"black\" points=\"224.07,-50 117.643,-50 117.643,-0 224.07,-0 224.07,-50\"/>\n",
       "<text text-anchor=\"middle\" x=\"170.856\" y=\"-34.8\" font-family=\"Times,serif\" font-size=\"14.00\">mse = 9.8113</text>\n",
       "<text text-anchor=\"middle\" x=\"170.856\" y=\"-20.8\" font-family=\"Times,serif\" font-size=\"14.00\">samples = 26</text>\n",
       "<text text-anchor=\"middle\" x=\"170.856\" y=\"-6.8\" font-family=\"Times,serif\" font-size=\"14.00\">value = 27.0846</text>\n",
       "</g>\n",
       "<!-- 4&#45;&gt;6 -->\n",
       "<g id=\"edge6\" class=\"edge\"><title>4&#45;&gt;6</title>\n",
       "<path fill=\"none\" stroke=\"black\" d=\"M170.856,-85.9375C170.856,-77.6833 170.856,-68.7219 170.856,-60.3053\"/>\n",
       "<polygon fill=\"black\" stroke=\"black\" points=\"174.357,-60.03 170.856,-50.0301 167.357,-60.0301 174.357,-60.03\"/>\n",
       "</g>\n",
       "<!-- 8 -->\n",
       "<g id=\"node9\" class=\"node\"><title>8</title>\n",
       "<polygon fill=\"none\" stroke=\"black\" points=\"469.07,-150 362.643,-150 362.643,-86 469.07,-86 469.07,-150\"/>\n",
       "<text text-anchor=\"middle\" x=\"415.856\" y=\"-134.8\" font-family=\"Times,serif\" font-size=\"14.00\">TAX &lt;= 305.5</text>\n",
       "<text text-anchor=\"middle\" x=\"415.856\" y=\"-120.8\" font-family=\"Times,serif\" font-size=\"14.00\">mse = 11.7792</text>\n",
       "<text text-anchor=\"middle\" x=\"415.856\" y=\"-106.8\" font-family=\"Times,serif\" font-size=\"14.00\">samples = 51</text>\n",
       "<text text-anchor=\"middle\" x=\"415.856\" y=\"-92.8\" font-family=\"Times,serif\" font-size=\"14.00\">value = 17.4196</text>\n",
       "</g>\n",
       "<!-- 7&#45;&gt;8 -->\n",
       "<g id=\"edge8\" class=\"edge\"><title>7&#45;&gt;8</title>\n",
       "<path fill=\"none\" stroke=\"black\" d=\"M460.974,-185.992C455.135,-177.323 448.709,-167.782 442.583,-158.685\"/>\n",
       "<polygon fill=\"black\" stroke=\"black\" points=\"445.319,-156.482 436.83,-150.142 439.513,-160.392 445.319,-156.482\"/>\n",
       "</g>\n",
       "<!-- 11 -->\n",
       "<g id=\"node12\" class=\"node\"><title>11</title>\n",
       "<polygon fill=\"none\" stroke=\"black\" points=\"606.934,-150 486.779,-150 486.779,-86 606.934,-86 606.934,-150\"/>\n",
       "<text text-anchor=\"middle\" x=\"546.856\" y=\"-134.8\" font-family=\"Times,serif\" font-size=\"14.00\">CRIM &lt;= 14.1434</text>\n",
       "<text text-anchor=\"middle\" x=\"546.856\" y=\"-120.8\" font-family=\"Times,serif\" font-size=\"14.00\">mse = 8.8182</text>\n",
       "<text text-anchor=\"middle\" x=\"546.856\" y=\"-106.8\" font-family=\"Times,serif\" font-size=\"14.00\">samples = 46</text>\n",
       "<text text-anchor=\"middle\" x=\"546.856\" y=\"-92.8\" font-family=\"Times,serif\" font-size=\"14.00\">value = 11.55</text>\n",
       "</g>\n",
       "<!-- 7&#45;&gt;11 -->\n",
       "<g id=\"edge11\" class=\"edge\"><title>7&#45;&gt;11</title>\n",
       "<path fill=\"none\" stroke=\"black\" d=\"M502.423,-185.992C508.173,-177.323 514.501,-167.782 520.535,-158.685\"/>\n",
       "<polygon fill=\"black\" stroke=\"black\" points=\"523.59,-160.411 526.201,-150.142 517.757,-156.541 523.59,-160.411\"/>\n",
       "</g>\n",
       "<!-- 9 -->\n",
       "<g id=\"node10\" class=\"node\"><title>9</title>\n",
       "<polygon fill=\"none\" stroke=\"black\" points=\"349.07,-50 242.643,-50 242.643,-0 349.07,-0 349.07,-50\"/>\n",
       "<text text-anchor=\"middle\" x=\"295.856\" y=\"-34.8\" font-family=\"Times,serif\" font-size=\"14.00\">mse = 5.3494</text>\n",
       "<text text-anchor=\"middle\" x=\"295.856\" y=\"-20.8\" font-family=\"Times,serif\" font-size=\"14.00\">samples = 14</text>\n",
       "<text text-anchor=\"middle\" x=\"295.856\" y=\"-6.8\" font-family=\"Times,serif\" font-size=\"14.00\">value = 20.7643</text>\n",
       "</g>\n",
       "<!-- 8&#45;&gt;9 -->\n",
       "<g id=\"edge9\" class=\"edge\"><title>8&#45;&gt;9</title>\n",
       "<path fill=\"none\" stroke=\"black\" d=\"M374.895,-85.9375C362.196,-76.3076 348.228,-65.7151 335.612,-56.1483\"/>\n",
       "<polygon fill=\"black\" stroke=\"black\" points=\"337.627,-53.2837 327.544,-50.0301 333.398,-58.8613 337.627,-53.2837\"/>\n",
       "</g>\n",
       "<!-- 10 -->\n",
       "<g id=\"node11\" class=\"node\"><title>10</title>\n",
       "<polygon fill=\"none\" stroke=\"black\" points=\"474.07,-50 367.643,-50 367.643,-0 474.07,-0 474.07,-50\"/>\n",
       "<text text-anchor=\"middle\" x=\"420.856\" y=\"-34.8\" font-family=\"Times,serif\" font-size=\"14.00\">mse = 8.3776</text>\n",
       "<text text-anchor=\"middle\" x=\"420.856\" y=\"-20.8\" font-family=\"Times,serif\" font-size=\"14.00\">samples = 37</text>\n",
       "<text text-anchor=\"middle\" x=\"420.856\" y=\"-6.8\" font-family=\"Times,serif\" font-size=\"14.00\">value = 16.1541</text>\n",
       "</g>\n",
       "<!-- 8&#45;&gt;10 -->\n",
       "<g id=\"edge10\" class=\"edge\"><title>8&#45;&gt;10</title>\n",
       "<path fill=\"none\" stroke=\"black\" d=\"M417.563,-85.9375C418.022,-77.5916 418.52,-68.5226 418.987,-60.025\"/>\n",
       "<polygon fill=\"black\" stroke=\"black\" points=\"422.482,-60.2071 419.536,-50.0301 415.493,-59.823 422.482,-60.2071\"/>\n",
       "</g>\n",
       "<!-- 12 -->\n",
       "<g id=\"node13\" class=\"node\"><title>12</title>\n",
       "<polygon fill=\"none\" stroke=\"black\" points=\"591.57,-50 492.143,-50 492.143,-0 591.57,-0 591.57,-50\"/>\n",
       "<text text-anchor=\"middle\" x=\"541.856\" y=\"-34.8\" font-family=\"Times,serif\" font-size=\"14.00\">mse = 7.8353</text>\n",
       "<text text-anchor=\"middle\" x=\"541.856\" y=\"-20.8\" font-family=\"Times,serif\" font-size=\"14.00\">samples = 25</text>\n",
       "<text text-anchor=\"middle\" x=\"541.856\" y=\"-6.8\" font-family=\"Times,serif\" font-size=\"14.00\">value = 13.044</text>\n",
       "</g>\n",
       "<!-- 11&#45;&gt;12 -->\n",
       "<g id=\"edge12\" class=\"edge\"><title>11&#45;&gt;12</title>\n",
       "<path fill=\"none\" stroke=\"black\" d=\"M545.15,-85.9375C544.691,-77.5916 544.193,-68.5226 543.726,-60.025\"/>\n",
       "<polygon fill=\"black\" stroke=\"black\" points=\"547.22,-59.823 543.177,-50.0301 540.231,-60.2071 547.22,-59.823\"/>\n",
       "</g>\n",
       "<!-- 13 -->\n",
       "<g id=\"node14\" class=\"node\"><title>13</title>\n",
       "<polygon fill=\"none\" stroke=\"black\" points=\"709.57,-50 610.143,-50 610.143,-0 709.57,-0 709.57,-50\"/>\n",
       "<text text-anchor=\"middle\" x=\"659.856\" y=\"-34.8\" font-family=\"Times,serif\" font-size=\"14.00\">mse = 4.1678</text>\n",
       "<text text-anchor=\"middle\" x=\"659.856\" y=\"-20.8\" font-family=\"Times,serif\" font-size=\"14.00\">samples = 21</text>\n",
       "<text text-anchor=\"middle\" x=\"659.856\" y=\"-6.8\" font-family=\"Times,serif\" font-size=\"14.00\">value = 9.7714</text>\n",
       "</g>\n",
       "<!-- 11&#45;&gt;13 -->\n",
       "<g id=\"edge13\" class=\"edge\"><title>11&#45;&gt;13</title>\n",
       "<path fill=\"none\" stroke=\"black\" d=\"M585.429,-85.9375C597.273,-76.3993 610.289,-65.9167 622.08,-56.4219\"/>\n",
       "<polygon fill=\"black\" stroke=\"black\" points=\"624.424,-59.0282 630.017,-50.0301 620.033,-53.5763 624.424,-59.0282\"/>\n",
       "</g>\n",
       "<!-- 15 -->\n",
       "<g id=\"node16\" class=\"node\"><title>15</title>\n",
       "<polygon fill=\"none\" stroke=\"black\" points=\"985.057,-250 878.656,-250 878.656,-186 985.057,-186 985.057,-250\"/>\n",
       "<text text-anchor=\"middle\" x=\"931.856\" y=\"-234.8\" font-family=\"Times,serif\" font-size=\"14.00\">DIS &lt;= 1.441</text>\n",
       "<text text-anchor=\"middle\" x=\"931.856\" y=\"-220.8\" font-family=\"Times,serif\" font-size=\"14.00\">mse = 34.9869</text>\n",
       "<text text-anchor=\"middle\" x=\"931.856\" y=\"-206.8\" font-family=\"Times,serif\" font-size=\"14.00\">samples = 37</text>\n",
       "<text text-anchor=\"middle\" x=\"931.856\" y=\"-192.8\" font-family=\"Times,serif\" font-size=\"14.00\">value = 30.6811</text>\n",
       "</g>\n",
       "<!-- 14&#45;&gt;15 -->\n",
       "<g id=\"edge15\" class=\"edge\"><title>14&#45;&gt;15</title>\n",
       "<path fill=\"none\" stroke=\"black\" d=\"M931.856,-285.992C931.856,-277.859 931.856,-268.959 931.856,-260.378\"/>\n",
       "<polygon fill=\"black\" stroke=\"black\" points=\"935.357,-260.142 931.856,-250.142 928.357,-260.142 935.357,-260.142\"/>\n",
       "</g>\n",
       "<!-- 22 -->\n",
       "<g id=\"node23\" class=\"node\"><title>22</title>\n",
       "<polygon fill=\"none\" stroke=\"black\" points=\"1348.21,-250 1227.51,-250 1227.51,-186 1348.21,-186 1348.21,-250\"/>\n",
       "<text text-anchor=\"middle\" x=\"1287.86\" y=\"-234.8\" font-family=\"Times,serif\" font-size=\"14.00\">PTRATIO &lt;= 17.9</text>\n",
       "<text text-anchor=\"middle\" x=\"1287.86\" y=\"-220.8\" font-family=\"Times,serif\" font-size=\"14.00\">mse = 19.8632</text>\n",
       "<text text-anchor=\"middle\" x=\"1287.86\" y=\"-206.8\" font-family=\"Times,serif\" font-size=\"14.00\">samples = 18</text>\n",
       "<text text-anchor=\"middle\" x=\"1287.86\" y=\"-192.8\" font-family=\"Times,serif\" font-size=\"14.00\">value = 46.0111</text>\n",
       "</g>\n",
       "<!-- 14&#45;&gt;22 -->\n",
       "<g id=\"edge22\" class=\"edge\"><title>14&#45;&gt;22</title>\n",
       "<path fill=\"none\" stroke=\"black\" d=\"M985.153,-302.328C1046.99,-285.305 1149.19,-257.172 1217.51,-238.366\"/>\n",
       "<polygon fill=\"black\" stroke=\"black\" points=\"1218.62,-241.69 1227.33,-235.661 1216.76,-234.941 1218.62,-241.69\"/>\n",
       "</g>\n",
       "<!-- 16 -->\n",
       "<g id=\"node17\" class=\"node\"><title>16</title>\n",
       "<polygon fill=\"none\" stroke=\"black\" points=\"925.787,-150 807.926,-150 807.926,-86 925.787,-86 925.787,-150\"/>\n",
       "<text text-anchor=\"middle\" x=\"866.856\" y=\"-134.8\" font-family=\"Times,serif\" font-size=\"14.00\">LSTAT &lt;= 15.325</text>\n",
       "<text text-anchor=\"middle\" x=\"866.856\" y=\"-120.8\" font-family=\"Times,serif\" font-size=\"14.00\">mse = 5.29</text>\n",
       "<text text-anchor=\"middle\" x=\"866.856\" y=\"-106.8\" font-family=\"Times,serif\" font-size=\"14.00\">samples = 2</text>\n",
       "<text text-anchor=\"middle\" x=\"866.856\" y=\"-92.8\" font-family=\"Times,serif\" font-size=\"14.00\">value = 12.7</text>\n",
       "</g>\n",
       "<!-- 15&#45;&gt;16 -->\n",
       "<g id=\"edge16\" class=\"edge\"><title>15&#45;&gt;16</title>\n",
       "<path fill=\"none\" stroke=\"black\" d=\"M911.29,-185.992C905.54,-177.323 899.212,-167.782 893.178,-158.685\"/>\n",
       "<polygon fill=\"black\" stroke=\"black\" points=\"895.956,-156.541 887.512,-150.142 890.123,-160.411 895.956,-156.541\"/>\n",
       "</g>\n",
       "<!-- 19 -->\n",
       "<g id=\"node20\" class=\"node\"><title>19</title>\n",
       "<polygon fill=\"none\" stroke=\"black\" points=\"1050.07,-150 943.643,-150 943.643,-86 1050.07,-86 1050.07,-150\"/>\n",
       "<text text-anchor=\"middle\" x=\"996.856\" y=\"-134.8\" font-family=\"Times,serif\" font-size=\"14.00\">LSTAT &lt;= 9.65</text>\n",
       "<text text-anchor=\"middle\" x=\"996.856\" y=\"-120.8\" font-family=\"Times,serif\" font-size=\"14.00\">mse = 17.1528</text>\n",
       "<text text-anchor=\"middle\" x=\"996.856\" y=\"-106.8\" font-family=\"Times,serif\" font-size=\"14.00\">samples = 35</text>\n",
       "<text text-anchor=\"middle\" x=\"996.856\" y=\"-92.8\" font-family=\"Times,serif\" font-size=\"14.00\">value = 31.7086</text>\n",
       "</g>\n",
       "<!-- 15&#45;&gt;19 -->\n",
       "<g id=\"edge19\" class=\"edge\"><title>15&#45;&gt;19</title>\n",
       "<path fill=\"none\" stroke=\"black\" d=\"M952.423,-185.992C958.173,-177.323 964.501,-167.782 970.535,-158.685\"/>\n",
       "<polygon fill=\"black\" stroke=\"black\" points=\"973.59,-160.411 976.201,-150.142 967.757,-156.541 973.59,-160.411\"/>\n",
       "</g>\n",
       "<!-- 17 -->\n",
       "<g id=\"node18\" class=\"node\"><title>17</title>\n",
       "<polygon fill=\"none\" stroke=\"black\" points=\"813.57,-50 728.143,-50 728.143,-0 813.57,-0 813.57,-50\"/>\n",
       "<text text-anchor=\"middle\" x=\"770.856\" y=\"-34.8\" font-family=\"Times,serif\" font-size=\"14.00\">mse = 0.0</text>\n",
       "<text text-anchor=\"middle\" x=\"770.856\" y=\"-20.8\" font-family=\"Times,serif\" font-size=\"14.00\">samples = 1</text>\n",
       "<text text-anchor=\"middle\" x=\"770.856\" y=\"-6.8\" font-family=\"Times,serif\" font-size=\"14.00\">value = 15.0</text>\n",
       "</g>\n",
       "<!-- 16&#45;&gt;17 -->\n",
       "<g id=\"edge17\" class=\"edge\"><title>16&#45;&gt;17</title>\n",
       "<path fill=\"none\" stroke=\"black\" d=\"M834.087,-85.9375C824.218,-76.5827 813.391,-66.3196 803.529,-56.9708\"/>\n",
       "<polygon fill=\"black\" stroke=\"black\" points=\"805.872,-54.3695 796.207,-50.0301 801.057,-59.4498 805.872,-54.3695\"/>\n",
       "</g>\n",
       "<!-- 18 -->\n",
       "<g id=\"node19\" class=\"node\"><title>18</title>\n",
       "<polygon fill=\"none\" stroke=\"black\" points=\"917.57,-50 832.143,-50 832.143,-0 917.57,-0 917.57,-50\"/>\n",
       "<text text-anchor=\"middle\" x=\"874.856\" y=\"-34.8\" font-family=\"Times,serif\" font-size=\"14.00\">mse = 0.0</text>\n",
       "<text text-anchor=\"middle\" x=\"874.856\" y=\"-20.8\" font-family=\"Times,serif\" font-size=\"14.00\">samples = 1</text>\n",
       "<text text-anchor=\"middle\" x=\"874.856\" y=\"-6.8\" font-family=\"Times,serif\" font-size=\"14.00\">value = 10.4</text>\n",
       "</g>\n",
       "<!-- 16&#45;&gt;18 -->\n",
       "<g id=\"edge18\" class=\"edge\"><title>16&#45;&gt;18</title>\n",
       "<path fill=\"none\" stroke=\"black\" d=\"M869.587,-85.9375C870.321,-77.5916 871.118,-68.5226 871.865,-60.025\"/>\n",
       "<polygon fill=\"black\" stroke=\"black\" points=\"875.355,-60.2982 872.744,-50.0301 868.382,-59.6851 875.355,-60.2982\"/>\n",
       "</g>\n",
       "<!-- 20 -->\n",
       "<g id=\"node21\" class=\"node\"><title>20</title>\n",
       "<polygon fill=\"none\" stroke=\"black\" points=\"1042.07,-50 935.643,-50 935.643,-0 1042.07,-0 1042.07,-50\"/>\n",
       "<text text-anchor=\"middle\" x=\"988.856\" y=\"-34.8\" font-family=\"Times,serif\" font-size=\"14.00\">mse = 14.5781</text>\n",
       "<text text-anchor=\"middle\" x=\"988.856\" y=\"-20.8\" font-family=\"Times,serif\" font-size=\"14.00\">samples = 29</text>\n",
       "<text text-anchor=\"middle\" x=\"988.856\" y=\"-6.8\" font-family=\"Times,serif\" font-size=\"14.00\">value = 32.5655</text>\n",
       "</g>\n",
       "<!-- 19&#45;&gt;20 -->\n",
       "<g id=\"edge20\" class=\"edge\"><title>19&#45;&gt;20</title>\n",
       "<path fill=\"none\" stroke=\"black\" d=\"M994.126,-85.9375C993.392,-77.5916 992.595,-68.5226 991.848,-60.025\"/>\n",
       "<polygon fill=\"black\" stroke=\"black\" points=\"995.331,-59.6851 990.969,-50.0301 988.358,-60.2982 995.331,-59.6851\"/>\n",
       "</g>\n",
       "<!-- 21 -->\n",
       "<g id=\"node22\" class=\"node\"><title>21</title>\n",
       "<polygon fill=\"none\" stroke=\"black\" points=\"1167.07,-50 1060.64,-50 1060.64,-0 1167.07,-0 1167.07,-50\"/>\n",
       "<text text-anchor=\"middle\" x=\"1113.86\" y=\"-34.8\" font-family=\"Times,serif\" font-size=\"14.00\">mse = 8.8922</text>\n",
       "<text text-anchor=\"middle\" x=\"1113.86\" y=\"-20.8\" font-family=\"Times,serif\" font-size=\"14.00\">samples = 6</text>\n",
       "<text text-anchor=\"middle\" x=\"1113.86\" y=\"-6.8\" font-family=\"Times,serif\" font-size=\"14.00\">value = 27.5667</text>\n",
       "</g>\n",
       "<!-- 19&#45;&gt;21 -->\n",
       "<g id=\"edge21\" class=\"edge\"><title>19&#45;&gt;21</title>\n",
       "<path fill=\"none\" stroke=\"black\" d=\"M1036.79,-85.9375C1049.06,-76.3993 1062.53,-65.9167 1074.74,-56.4219\"/>\n",
       "<polygon fill=\"black\" stroke=\"black\" points=\"1077.22,-58.9323 1082.96,-50.0301 1072.92,-53.4068 1077.22,-58.9323\"/>\n",
       "</g>\n",
       "<!-- 23 -->\n",
       "<g id=\"node24\" class=\"node\"><title>23</title>\n",
       "<polygon fill=\"none\" stroke=\"black\" points=\"1341.07,-150 1234.64,-150 1234.64,-86 1341.07,-86 1341.07,-150\"/>\n",
       "<text text-anchor=\"middle\" x=\"1287.86\" y=\"-134.8\" font-family=\"Times,serif\" font-size=\"14.00\">RM &lt;= 7.8255</text>\n",
       "<text text-anchor=\"middle\" x=\"1287.86\" y=\"-120.8\" font-family=\"Times,serif\" font-size=\"14.00\">mse = 10.3169</text>\n",
       "<text text-anchor=\"middle\" x=\"1287.86\" y=\"-106.8\" font-family=\"Times,serif\" font-size=\"14.00\">samples = 15</text>\n",
       "<text text-anchor=\"middle\" x=\"1287.86\" y=\"-92.8\" font-family=\"Times,serif\" font-size=\"14.00\">value = 47.3667</text>\n",
       "</g>\n",
       "<!-- 22&#45;&gt;23 -->\n",
       "<g id=\"edge23\" class=\"edge\"><title>22&#45;&gt;23</title>\n",
       "<path fill=\"none\" stroke=\"black\" d=\"M1287.86,-185.992C1287.86,-177.859 1287.86,-168.959 1287.86,-160.378\"/>\n",
       "<polygon fill=\"black\" stroke=\"black\" points=\"1291.36,-160.142 1287.86,-150.142 1284.36,-160.142 1291.36,-160.142\"/>\n",
       "</g>\n",
       "<!-- 26 -->\n",
       "<g id=\"node27\" class=\"node\"><title>26</title>\n",
       "<polygon fill=\"none\" stroke=\"black\" points=\"1516.07,-150 1409.64,-150 1409.64,-86 1516.07,-86 1516.07,-150\"/>\n",
       "<text text-anchor=\"middle\" x=\"1462.86\" y=\"-134.8\" font-family=\"Times,serif\" font-size=\"14.00\">LSTAT &lt;= 3.89</text>\n",
       "<text text-anchor=\"middle\" x=\"1462.86\" y=\"-120.8\" font-family=\"Times,serif\" font-size=\"14.00\">mse = 12.4689</text>\n",
       "<text text-anchor=\"middle\" x=\"1462.86\" y=\"-106.8\" font-family=\"Times,serif\" font-size=\"14.00\">samples = 3</text>\n",
       "<text text-anchor=\"middle\" x=\"1462.86\" y=\"-92.8\" font-family=\"Times,serif\" font-size=\"14.00\">value = 39.2333</text>\n",
       "</g>\n",
       "<!-- 22&#45;&gt;26 -->\n",
       "<g id=\"edge26\" class=\"edge\"><title>22&#45;&gt;26</title>\n",
       "<path fill=\"none\" stroke=\"black\" d=\"M1343.23,-185.992C1361.55,-175.729 1382.06,-164.244 1400.85,-153.721\"/>\n",
       "<polygon fill=\"black\" stroke=\"black\" points=\"1402.62,-156.742 1409.64,-148.802 1399.2,-150.635 1402.62,-156.742\"/>\n",
       "</g>\n",
       "<!-- 24 -->\n",
       "<g id=\"node25\" class=\"node\"><title>24</title>\n",
       "<polygon fill=\"none\" stroke=\"black\" points=\"1292.07,-50 1185.64,-50 1185.64,-0 1292.07,-0 1292.07,-50\"/>\n",
       "<text text-anchor=\"middle\" x=\"1238.86\" y=\"-34.8\" font-family=\"Times,serif\" font-size=\"14.00\">mse = 9.3412</text>\n",
       "<text text-anchor=\"middle\" x=\"1238.86\" y=\"-20.8\" font-family=\"Times,serif\" font-size=\"14.00\">samples = 7</text>\n",
       "<text text-anchor=\"middle\" x=\"1238.86\" y=\"-6.8\" font-family=\"Times,serif\" font-size=\"14.00\">value = 44.8143</text>\n",
       "</g>\n",
       "<!-- 23&#45;&gt;24 -->\n",
       "<g id=\"edge24\" class=\"edge\"><title>23&#45;&gt;24</title>\n",
       "<path fill=\"none\" stroke=\"black\" d=\"M1271.13,-85.9375C1266.44,-77.2247 1261.32,-67.724 1256.58,-58.9078\"/>\n",
       "<polygon fill=\"black\" stroke=\"black\" points=\"1259.62,-57.1754 1251.8,-50.0301 1253.46,-60.4942 1259.62,-57.1754\"/>\n",
       "</g>\n",
       "<!-- 25 -->\n",
       "<g id=\"node26\" class=\"node\"><title>25</title>\n",
       "<polygon fill=\"none\" stroke=\"black\" points=\"1401.8,-50 1309.91,-50 1309.91,-0 1401.8,-0 1401.8,-50\"/>\n",
       "<text text-anchor=\"middle\" x=\"1355.86\" y=\"-34.8\" font-family=\"Times,serif\" font-size=\"14.00\">mse = 0.4825</text>\n",
       "<text text-anchor=\"middle\" x=\"1355.86\" y=\"-20.8\" font-family=\"Times,serif\" font-size=\"14.00\">samples = 8</text>\n",
       "<text text-anchor=\"middle\" x=\"1355.86\" y=\"-6.8\" font-family=\"Times,serif\" font-size=\"14.00\">value = 49.6</text>\n",
       "</g>\n",
       "<!-- 23&#45;&gt;25 -->\n",
       "<g id=\"edge25\" class=\"edge\"><title>23&#45;&gt;25</title>\n",
       "<path fill=\"none\" stroke=\"black\" d=\"M1311.07,-85.9375C1317.78,-76.9496 1325.13,-67.1231 1331.89,-58.0747\"/>\n",
       "<polygon fill=\"black\" stroke=\"black\" points=\"1334.72,-60.1357 1337.9,-50.0301 1329.11,-55.9456 1334.72,-60.1357\"/>\n",
       "</g>\n",
       "<!-- 27 -->\n",
       "<g id=\"node28\" class=\"node\"><title>27</title>\n",
       "<polygon fill=\"none\" stroke=\"black\" points=\"1505.57,-50 1420.14,-50 1420.14,-0 1505.57,-0 1505.57,-50\"/>\n",
       "<text text-anchor=\"middle\" x=\"1462.86\" y=\"-34.8\" font-family=\"Times,serif\" font-size=\"14.00\">mse = 0.0</text>\n",
       "<text text-anchor=\"middle\" x=\"1462.86\" y=\"-20.8\" font-family=\"Times,serif\" font-size=\"14.00\">samples = 1</text>\n",
       "<text text-anchor=\"middle\" x=\"1462.86\" y=\"-6.8\" font-family=\"Times,serif\" font-size=\"14.00\">value = 43.8</text>\n",
       "</g>\n",
       "<!-- 26&#45;&gt;27 -->\n",
       "<g id=\"edge27\" class=\"edge\"><title>26&#45;&gt;27</title>\n",
       "<path fill=\"none\" stroke=\"black\" d=\"M1462.86,-85.9375C1462.86,-77.6833 1462.86,-68.7219 1462.86,-60.3053\"/>\n",
       "<polygon fill=\"black\" stroke=\"black\" points=\"1466.36,-60.03 1462.86,-50.0301 1459.36,-60.0301 1466.36,-60.03\"/>\n",
       "</g>\n",
       "<!-- 28 -->\n",
       "<g id=\"node29\" class=\"node\"><title>28</title>\n",
       "<polygon fill=\"none\" stroke=\"black\" points=\"1616.07,-50 1523.64,-50 1523.64,-0 1616.07,-0 1616.07,-50\"/>\n",
       "<text text-anchor=\"middle\" x=\"1569.86\" y=\"-34.8\" font-family=\"Times,serif\" font-size=\"14.00\">mse = 3.0625</text>\n",
       "<text text-anchor=\"middle\" x=\"1569.86\" y=\"-20.8\" font-family=\"Times,serif\" font-size=\"14.00\">samples = 2</text>\n",
       "<text text-anchor=\"middle\" x=\"1569.86\" y=\"-6.8\" font-family=\"Times,serif\" font-size=\"14.00\">value = 36.95</text>\n",
       "</g>\n",
       "<!-- 26&#45;&gt;28 -->\n",
       "<g id=\"edge28\" class=\"edge\"><title>26&#45;&gt;28</title>\n",
       "<path fill=\"none\" stroke=\"black\" d=\"M1499.38,-85.9375C1510.49,-76.491 1522.68,-66.1182 1533.76,-56.6961\"/>\n",
       "<polygon fill=\"black\" stroke=\"black\" points=\"1536.25,-59.1748 1541.6,-50.0301 1531.72,-53.8425 1536.25,-59.1748\"/>\n",
       "</g>\n",
       "</g>\n",
       "</svg>\n"
      ]
     },
     "metadata": {},
     "output_type": "display_data"
    }
   ],
   "source": [
    "# Cool, no?\n",
    "\n",
    "dot_data = externals.six.StringIO()\n",
    "tree.export_graphviz(model, out_file = dot_data, feature_names = X.columns)\n",
    "%dotstr dot_data.getvalue()"
   ]
  },
  {
   "cell_type": "markdown",
   "metadata": {},
   "source": [
    "> ### Question 7.  What are the top 5 most important features?"
   ]
  },
  {
   "cell_type": "code",
   "execution_count": 24,
   "metadata": {
    "collapsed": false
   },
   "outputs": [
    {
     "data": {
      "text/plain": [
       "[(0.68543200940496873, 'RM'),\n",
       " (0.22299591448102715, 'LSTAT'),\n",
       " (0.043307536614128506, 'CRIM'),\n",
       " (0.030984013394277907, 'DIS'),\n",
       " (0.0097846991953316597, 'TAX'),\n",
       " (0.0074958269102659994, 'PTRATIO'),\n",
       " (0.0, 'ZN'),\n",
       " (0.0, 'RAD'),\n",
       " (0.0, 'NOX'),\n",
       " (0.0, 'INDUS'),\n",
       " (0.0, 'CHAS'),\n",
       " (0.0, 'BLACK'),\n",
       " (0.0, 'AGE')]"
      ]
     },
     "execution_count": 24,
     "metadata": {},
     "output_type": "execute_result"
    }
   ],
   "source": [
    "sorted(zip(model.feature_importances_, X.columns.values), reverse = True)"
   ]
  },
  {
   "cell_type": "markdown",
   "metadata": {},
   "source": [
    "Answer: `RM`, `LSTAT`, `DIS`, `NOX`, `BLACK`"
   ]
  },
  {
   "cell_type": "markdown",
   "metadata": {},
   "source": [
    "## Part B - Classification Decision Trees"
   ]
  },
  {
   "cell_type": "markdown",
   "metadata": {},
   "source": [
    "> ### Question 8.  Let's categorize `MEDV` to 4 groups: Bottom 20% as Level 1, next 30% as Level 2, next 30% categorized as Level 3, and the top 20% as Level 4.  Please create a new variable `MEDV_Category` that stores the level number"
   ]
  },
  {
   "cell_type": "code",
   "execution_count": 25,
   "metadata": {
    "collapsed": true
   },
   "outputs": [],
   "source": [
    "level_2 = ((df.MEDV > df.MEDV.quantile(.2)) & (df.MEDV <= df.MEDV.quantile(.5)))\n",
    "level_3 = ((df.MEDV > df.MEDV.quantile(.5)) & (df.MEDV <= df.MEDV.quantile(.8)))\n",
    "level_4 = (df.MEDV > df.MEDV.quantile(.8))\n",
    "\n",
    "df['MEDV_Category'] = '1'\n",
    "df.loc[level_2, 'MEDV_Category'] = '2'\n",
    "df.loc[level_3, 'MEDV_Category'] = '3'\n",
    "df.loc[level_4, 'MEDV_Category'] = '4'"
   ]
  },
  {
   "cell_type": "markdown",
   "metadata": {},
   "source": [
    "> ### Question 9.  Create a feature matrix `X` with all features but `MEDV`.  Also create a response vector `y` with `MEDV_Category`"
   ]
  },
  {
   "cell_type": "code",
   "execution_count": 26,
   "metadata": {
    "collapsed": false
   },
   "outputs": [],
   "source": [
    "X = df[df.columns.values]\n",
    "X.drop(['MEDV', 'MEDV_Category'], axis = 1, inplace = True)\n",
    "\n",
    "y = df.MEDV_Category"
   ]
  },
  {
   "cell_type": "markdown",
   "metadata": {},
   "source": [
    "> ### Question 10.  Split again your dataset into a training and testing sets (60%, 40%)"
   ]
  },
  {
   "cell_type": "code",
   "execution_count": 27,
   "metadata": {
    "collapsed": true
   },
   "outputs": [],
   "source": [
    "train_X, test_X, train_y, test_y = cross_validation.train_test_split(X, y, test_size = 0.4)"
   ]
  },
  {
   "cell_type": "markdown",
   "metadata": {},
   "source": [
    "> ### Question 11.  Create a decision tree (`tree.DecisionTreeRegressor`) of depth 2 and with leaf nodes having a minimum of 5 observations.  Then train the model model"
   ]
  },
  {
   "cell_type": "code",
   "execution_count": 28,
   "metadata": {
    "collapsed": false
   },
   "outputs": [
    {
     "data": {
      "text/plain": [
       "DecisionTreeClassifier(class_weight=None, criterion='gini', max_depth=2,\n",
       "            max_features=None, max_leaf_nodes=None, min_samples_leaf=5,\n",
       "            min_samples_split=2, min_weight_fraction_leaf=0.0,\n",
       "            presort=False, random_state=None, splitter='best')"
      ]
     },
     "execution_count": 28,
     "metadata": {},
     "output_type": "execute_result"
    }
   ],
   "source": [
    "model = tree.DecisionTreeClassifier(max_depth = 2, min_samples_leaf = 5)\n",
    "\n",
    "model.fit(train_X, train_y)"
   ]
  },
  {
   "cell_type": "markdown",
   "metadata": {},
   "source": [
    "> ### Question 12.  What is your 10-fold cross-validation error on your training set?"
   ]
  },
  {
   "cell_type": "code",
   "execution_count": 29,
   "metadata": {
    "collapsed": false
   },
   "outputs": [
    {
     "data": {
      "text/plain": [
       "0.5716044552870192"
      ]
     },
     "execution_count": 29,
     "metadata": {},
     "output_type": "execute_result"
    }
   ],
   "source": [
    "cross_validation.cross_val_score(model, train_X, train_y, cv = 10).mean()"
   ]
  },
  {
   "cell_type": "markdown",
   "metadata": {},
   "source": [
    "> ### Question 13.  Display graphically your model"
   ]
  },
  {
   "cell_type": "code",
   "execution_count": 30,
   "metadata": {
    "collapsed": false
   },
   "outputs": [
    {
     "data": {
      "image/svg+xml": [
       "<?xml version=\"1.0\" encoding=\"UTF-8\" standalone=\"no\"?>\n",
       "<!DOCTYPE svg PUBLIC \"-//W3C//DTD SVG 1.1//EN\"\n",
       " \"http://www.w3.org/Graphics/SVG/1.1/DTD/svg11.dtd\">\n",
       "<!-- Generated by graphviz version 2.38.0 (20140413.2041)\n",
       " -->\n",
       "<!-- Title: Tree Pages: 1 -->\n",
       "<svg width=\"606pt\" height=\"258pt\"\n",
       " viewBox=\"0.00 0.00 605.54 258.00\" xmlns=\"http://www.w3.org/2000/svg\" xmlns:xlink=\"http://www.w3.org/1999/xlink\">\n",
       "<g id=\"graph0\" class=\"graph\" transform=\"scale(1 1) rotate(0) translate(4 254)\">\n",
       "<title>Tree</title>\n",
       "<polygon fill=\"white\" stroke=\"none\" points=\"-4,4 -4,-254 601.537,-254 601.537,4 -4,4\"/>\n",
       "<!-- 0 -->\n",
       "<g id=\"node1\" class=\"node\"><title>0</title>\n",
       "<polygon fill=\"none\" stroke=\"black\" points=\"376.806,-250 229.731,-250 229.731,-186 376.806,-186 376.806,-250\"/>\n",
       "<text text-anchor=\"middle\" x=\"303.269\" y=\"-234.8\" font-family=\"Times,serif\" font-size=\"14.00\">LSTAT &lt;= 11.675</text>\n",
       "<text text-anchor=\"middle\" x=\"303.269\" y=\"-220.8\" font-family=\"Times,serif\" font-size=\"14.00\">gini = 0.7415</text>\n",
       "<text text-anchor=\"middle\" x=\"303.269\" y=\"-206.8\" font-family=\"Times,serif\" font-size=\"14.00\">samples = 303</text>\n",
       "<text text-anchor=\"middle\" x=\"303.269\" y=\"-192.8\" font-family=\"Times,serif\" font-size=\"14.00\">value = [64, 95, 83, 61]</text>\n",
       "</g>\n",
       "<!-- 1 -->\n",
       "<g id=\"node2\" class=\"node\"><title>1</title>\n",
       "<polygon fill=\"none\" stroke=\"black\" points=\"294.306,-150 154.231,-150 154.231,-86 294.306,-86 294.306,-150\"/>\n",
       "<text text-anchor=\"middle\" x=\"224.269\" y=\"-134.8\" font-family=\"Times,serif\" font-size=\"14.00\">RM &lt;= 6.6565</text>\n",
       "<text text-anchor=\"middle\" x=\"224.269\" y=\"-120.8\" font-family=\"Times,serif\" font-size=\"14.00\">gini = 0.6266</text>\n",
       "<text text-anchor=\"middle\" x=\"224.269\" y=\"-106.8\" font-family=\"Times,serif\" font-size=\"14.00\">samples = 150</text>\n",
       "<text text-anchor=\"middle\" x=\"224.269\" y=\"-92.8\" font-family=\"Times,serif\" font-size=\"14.00\">value = [1, 24, 65, 60]</text>\n",
       "</g>\n",
       "<!-- 0&#45;&gt;1 -->\n",
       "<g id=\"edge1\" class=\"edge\"><title>0&#45;&gt;1</title>\n",
       "<path fill=\"none\" stroke=\"black\" d=\"M278.272,-185.992C271.14,-177.144 263.275,-167.388 255.806,-158.123\"/>\n",
       "<polygon fill=\"black\" stroke=\"black\" points=\"258.374,-155.731 249.373,-150.142 252.924,-160.124 258.374,-155.731\"/>\n",
       "<text text-anchor=\"middle\" x=\"246.705\" y=\"-170.8\" font-family=\"Times,serif\" font-size=\"14.00\">True</text>\n",
       "</g>\n",
       "<!-- 4 -->\n",
       "<g id=\"node5\" class=\"node\"><title>4</title>\n",
       "<polygon fill=\"none\" stroke=\"black\" points=\"453.306,-150 313.231,-150 313.231,-86 453.306,-86 453.306,-150\"/>\n",
       "<text text-anchor=\"middle\" x=\"383.269\" y=\"-134.8\" font-family=\"Times,serif\" font-size=\"14.00\">CRIM &lt;= 5.3671</text>\n",
       "<text text-anchor=\"middle\" x=\"383.269\" y=\"-120.8\" font-family=\"Times,serif\" font-size=\"14.00\">gini = 0.6012</text>\n",
       "<text text-anchor=\"middle\" x=\"383.269\" y=\"-106.8\" font-family=\"Times,serif\" font-size=\"14.00\">samples = 153</text>\n",
       "<text text-anchor=\"middle\" x=\"383.269\" y=\"-92.8\" font-family=\"Times,serif\" font-size=\"14.00\">value = [63, 71, 18, 1]</text>\n",
       "</g>\n",
       "<!-- 0&#45;&gt;4 -->\n",
       "<g id=\"edge4\" class=\"edge\"><title>0&#45;&gt;4</title>\n",
       "<path fill=\"none\" stroke=\"black\" d=\"M328.581,-185.992C335.804,-177.144 343.768,-167.388 351.332,-158.123\"/>\n",
       "<polygon fill=\"black\" stroke=\"black\" points=\"354.234,-160.102 357.846,-150.142 348.811,-155.676 354.234,-160.102\"/>\n",
       "<text text-anchor=\"middle\" x=\"360.361\" y=\"-170.816\" font-family=\"Times,serif\" font-size=\"14.00\">False</text>\n",
       "</g>\n",
       "<!-- 2 -->\n",
       "<g id=\"node3\" class=\"node\"><title>2</title>\n",
       "<polygon fill=\"none\" stroke=\"black\" points=\"140.306,-50 0.230685,-50 0.230685,-0 140.306,-0 140.306,-50\"/>\n",
       "<text text-anchor=\"middle\" x=\"70.2686\" y=\"-34.8\" font-family=\"Times,serif\" font-size=\"14.00\">gini = 0.5498</text>\n",
       "<text text-anchor=\"middle\" x=\"70.2686\" y=\"-20.8\" font-family=\"Times,serif\" font-size=\"14.00\">samples = 88</text>\n",
       "<text text-anchor=\"middle\" x=\"70.2686\" y=\"-6.8\" font-family=\"Times,serif\" font-size=\"14.00\">value = [1, 24, 53, 10]</text>\n",
       "</g>\n",
       "<!-- 1&#45;&gt;2 -->\n",
       "<g id=\"edge2\" class=\"edge\"><title>1&#45;&gt;2</title>\n",
       "<path fill=\"none\" stroke=\"black\" d=\"M171.701,-85.9375C154.939,-76.0324 136.453,-65.109 119.905,-55.3308\"/>\n",
       "<polygon fill=\"black\" stroke=\"black\" points=\"121.325,-52.1042 110.935,-50.0301 117.764,-58.1307 121.325,-52.1042\"/>\n",
       "</g>\n",
       "<!-- 3 -->\n",
       "<g id=\"node4\" class=\"node\"><title>3</title>\n",
       "<polygon fill=\"none\" stroke=\"black\" points=\"291.806,-50 158.731,-50 158.731,-0 291.806,-0 291.806,-50\"/>\n",
       "<text text-anchor=\"middle\" x=\"225.269\" y=\"-34.8\" font-family=\"Times,serif\" font-size=\"14.00\">gini = 0.3122</text>\n",
       "<text text-anchor=\"middle\" x=\"225.269\" y=\"-20.8\" font-family=\"Times,serif\" font-size=\"14.00\">samples = 62</text>\n",
       "<text text-anchor=\"middle\" x=\"225.269\" y=\"-6.8\" font-family=\"Times,serif\" font-size=\"14.00\">value = [0, 0, 12, 50]</text>\n",
       "</g>\n",
       "<!-- 1&#45;&gt;3 -->\n",
       "<g id=\"edge3\" class=\"edge\"><title>1&#45;&gt;3</title>\n",
       "<path fill=\"none\" stroke=\"black\" d=\"M224.61,-85.9375C224.701,-77.6833 224.799,-68.7219 224.892,-60.3053\"/>\n",
       "<polygon fill=\"black\" stroke=\"black\" points=\"228.394,-60.068 225.004,-50.0301 221.395,-59.991 228.394,-60.068\"/>\n",
       "</g>\n",
       "<!-- 5 -->\n",
       "<g id=\"node6\" class=\"node\"><title>5</title>\n",
       "<polygon fill=\"none\" stroke=\"black\" points=\"452.306,-50 312.231,-50 312.231,-0 452.306,-0 452.306,-50\"/>\n",
       "<text text-anchor=\"middle\" x=\"382.269\" y=\"-34.8\" font-family=\"Times,serif\" font-size=\"14.00\">gini = 0.517</text>\n",
       "<text text-anchor=\"middle\" x=\"382.269\" y=\"-20.8\" font-family=\"Times,serif\" font-size=\"14.00\">samples = 95</text>\n",
       "<text text-anchor=\"middle\" x=\"382.269\" y=\"-6.8\" font-family=\"Times,serif\" font-size=\"14.00\">value = [17, 62, 15, 1]</text>\n",
       "</g>\n",
       "<!-- 4&#45;&gt;5 -->\n",
       "<g id=\"edge5\" class=\"edge\"><title>4&#45;&gt;5</title>\n",
       "<path fill=\"none\" stroke=\"black\" d=\"M382.927,-85.9375C382.837,-77.6833 382.738,-68.7219 382.646,-60.3053\"/>\n",
       "<polygon fill=\"black\" stroke=\"black\" points=\"386.142,-59.991 382.533,-50.0301 379.143,-60.068 386.142,-59.991\"/>\n",
       "</g>\n",
       "<!-- 6 -->\n",
       "<g id=\"node7\" class=\"node\"><title>6</title>\n",
       "<polygon fill=\"none\" stroke=\"black\" points=\"597.307,-50 471.231,-50 471.231,-0 597.307,-0 597.307,-50\"/>\n",
       "<text text-anchor=\"middle\" x=\"534.269\" y=\"-34.8\" font-family=\"Times,serif\" font-size=\"14.00\">gini = 0.3442</text>\n",
       "<text text-anchor=\"middle\" x=\"534.269\" y=\"-20.8\" font-family=\"Times,serif\" font-size=\"14.00\">samples = 58</text>\n",
       "<text text-anchor=\"middle\" x=\"534.269\" y=\"-6.8\" font-family=\"Times,serif\" font-size=\"14.00\">value = [46, 9, 3, 0]</text>\n",
       "</g>\n",
       "<!-- 4&#45;&gt;6 -->\n",
       "<g id=\"edge6\" class=\"edge\"><title>4&#45;&gt;6</title>\n",
       "<path fill=\"none\" stroke=\"black\" d=\"M434.812,-85.9375C451.248,-76.0324 469.373,-65.109 485.599,-55.3308\"/>\n",
       "<polygon fill=\"black\" stroke=\"black\" points=\"487.636,-58.1895 494.394,-50.0301 484.023,-52.194 487.636,-58.1895\"/>\n",
       "</g>\n",
       "</g>\n",
       "</svg>\n"
      ]
     },
     "metadata": {},
     "output_type": "display_data"
    }
   ],
   "source": [
    "dot_data = externals.six.StringIO()\n",
    "tree.export_graphviz(model, out_file = dot_data, feature_names = X.columns)\n",
    "%dotstr dot_data.getvalue()"
   ]
  },
  {
   "cell_type": "markdown",
   "metadata": {},
   "source": [
    "> ### Question 14.  What are the features used by the model?"
   ]
  },
  {
   "cell_type": "code",
   "execution_count": 31,
   "metadata": {
    "collapsed": false
   },
   "outputs": [
    {
     "data": {
      "text/plain": [
       "[(0.44055812385952675, 'LSTAT'),\n",
       " (0.29872812751886696, 'RM'),\n",
       " (0.26071374862160634, 'CRIM'),\n",
       " (0.0, 'ZN'),\n",
       " (0.0, 'TAX'),\n",
       " (0.0, 'RAD'),\n",
       " (0.0, 'PTRATIO'),\n",
       " (0.0, 'NOX'),\n",
       " (0.0, 'INDUS'),\n",
       " (0.0, 'DIS'),\n",
       " (0.0, 'CHAS'),\n",
       " (0.0, 'BLACK'),\n",
       " (0.0, 'AGE')]"
      ]
     },
     "execution_count": 31,
     "metadata": {},
     "output_type": "execute_result"
    }
   ],
   "source": [
    "sorted(zip(model.feature_importances_, X.columns.values), reverse = True)"
   ]
  },
  {
   "cell_type": "markdown",
   "metadata": {},
   "source": [
    "Answer: `LSTAT`, `RM`, `CRIM`"
   ]
  },
  {
   "cell_type": "markdown",
   "metadata": {},
   "source": [
    "## Part C - Random Forest with Categorical Variables"
   ]
  },
  {
   "cell_type": "markdown",
   "metadata": {},
   "source": [
    "> ### Question 15.  Create a Random Forest Classifier with `n_estimators = 1000, max_features = 4, min_samples_leaf = 5, oob_score = True`"
   ]
  },
  {
   "cell_type": "markdown",
   "metadata": {},
   "source": [
    "(Check http://scikit-learn.org/stable/modules/generated/sklearn.ensemble.RandomForestClassifier.html as needed)"
   ]
  },
  {
   "cell_type": "code",
   "execution_count": 32,
   "metadata": {
    "collapsed": false
   },
   "outputs": [
    {
     "data": {
      "text/plain": [
       "RandomForestClassifier(bootstrap=True, class_weight=None, criterion='gini',\n",
       "            max_depth=None, max_features=4, max_leaf_nodes=None,\n",
       "            min_samples_leaf=5, min_samples_split=2,\n",
       "            min_weight_fraction_leaf=0.0, n_estimators=1000, n_jobs=1,\n",
       "            oob_score=True, random_state=None, verbose=0, warm_start=False)"
      ]
     },
     "execution_count": 32,
     "metadata": {},
     "output_type": "execute_result"
    }
   ],
   "source": [
    "model = ensemble.RandomForestClassifier(n_estimators = 1000, max_features = 4, min_samples_leaf = 5, oob_score = True)\n",
    "\n",
    "model.fit(train_X, train_y)"
   ]
  },
  {
   "cell_type": "markdown",
   "metadata": {},
   "source": [
    "> ### Question 16.  What is the Out-of-bag (OOB) error?"
   ]
  },
  {
   "cell_type": "markdown",
   "metadata": {},
   "source": [
    "(We will cover this in a future lecture... but Out-of-bag (OOB) error, also called out-of-bag estimate, is a method of measuring the prediction error of random forestswhen sub-sample data was used for training.  OOB is the mean prediction error on each training sample $x_i$, using only the trees that did not have $x_i$ in their bootstrap sample)"
   ]
  },
  {
   "cell_type": "code",
   "execution_count": 33,
   "metadata": {
    "collapsed": false
   },
   "outputs": [
    {
     "data": {
      "text/plain": [
       "0.71617161716171618"
      ]
     },
     "execution_count": 33,
     "metadata": {},
     "output_type": "execute_result"
    }
   ],
   "source": [
    "model.oob_score_"
   ]
  },
  {
   "cell_type": "markdown",
   "metadata": {},
   "source": [
    "Answer: ~.7 or ~70%"
   ]
  },
  {
   "cell_type": "markdown",
   "metadata": {},
   "source": [
    "> ### Question 17.  What is your 10-fold cross-validation error on your training set?"
   ]
  },
  {
   "cell_type": "code",
   "execution_count": 34,
   "metadata": {
    "collapsed": false
   },
   "outputs": [
    {
     "data": {
      "text/plain": [
       "0.70773367714969504"
      ]
     },
     "execution_count": 34,
     "metadata": {},
     "output_type": "execute_result"
    }
   ],
   "source": [
    "cross_validation.cross_val_score(model, train_X, train_y, cv = 10).mean()"
   ]
  },
  {
   "cell_type": "markdown",
   "metadata": {},
   "source": [
    "Answer: ~.7 or ~70%"
   ]
  }
 ],
 "metadata": {
  "kernelspec": {
   "display_name": "Python 2",
   "language": "python",
   "name": "python2"
  },
  "language_info": {
   "codemirror_mode": {
    "name": "ipython",
    "version": 2
   },
   "file_extension": ".py",
   "mimetype": "text/x-python",
   "name": "python",
   "nbconvert_exporter": "python",
   "pygments_lexer": "ipython2",
   "version": "2.7.11"
  }
 },
 "nbformat": 4,
 "nbformat_minor": 0
}
