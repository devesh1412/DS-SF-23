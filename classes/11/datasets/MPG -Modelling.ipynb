{
 "cells": [
  {
   "cell_type": "code",
   "execution_count": 97,
   "metadata": {
    "collapsed": true
   },
   "outputs": [],
   "source": [
    "import os\n",
    "import numpy as np\n",
    "import pandas as pd\n",
    "import csv\n",
    "import matplotlib.pyplot as plt\n",
    "import seaborn as sns\n",
    "import statsmodels.api as sm\n",
    "import statsmodels.formula.api as smf\n",
    "from sklearn import feature_selection, linear_model\n",
    "\n",
    "pd.set_option('display.max_rows', 10)\n",
    "pd.set_option('display.notebook_repr_html', True)\n",
    "pd.set_option('display.max_columns', 10)\n",
    "\n",
    "%matplotlib inline\n",
    "plt.style.use('ggplot')"
   ]
  },
  {
   "cell_type": "code",
   "execution_count": 98,
   "metadata": {
    "collapsed": false
   },
   "outputs": [],
   "source": [
    "df = pd.read_csv('auto-mpg.csv')\n"
   ]
  },
  {
   "cell_type": "code",
   "execution_count": 99,
   "metadata": {
    "collapsed": false
   },
   "outputs": [],
   "source": [
    "df['gpm'] = 1. / df.mpg"
   ]
  },
  {
   "cell_type": "code",
   "execution_count": 100,
   "metadata": {
    "collapsed": false
   },
   "outputs": [
    {
     "data": {
      "text/html": [
       "<div>\n",
       "<table border=\"1\" class=\"dataframe\">\n",
       "  <thead>\n",
       "    <tr style=\"text-align: right;\">\n",
       "      <th></th>\n",
       "      <th>mpg</th>\n",
       "      <th>cylinders</th>\n",
       "      <th>displacement</th>\n",
       "      <th>horsepower</th>\n",
       "      <th>weight</th>\n",
       "      <th>acceleration</th>\n",
       "      <th>model_year</th>\n",
       "      <th>origin</th>\n",
       "      <th>car_name</th>\n",
       "      <th>gpm</th>\n",
       "    </tr>\n",
       "  </thead>\n",
       "  <tbody>\n",
       "    <tr>\n",
       "      <th>0</th>\n",
       "      <td>18.0</td>\n",
       "      <td>8</td>\n",
       "      <td>307.0</td>\n",
       "      <td>130.0</td>\n",
       "      <td>3504.0</td>\n",
       "      <td>12.0</td>\n",
       "      <td>70</td>\n",
       "      <td>1</td>\n",
       "      <td>chevrolet chevelle malibu</td>\n",
       "      <td>0.055556</td>\n",
       "    </tr>\n",
       "    <tr>\n",
       "      <th>1</th>\n",
       "      <td>15.0</td>\n",
       "      <td>8</td>\n",
       "      <td>350.0</td>\n",
       "      <td>165.0</td>\n",
       "      <td>3693.0</td>\n",
       "      <td>11.5</td>\n",
       "      <td>70</td>\n",
       "      <td>1</td>\n",
       "      <td>buick skylark 320</td>\n",
       "      <td>0.066667</td>\n",
       "    </tr>\n",
       "    <tr>\n",
       "      <th>2</th>\n",
       "      <td>18.0</td>\n",
       "      <td>8</td>\n",
       "      <td>318.0</td>\n",
       "      <td>150.0</td>\n",
       "      <td>3436.0</td>\n",
       "      <td>11.0</td>\n",
       "      <td>70</td>\n",
       "      <td>1</td>\n",
       "      <td>plymouth satellite</td>\n",
       "      <td>0.055556</td>\n",
       "    </tr>\n",
       "    <tr>\n",
       "      <th>3</th>\n",
       "      <td>16.0</td>\n",
       "      <td>8</td>\n",
       "      <td>304.0</td>\n",
       "      <td>150.0</td>\n",
       "      <td>3433.0</td>\n",
       "      <td>12.0</td>\n",
       "      <td>70</td>\n",
       "      <td>1</td>\n",
       "      <td>amc rebel sst</td>\n",
       "      <td>0.062500</td>\n",
       "    </tr>\n",
       "    <tr>\n",
       "      <th>4</th>\n",
       "      <td>17.0</td>\n",
       "      <td>8</td>\n",
       "      <td>302.0</td>\n",
       "      <td>140.0</td>\n",
       "      <td>3449.0</td>\n",
       "      <td>10.5</td>\n",
       "      <td>70</td>\n",
       "      <td>1</td>\n",
       "      <td>ford torino</td>\n",
       "      <td>0.058824</td>\n",
       "    </tr>\n",
       "  </tbody>\n",
       "</table>\n",
       "</div>"
      ],
      "text/plain": [
       "    mpg  cylinders  displacement  horsepower  weight  acceleration  \\\n",
       "0  18.0          8         307.0       130.0  3504.0          12.0   \n",
       "1  15.0          8         350.0       165.0  3693.0          11.5   \n",
       "2  18.0          8         318.0       150.0  3436.0          11.0   \n",
       "3  16.0          8         304.0       150.0  3433.0          12.0   \n",
       "4  17.0          8         302.0       140.0  3449.0          10.5   \n",
       "\n",
       "   model_year  origin                   car_name       gpm  \n",
       "0          70       1  chevrolet chevelle malibu  0.055556  \n",
       "1          70       1          buick skylark 320  0.066667  \n",
       "2          70       1         plymouth satellite  0.055556  \n",
       "3          70       1              amc rebel sst  0.062500  \n",
       "4          70       1                ford torino  0.058824  "
      ]
     },
     "execution_count": 100,
     "metadata": {},
     "output_type": "execute_result"
    }
   ],
   "source": [
    "df.head()"
   ]
  },
  {
   "cell_type": "markdown",
   "metadata": {},
   "source": [
    "Ivan's comment- Drop the cylinders"
   ]
  },
  {
   "cell_type": "code",
   "execution_count": 101,
   "metadata": {
    "collapsed": false
   },
   "outputs": [],
   "source": [
    "df.drop('cylinders',axis = 1,inplace='True')\n"
   ]
  },
  {
   "cell_type": "code",
   "execution_count": 103,
   "metadata": {
    "collapsed": false
   },
   "outputs": [
    {
     "data": {
      "text/html": [
       "<div>\n",
       "<table border=\"1\" class=\"dataframe\">\n",
       "  <thead>\n",
       "    <tr style=\"text-align: right;\">\n",
       "      <th></th>\n",
       "      <th>mpg</th>\n",
       "      <th>displacement</th>\n",
       "      <th>horsepower</th>\n",
       "      <th>weight</th>\n",
       "      <th>acceleration</th>\n",
       "      <th>model_year</th>\n",
       "      <th>origin</th>\n",
       "      <th>gpm</th>\n",
       "    </tr>\n",
       "  </thead>\n",
       "  <tbody>\n",
       "    <tr>\n",
       "      <th>mpg</th>\n",
       "      <td>1.000000</td>\n",
       "      <td>-0.804203</td>\n",
       "      <td>-0.778427</td>\n",
       "      <td>-0.831741</td>\n",
       "      <td>0.420289</td>\n",
       "      <td>0.579267</td>\n",
       "      <td>0.563450</td>\n",
       "      <td>-0.935364</td>\n",
       "    </tr>\n",
       "    <tr>\n",
       "      <th>displacement</th>\n",
       "      <td>-0.804203</td>\n",
       "      <td>1.000000</td>\n",
       "      <td>0.897257</td>\n",
       "      <td>0.932824</td>\n",
       "      <td>-0.543684</td>\n",
       "      <td>-0.370164</td>\n",
       "      <td>-0.609409</td>\n",
       "      <td>0.866631</td>\n",
       "    </tr>\n",
       "    <tr>\n",
       "      <th>horsepower</th>\n",
       "      <td>-0.778427</td>\n",
       "      <td>0.897257</td>\n",
       "      <td>1.000000</td>\n",
       "      <td>0.864538</td>\n",
       "      <td>-0.689196</td>\n",
       "      <td>-0.416361</td>\n",
       "      <td>-0.455171</td>\n",
       "      <td>0.854809</td>\n",
       "    </tr>\n",
       "    <tr>\n",
       "      <th>weight</th>\n",
       "      <td>-0.831741</td>\n",
       "      <td>0.932824</td>\n",
       "      <td>0.864538</td>\n",
       "      <td>1.000000</td>\n",
       "      <td>-0.417457</td>\n",
       "      <td>-0.306564</td>\n",
       "      <td>-0.581024</td>\n",
       "      <td>0.885219</td>\n",
       "    </tr>\n",
       "    <tr>\n",
       "      <th>acceleration</th>\n",
       "      <td>0.420289</td>\n",
       "      <td>-0.543684</td>\n",
       "      <td>-0.689196</td>\n",
       "      <td>-0.417457</td>\n",
       "      <td>1.000000</td>\n",
       "      <td>0.288137</td>\n",
       "      <td>0.205873</td>\n",
       "      <td>-0.455750</td>\n",
       "    </tr>\n",
       "    <tr>\n",
       "      <th>model_year</th>\n",
       "      <td>0.579267</td>\n",
       "      <td>-0.370164</td>\n",
       "      <td>-0.416361</td>\n",
       "      <td>-0.306564</td>\n",
       "      <td>0.288137</td>\n",
       "      <td>1.000000</td>\n",
       "      <td>0.180662</td>\n",
       "      <td>-0.557427</td>\n",
       "    </tr>\n",
       "    <tr>\n",
       "      <th>origin</th>\n",
       "      <td>0.563450</td>\n",
       "      <td>-0.609409</td>\n",
       "      <td>-0.455171</td>\n",
       "      <td>-0.581024</td>\n",
       "      <td>0.205873</td>\n",
       "      <td>0.180662</td>\n",
       "      <td>1.000000</td>\n",
       "      <td>-0.530213</td>\n",
       "    </tr>\n",
       "    <tr>\n",
       "      <th>gpm</th>\n",
       "      <td>-0.935364</td>\n",
       "      <td>0.866631</td>\n",
       "      <td>0.854809</td>\n",
       "      <td>0.885219</td>\n",
       "      <td>-0.455750</td>\n",
       "      <td>-0.557427</td>\n",
       "      <td>-0.530213</td>\n",
       "      <td>1.000000</td>\n",
       "    </tr>\n",
       "  </tbody>\n",
       "</table>\n",
       "</div>"
      ],
      "text/plain": [
       "                   mpg  displacement  horsepower    weight  acceleration  \\\n",
       "mpg           1.000000     -0.804203   -0.778427 -0.831741      0.420289   \n",
       "displacement -0.804203      1.000000    0.897257  0.932824     -0.543684   \n",
       "horsepower   -0.778427      0.897257    1.000000  0.864538     -0.689196   \n",
       "weight       -0.831741      0.932824    0.864538  1.000000     -0.417457   \n",
       "acceleration  0.420289     -0.543684   -0.689196 -0.417457      1.000000   \n",
       "model_year    0.579267     -0.370164   -0.416361 -0.306564      0.288137   \n",
       "origin        0.563450     -0.609409   -0.455171 -0.581024      0.205873   \n",
       "gpm          -0.935364      0.866631    0.854809  0.885219     -0.455750   \n",
       "\n",
       "              model_year    origin       gpm  \n",
       "mpg             0.579267  0.563450 -0.935364  \n",
       "displacement   -0.370164 -0.609409  0.866631  \n",
       "horsepower     -0.416361 -0.455171  0.854809  \n",
       "weight         -0.306564 -0.581024  0.885219  \n",
       "acceleration    0.288137  0.205873 -0.455750  \n",
       "model_year      1.000000  0.180662 -0.557427  \n",
       "origin          0.180662  1.000000 -0.530213  \n",
       "gpm            -0.557427 -0.530213  1.000000  "
      ]
     },
     "execution_count": 103,
     "metadata": {},
     "output_type": "execute_result"
    }
   ],
   "source": [
    "df.corr()"
   ]
  },
  {
   "cell_type": "code",
   "execution_count": null,
   "metadata": {
    "collapsed": false
   },
   "outputs": [],
   "source": [
    "df[['weight','gpm']].plot(x='weight',y='gpm',kind='scatter',color='green',label='Weight&MPG')"
   ]
  },
  {
   "cell_type": "code",
   "execution_count": null,
   "metadata": {
    "collapsed": false
   },
   "outputs": [],
   "source": [
    "df[['horsepower','gpm']].plot(x='horsepower',y='gpm',kind='scatter',color='black',label='HP&mpg')"
   ]
  },
  {
   "cell_type": "code",
   "execution_count": null,
   "metadata": {
    "collapsed": false
   },
   "outputs": [],
   "source": [
    "df[['acceleration','gpm']].plot(x='acceleration',y='gpm',kind='scatter',color='blue',label='Acceleration&mpg')"
   ]
  },
  {
   "cell_type": "code",
   "execution_count": null,
   "metadata": {
    "collapsed": false
   },
   "outputs": [],
   "source": [
    "df[['cylinders','gpm']].plot(x='cylinders',y='gpm',kind='scatter',color='blue')"
   ]
  },
  {
   "cell_type": "code",
   "execution_count": null,
   "metadata": {
    "collapsed": false
   },
   "outputs": [],
   "source": [
    "df[['origin','mpg']].plot(x='origin',y='mpg',kind='scatter',color='red',label='origin&mpg')"
   ]
  },
  {
   "cell_type": "code",
   "execution_count": 104,
   "metadata": {
    "collapsed": true
   },
   "outputs": [],
   "source": [
    "df[ ['displacement_sqrt', 'horsepower_sqrt'] ] = df[ ['displacement', 'horsepower'] ].apply(np.sqrt)"
   ]
  },
  {
   "cell_type": "code",
   "execution_count": 105,
   "metadata": {
    "collapsed": false
   },
   "outputs": [
    {
     "data": {
      "text/html": [
       "<div>\n",
       "<table border=\"1\" class=\"dataframe\">\n",
       "  <thead>\n",
       "    <tr style=\"text-align: right;\">\n",
       "      <th></th>\n",
       "      <th>mpg</th>\n",
       "      <th>displacement</th>\n",
       "      <th>horsepower</th>\n",
       "      <th>weight</th>\n",
       "      <th>acceleration</th>\n",
       "      <th>...</th>\n",
       "      <th>origin</th>\n",
       "      <th>car_name</th>\n",
       "      <th>gpm</th>\n",
       "      <th>displacement_sqrt</th>\n",
       "      <th>horsepower_sqrt</th>\n",
       "    </tr>\n",
       "  </thead>\n",
       "  <tbody>\n",
       "    <tr>\n",
       "      <th>0</th>\n",
       "      <td>18.0</td>\n",
       "      <td>307.0</td>\n",
       "      <td>130.0</td>\n",
       "      <td>3504.0</td>\n",
       "      <td>12.0</td>\n",
       "      <td>...</td>\n",
       "      <td>1</td>\n",
       "      <td>chevrolet chevelle malibu</td>\n",
       "      <td>0.055556</td>\n",
       "      <td>17.521415</td>\n",
       "      <td>11.401754</td>\n",
       "    </tr>\n",
       "    <tr>\n",
       "      <th>1</th>\n",
       "      <td>15.0</td>\n",
       "      <td>350.0</td>\n",
       "      <td>165.0</td>\n",
       "      <td>3693.0</td>\n",
       "      <td>11.5</td>\n",
       "      <td>...</td>\n",
       "      <td>1</td>\n",
       "      <td>buick skylark 320</td>\n",
       "      <td>0.066667</td>\n",
       "      <td>18.708287</td>\n",
       "      <td>12.845233</td>\n",
       "    </tr>\n",
       "    <tr>\n",
       "      <th>2</th>\n",
       "      <td>18.0</td>\n",
       "      <td>318.0</td>\n",
       "      <td>150.0</td>\n",
       "      <td>3436.0</td>\n",
       "      <td>11.0</td>\n",
       "      <td>...</td>\n",
       "      <td>1</td>\n",
       "      <td>plymouth satellite</td>\n",
       "      <td>0.055556</td>\n",
       "      <td>17.832555</td>\n",
       "      <td>12.247449</td>\n",
       "    </tr>\n",
       "    <tr>\n",
       "      <th>3</th>\n",
       "      <td>16.0</td>\n",
       "      <td>304.0</td>\n",
       "      <td>150.0</td>\n",
       "      <td>3433.0</td>\n",
       "      <td>12.0</td>\n",
       "      <td>...</td>\n",
       "      <td>1</td>\n",
       "      <td>amc rebel sst</td>\n",
       "      <td>0.062500</td>\n",
       "      <td>17.435596</td>\n",
       "      <td>12.247449</td>\n",
       "    </tr>\n",
       "    <tr>\n",
       "      <th>4</th>\n",
       "      <td>17.0</td>\n",
       "      <td>302.0</td>\n",
       "      <td>140.0</td>\n",
       "      <td>3449.0</td>\n",
       "      <td>10.5</td>\n",
       "      <td>...</td>\n",
       "      <td>1</td>\n",
       "      <td>ford torino</td>\n",
       "      <td>0.058824</td>\n",
       "      <td>17.378147</td>\n",
       "      <td>11.832160</td>\n",
       "    </tr>\n",
       "  </tbody>\n",
       "</table>\n",
       "<p>5 rows × 11 columns</p>\n",
       "</div>"
      ],
      "text/plain": [
       "    mpg  displacement  horsepower  weight  acceleration       ...         \\\n",
       "0  18.0         307.0       130.0  3504.0          12.0       ...          \n",
       "1  15.0         350.0       165.0  3693.0          11.5       ...          \n",
       "2  18.0         318.0       150.0  3436.0          11.0       ...          \n",
       "3  16.0         304.0       150.0  3433.0          12.0       ...          \n",
       "4  17.0         302.0       140.0  3449.0          10.5       ...          \n",
       "\n",
       "   origin                   car_name       gpm  displacement_sqrt  \\\n",
       "0       1  chevrolet chevelle malibu  0.055556          17.521415   \n",
       "1       1          buick skylark 320  0.066667          18.708287   \n",
       "2       1         plymouth satellite  0.055556          17.832555   \n",
       "3       1              amc rebel sst  0.062500          17.435596   \n",
       "4       1                ford torino  0.058824          17.378147   \n",
       "\n",
       "   horsepower_sqrt  \n",
       "0        11.401754  \n",
       "1        12.845233  \n",
       "2        12.247449  \n",
       "3        12.247449  \n",
       "4        11.832160  \n",
       "\n",
       "[5 rows x 11 columns]"
      ]
     },
     "execution_count": 105,
     "metadata": {},
     "output_type": "execute_result"
    }
   ],
   "source": [
    "df.head()"
   ]
  },
  {
   "cell_type": "code",
   "execution_count": 106,
   "metadata": {
    "collapsed": false
   },
   "outputs": [
    {
     "data": {
      "text/html": [
       "<div>\n",
       "<table border=\"1\" class=\"dataframe\">\n",
       "  <thead>\n",
       "    <tr style=\"text-align: right;\">\n",
       "      <th></th>\n",
       "      <th>mpg</th>\n",
       "      <th>displacement</th>\n",
       "      <th>horsepower</th>\n",
       "      <th>weight</th>\n",
       "      <th>acceleration</th>\n",
       "      <th>model_year</th>\n",
       "      <th>origin</th>\n",
       "      <th>gpm</th>\n",
       "      <th>displacement_sqrt</th>\n",
       "      <th>horsepower_sqrt</th>\n",
       "    </tr>\n",
       "  </thead>\n",
       "  <tbody>\n",
       "    <tr>\n",
       "      <th>mpg</th>\n",
       "      <td>1.000000</td>\n",
       "      <td>-0.804203</td>\n",
       "      <td>-0.778427</td>\n",
       "      <td>-0.831741</td>\n",
       "      <td>0.420289</td>\n",
       "      <td>0.579267</td>\n",
       "      <td>0.563450</td>\n",
       "      <td>-0.935364</td>\n",
       "      <td>-0.820815</td>\n",
       "      <td>-0.802311</td>\n",
       "    </tr>\n",
       "    <tr>\n",
       "      <th>displacement</th>\n",
       "      <td>-0.804203</td>\n",
       "      <td>1.000000</td>\n",
       "      <td>0.897257</td>\n",
       "      <td>0.932824</td>\n",
       "      <td>-0.543684</td>\n",
       "      <td>-0.370164</td>\n",
       "      <td>-0.609409</td>\n",
       "      <td>0.866631</td>\n",
       "      <td>0.994882</td>\n",
       "      <td>0.897344</td>\n",
       "    </tr>\n",
       "    <tr>\n",
       "      <th>horsepower</th>\n",
       "      <td>-0.778427</td>\n",
       "      <td>0.897257</td>\n",
       "      <td>1.000000</td>\n",
       "      <td>0.864538</td>\n",
       "      <td>-0.689196</td>\n",
       "      <td>-0.416361</td>\n",
       "      <td>-0.455171</td>\n",
       "      <td>0.854809</td>\n",
       "      <td>0.879372</td>\n",
       "      <td>0.995152</td>\n",
       "    </tr>\n",
       "    <tr>\n",
       "      <th>weight</th>\n",
       "      <td>-0.831741</td>\n",
       "      <td>0.932824</td>\n",
       "      <td>0.864538</td>\n",
       "      <td>1.000000</td>\n",
       "      <td>-0.417457</td>\n",
       "      <td>-0.306564</td>\n",
       "      <td>-0.581024</td>\n",
       "      <td>0.885219</td>\n",
       "      <td>0.939395</td>\n",
       "      <td>0.875859</td>\n",
       "    </tr>\n",
       "    <tr>\n",
       "      <th>acceleration</th>\n",
       "      <td>0.420289</td>\n",
       "      <td>-0.543684</td>\n",
       "      <td>-0.689196</td>\n",
       "      <td>-0.417457</td>\n",
       "      <td>1.000000</td>\n",
       "      <td>0.288137</td>\n",
       "      <td>0.205873</td>\n",
       "      <td>-0.455750</td>\n",
       "      <td>-0.521570</td>\n",
       "      <td>-0.696702</td>\n",
       "    </tr>\n",
       "    <tr>\n",
       "      <th>model_year</th>\n",
       "      <td>0.579267</td>\n",
       "      <td>-0.370164</td>\n",
       "      <td>-0.416361</td>\n",
       "      <td>-0.306564</td>\n",
       "      <td>0.288137</td>\n",
       "      <td>1.000000</td>\n",
       "      <td>0.180662</td>\n",
       "      <td>-0.557427</td>\n",
       "      <td>-0.352616</td>\n",
       "      <td>-0.409083</td>\n",
       "    </tr>\n",
       "    <tr>\n",
       "      <th>origin</th>\n",
       "      <td>0.563450</td>\n",
       "      <td>-0.609409</td>\n",
       "      <td>-0.455171</td>\n",
       "      <td>-0.581024</td>\n",
       "      <td>0.205873</td>\n",
       "      <td>0.180662</td>\n",
       "      <td>1.000000</td>\n",
       "      <td>-0.530213</td>\n",
       "      <td>-0.640991</td>\n",
       "      <td>-0.471495</td>\n",
       "    </tr>\n",
       "    <tr>\n",
       "      <th>gpm</th>\n",
       "      <td>-0.935364</td>\n",
       "      <td>0.866631</td>\n",
       "      <td>0.854809</td>\n",
       "      <td>0.885219</td>\n",
       "      <td>-0.455750</td>\n",
       "      <td>-0.557427</td>\n",
       "      <td>-0.530213</td>\n",
       "      <td>1.000000</td>\n",
       "      <td>0.866133</td>\n",
       "      <td>0.859499</td>\n",
       "    </tr>\n",
       "    <tr>\n",
       "      <th>displacement_sqrt</th>\n",
       "      <td>-0.820815</td>\n",
       "      <td>0.994882</td>\n",
       "      <td>0.879372</td>\n",
       "      <td>0.939395</td>\n",
       "      <td>-0.521570</td>\n",
       "      <td>-0.352616</td>\n",
       "      <td>-0.640991</td>\n",
       "      <td>0.866133</td>\n",
       "      <td>1.000000</td>\n",
       "      <td>0.886470</td>\n",
       "    </tr>\n",
       "    <tr>\n",
       "      <th>horsepower_sqrt</th>\n",
       "      <td>-0.802311</td>\n",
       "      <td>0.897344</td>\n",
       "      <td>0.995152</td>\n",
       "      <td>0.875859</td>\n",
       "      <td>-0.696702</td>\n",
       "      <td>-0.409083</td>\n",
       "      <td>-0.471495</td>\n",
       "      <td>0.859499</td>\n",
       "      <td>0.886470</td>\n",
       "      <td>1.000000</td>\n",
       "    </tr>\n",
       "  </tbody>\n",
       "</table>\n",
       "</div>"
      ],
      "text/plain": [
       "                        mpg  displacement  horsepower    weight  acceleration  \\\n",
       "mpg                1.000000     -0.804203   -0.778427 -0.831741      0.420289   \n",
       "displacement      -0.804203      1.000000    0.897257  0.932824     -0.543684   \n",
       "horsepower        -0.778427      0.897257    1.000000  0.864538     -0.689196   \n",
       "weight            -0.831741      0.932824    0.864538  1.000000     -0.417457   \n",
       "acceleration       0.420289     -0.543684   -0.689196 -0.417457      1.000000   \n",
       "model_year         0.579267     -0.370164   -0.416361 -0.306564      0.288137   \n",
       "origin             0.563450     -0.609409   -0.455171 -0.581024      0.205873   \n",
       "gpm               -0.935364      0.866631    0.854809  0.885219     -0.455750   \n",
       "displacement_sqrt -0.820815      0.994882    0.879372  0.939395     -0.521570   \n",
       "horsepower_sqrt   -0.802311      0.897344    0.995152  0.875859     -0.696702   \n",
       "\n",
       "                   model_year    origin       gpm  displacement_sqrt  \\\n",
       "mpg                  0.579267  0.563450 -0.935364          -0.820815   \n",
       "displacement        -0.370164 -0.609409  0.866631           0.994882   \n",
       "horsepower          -0.416361 -0.455171  0.854809           0.879372   \n",
       "weight              -0.306564 -0.581024  0.885219           0.939395   \n",
       "acceleration         0.288137  0.205873 -0.455750          -0.521570   \n",
       "model_year           1.000000  0.180662 -0.557427          -0.352616   \n",
       "origin               0.180662  1.000000 -0.530213          -0.640991   \n",
       "gpm                 -0.557427 -0.530213  1.000000           0.866133   \n",
       "displacement_sqrt   -0.352616 -0.640991  0.866133           1.000000   \n",
       "horsepower_sqrt     -0.409083 -0.471495  0.859499           0.886470   \n",
       "\n",
       "                   horsepower_sqrt  \n",
       "mpg                      -0.802311  \n",
       "displacement              0.897344  \n",
       "horsepower                0.995152  \n",
       "weight                    0.875859  \n",
       "acceleration             -0.696702  \n",
       "model_year               -0.409083  \n",
       "origin                   -0.471495  \n",
       "gpm                       0.859499  \n",
       "displacement_sqrt         0.886470  \n",
       "horsepower_sqrt           1.000000  "
      ]
     },
     "execution_count": 106,
     "metadata": {},
     "output_type": "execute_result"
    }
   ],
   "source": [
    "df.corr()"
   ]
  },
  {
   "cell_type": "code",
   "execution_count": 107,
   "metadata": {
    "collapsed": true
   },
   "outputs": [],
   "source": [
    "model=smf.ols(formula='gpm~displacement_sqrt+horsepower_sqrt+displacement+weight+acceleration',data=df).fit()"
   ]
  },
  {
   "cell_type": "code",
   "execution_count": 108,
   "metadata": {
    "collapsed": false
   },
   "outputs": [
    {
     "data": {
      "text/html": [
       "<table class=\"simpletable\">\n",
       "<caption>OLS Regression Results</caption>\n",
       "<tr>\n",
       "  <th>Dep. Variable:</th>           <td>gpm</td>       <th>  R-squared:         </th> <td>   0.819</td> \n",
       "</tr>\n",
       "<tr>\n",
       "  <th>Model:</th>                   <td>OLS</td>       <th>  Adj. R-squared:    </th> <td>   0.817</td> \n",
       "</tr>\n",
       "<tr>\n",
       "  <th>Method:</th>             <td>Least Squares</td>  <th>  F-statistic:       </th> <td>   349.8</td> \n",
       "</tr>\n",
       "<tr>\n",
       "  <th>Date:</th>             <td>Thu, 09 Jun 2016</td> <th>  Prob (F-statistic):</th> <td>6.58e-141</td>\n",
       "</tr>\n",
       "<tr>\n",
       "  <th>Time:</th>                 <td>20:25:33</td>     <th>  Log-Likelihood:    </th> <td>  1385.1</td> \n",
       "</tr>\n",
       "<tr>\n",
       "  <th>No. Observations:</th>      <td>   392</td>      <th>  AIC:               </th> <td>  -2758.</td> \n",
       "</tr>\n",
       "<tr>\n",
       "  <th>Df Residuals:</th>          <td>   386</td>      <th>  BIC:               </th> <td>  -2734.</td> \n",
       "</tr>\n",
       "<tr>\n",
       "  <th>Df Model:</th>              <td>     5</td>      <th>                     </th>     <td> </td>    \n",
       "</tr>\n",
       "<tr>\n",
       "  <th>Covariance Type:</th>      <td>nonrobust</td>    <th>                     </th>     <td> </td>    \n",
       "</tr>\n",
       "</table>\n",
       "<table class=\"simpletable\">\n",
       "<tr>\n",
       "          <td></td>             <th>coef</th>     <th>std err</th>      <th>t</th>      <th>P>|t|</th> <th>[95.0% Conf. Int.]</th> \n",
       "</tr>\n",
       "<tr>\n",
       "  <th>Intercept</th>         <td>   -0.0344</td> <td>    0.010</td> <td>   -3.384</td> <td> 0.001</td> <td>   -0.054    -0.014</td>\n",
       "</tr>\n",
       "<tr>\n",
       "  <th>displacement_sqrt</th> <td>    0.0002</td> <td>    0.001</td> <td>    0.186</td> <td> 0.853</td> <td>   -0.002     0.002</td>\n",
       "</tr>\n",
       "<tr>\n",
       "  <th>horsepower_sqrt</th>   <td>    0.0044</td> <td>    0.001</td> <td>    6.603</td> <td> 0.000</td> <td>    0.003     0.006</td>\n",
       "</tr>\n",
       "<tr>\n",
       "  <th>displacement</th>      <td> 1.808e-05</td> <td> 3.66e-05</td> <td>    0.494</td> <td> 0.622</td> <td>-5.39e-05  9.01e-05</td>\n",
       "</tr>\n",
       "<tr>\n",
       "  <th>weight</th>            <td> 7.336e-06</td> <td> 1.53e-06</td> <td>    4.808</td> <td> 0.000</td> <td> 4.34e-06  1.03e-05</td>\n",
       "</tr>\n",
       "<tr>\n",
       "  <th>acceleration</th>      <td>    0.0007</td> <td>    0.000</td> <td>    2.957</td> <td> 0.003</td> <td>    0.000     0.001</td>\n",
       "</tr>\n",
       "</table>\n",
       "<table class=\"simpletable\">\n",
       "<tr>\n",
       "  <th>Omnibus:</th>       <td>16.855</td> <th>  Durbin-Watson:     </th> <td>   1.049</td>\n",
       "</tr>\n",
       "<tr>\n",
       "  <th>Prob(Omnibus):</th> <td> 0.000</td> <th>  Jarque-Bera (JB):  </th> <td>  29.821</td>\n",
       "</tr>\n",
       "<tr>\n",
       "  <th>Skew:</th>          <td> 0.262</td> <th>  Prob(JB):          </th> <td>3.35e-07</td>\n",
       "</tr>\n",
       "<tr>\n",
       "  <th>Kurtosis:</th>      <td> 4.245</td> <th>  Cond. No.          </th> <td>8.80e+04</td>\n",
       "</tr>\n",
       "</table>"
      ],
      "text/plain": [
       "<class 'statsmodels.iolib.summary.Summary'>\n",
       "\"\"\"\n",
       "                            OLS Regression Results                            \n",
       "==============================================================================\n",
       "Dep. Variable:                    gpm   R-squared:                       0.819\n",
       "Model:                            OLS   Adj. R-squared:                  0.817\n",
       "Method:                 Least Squares   F-statistic:                     349.8\n",
       "Date:                Thu, 09 Jun 2016   Prob (F-statistic):          6.58e-141\n",
       "Time:                        20:25:33   Log-Likelihood:                 1385.1\n",
       "No. Observations:                 392   AIC:                            -2758.\n",
       "Df Residuals:                     386   BIC:                            -2734.\n",
       "Df Model:                           5                                         \n",
       "Covariance Type:            nonrobust                                         \n",
       "=====================================================================================\n",
       "                        coef    std err          t      P>|t|      [95.0% Conf. Int.]\n",
       "-------------------------------------------------------------------------------------\n",
       "Intercept            -0.0344      0.010     -3.384      0.001        -0.054    -0.014\n",
       "displacement_sqrt     0.0002      0.001      0.186      0.853        -0.002     0.002\n",
       "horsepower_sqrt       0.0044      0.001      6.603      0.000         0.003     0.006\n",
       "displacement       1.808e-05   3.66e-05      0.494      0.622     -5.39e-05  9.01e-05\n",
       "weight             7.336e-06   1.53e-06      4.808      0.000      4.34e-06  1.03e-05\n",
       "acceleration          0.0007      0.000      2.957      0.003         0.000     0.001\n",
       "==============================================================================\n",
       "Omnibus:                       16.855   Durbin-Watson:                   1.049\n",
       "Prob(Omnibus):                  0.000   Jarque-Bera (JB):               29.821\n",
       "Skew:                           0.262   Prob(JB):                     3.35e-07\n",
       "Kurtosis:                       4.245   Cond. No.                     8.80e+04\n",
       "==============================================================================\n",
       "\n",
       "Warnings:\n",
       "[1] Standard Errors assume that the covariance matrix of the errors is correctly specified.\n",
       "[2] The condition number is large, 8.8e+04. This might indicate that there are\n",
       "strong multicollinearity or other numerical problems.\n",
       "\"\"\""
      ]
     },
     "execution_count": 108,
     "metadata": {},
     "output_type": "execute_result"
    }
   ],
   "source": [
    "model.summary()"
   ]
  },
  {
   "cell_type": "markdown",
   "metadata": {},
   "source": [
    "dropping the displacement "
   ]
  },
  {
   "cell_type": "code",
   "execution_count": 111,
   "metadata": {
    "collapsed": true
   },
   "outputs": [],
   "source": [
    "model=smf.ols(formula='gpm~displacement_sqrt+horsepower_sqrt+weight+acceleration',data=df).fit()"
   ]
  },
  {
   "cell_type": "code",
   "execution_count": 112,
   "metadata": {
    "collapsed": false
   },
   "outputs": [
    {
     "data": {
      "text/html": [
       "<table class=\"simpletable\">\n",
       "<caption>OLS Regression Results</caption>\n",
       "<tr>\n",
       "  <th>Dep. Variable:</th>           <td>gpm</td>       <th>  R-squared:         </th> <td>   0.819</td> \n",
       "</tr>\n",
       "<tr>\n",
       "  <th>Model:</th>                   <td>OLS</td>       <th>  Adj. R-squared:    </th> <td>   0.817</td> \n",
       "</tr>\n",
       "<tr>\n",
       "  <th>Method:</th>             <td>Least Squares</td>  <th>  F-statistic:       </th> <td>   438.0</td> \n",
       "</tr>\n",
       "<tr>\n",
       "  <th>Date:</th>             <td>Thu, 09 Jun 2016</td> <th>  Prob (F-statistic):</th> <td>3.33e-142</td>\n",
       "</tr>\n",
       "<tr>\n",
       "  <th>Time:</th>                 <td>20:29:27</td>     <th>  Log-Likelihood:    </th> <td>  1385.0</td> \n",
       "</tr>\n",
       "<tr>\n",
       "  <th>No. Observations:</th>      <td>   392</td>      <th>  AIC:               </th> <td>  -2760.</td> \n",
       "</tr>\n",
       "<tr>\n",
       "  <th>Df Residuals:</th>          <td>   387</td>      <th>  BIC:               </th> <td>  -2740.</td> \n",
       "</tr>\n",
       "<tr>\n",
       "  <th>Df Model:</th>              <td>     4</td>      <th>                     </th>     <td> </td>    \n",
       "</tr>\n",
       "<tr>\n",
       "  <th>Covariance Type:</th>      <td>nonrobust</td>    <th>                     </th>     <td> </td>    \n",
       "</tr>\n",
       "</table>\n",
       "<table class=\"simpletable\">\n",
       "<tr>\n",
       "          <td></td>             <th>coef</th>     <th>std err</th>      <th>t</th>      <th>P>|t|</th> <th>[95.0% Conf. Int.]</th> \n",
       "</tr>\n",
       "<tr>\n",
       "  <th>Intercept</th>         <td>   -0.0380</td> <td>    0.007</td> <td>   -5.448</td> <td> 0.000</td> <td>   -0.052    -0.024</td>\n",
       "</tr>\n",
       "<tr>\n",
       "  <th>displacement_sqrt</th> <td>    0.0007</td> <td>    0.000</td> <td>    2.181</td> <td> 0.030</td> <td> 6.86e-05     0.001</td>\n",
       "</tr>\n",
       "<tr>\n",
       "  <th>horsepower_sqrt</th>   <td>    0.0044</td> <td>    0.001</td> <td>    6.907</td> <td> 0.000</td> <td>    0.003     0.006</td>\n",
       "</tr>\n",
       "<tr>\n",
       "  <th>weight</th>            <td> 7.257e-06</td> <td> 1.52e-06</td> <td>    4.787</td> <td> 0.000</td> <td> 4.28e-06  1.02e-05</td>\n",
       "</tr>\n",
       "<tr>\n",
       "  <th>acceleration</th>      <td>    0.0007</td> <td>    0.000</td> <td>    2.940</td> <td> 0.003</td> <td>    0.000     0.001</td>\n",
       "</tr>\n",
       "</table>\n",
       "<table class=\"simpletable\">\n",
       "<tr>\n",
       "  <th>Omnibus:</th>       <td>16.613</td> <th>  Durbin-Watson:     </th> <td>   1.054</td>\n",
       "</tr>\n",
       "<tr>\n",
       "  <th>Prob(Omnibus):</th> <td> 0.000</td> <th>  Jarque-Bera (JB):  </th> <td>  28.895</td>\n",
       "</tr>\n",
       "<tr>\n",
       "  <th>Skew:</th>          <td> 0.264</td> <th>  Prob(JB):          </th> <td>5.32e-07</td>\n",
       "</tr>\n",
       "<tr>\n",
       "  <th>Kurtosis:</th>      <td> 4.221</td> <th>  Cond. No.          </th> <td>6.03e+04</td>\n",
       "</tr>\n",
       "</table>"
      ],
      "text/plain": [
       "<class 'statsmodels.iolib.summary.Summary'>\n",
       "\"\"\"\n",
       "                            OLS Regression Results                            \n",
       "==============================================================================\n",
       "Dep. Variable:                    gpm   R-squared:                       0.819\n",
       "Model:                            OLS   Adj. R-squared:                  0.817\n",
       "Method:                 Least Squares   F-statistic:                     438.0\n",
       "Date:                Thu, 09 Jun 2016   Prob (F-statistic):          3.33e-142\n",
       "Time:                        20:29:27   Log-Likelihood:                 1385.0\n",
       "No. Observations:                 392   AIC:                            -2760.\n",
       "Df Residuals:                     387   BIC:                            -2740.\n",
       "Df Model:                           4                                         \n",
       "Covariance Type:            nonrobust                                         \n",
       "=====================================================================================\n",
       "                        coef    std err          t      P>|t|      [95.0% Conf. Int.]\n",
       "-------------------------------------------------------------------------------------\n",
       "Intercept            -0.0380      0.007     -5.448      0.000        -0.052    -0.024\n",
       "displacement_sqrt     0.0007      0.000      2.181      0.030      6.86e-05     0.001\n",
       "horsepower_sqrt       0.0044      0.001      6.907      0.000         0.003     0.006\n",
       "weight             7.257e-06   1.52e-06      4.787      0.000      4.28e-06  1.02e-05\n",
       "acceleration          0.0007      0.000      2.940      0.003         0.000     0.001\n",
       "==============================================================================\n",
       "Omnibus:                       16.613   Durbin-Watson:                   1.054\n",
       "Prob(Omnibus):                  0.000   Jarque-Bera (JB):               28.895\n",
       "Skew:                           0.264   Prob(JB):                     5.32e-07\n",
       "Kurtosis:                       4.221   Cond. No.                     6.03e+04\n",
       "==============================================================================\n",
       "\n",
       "Warnings:\n",
       "[1] Standard Errors assume that the covariance matrix of the errors is correctly specified.\n",
       "[2] The condition number is large, 6.03e+04. This might indicate that there are\n",
       "strong multicollinearity or other numerical problems.\n",
       "\"\"\""
      ]
     },
     "execution_count": 112,
     "metadata": {},
     "output_type": "execute_result"
    }
   ],
   "source": [
    "model.summary()"
   ]
  },
  {
   "cell_type": "markdown",
   "metadata": {},
   "source": [
    "looks like displacement sqrt is also not significant"
   ]
  },
  {
   "cell_type": "code",
   "execution_count": 113,
   "metadata": {
    "collapsed": true
   },
   "outputs": [],
   "source": [
    "model=smf.ols(formula='gpm~horsepower_sqrt+weight+acceleration',data=df).fit()"
   ]
  },
  {
   "cell_type": "code",
   "execution_count": 114,
   "metadata": {
    "collapsed": false
   },
   "outputs": [
    {
     "data": {
      "text/html": [
       "<table class=\"simpletable\">\n",
       "<caption>OLS Regression Results</caption>\n",
       "<tr>\n",
       "  <th>Dep. Variable:</th>           <td>gpm</td>       <th>  R-squared:         </th> <td>   0.817</td> \n",
       "</tr>\n",
       "<tr>\n",
       "  <th>Model:</th>                   <td>OLS</td>       <th>  Adj. R-squared:    </th> <td>   0.815</td> \n",
       "</tr>\n",
       "<tr>\n",
       "  <th>Method:</th>             <td>Least Squares</td>  <th>  F-statistic:       </th> <td>   576.9</td> \n",
       "</tr>\n",
       "<tr>\n",
       "  <th>Date:</th>             <td>Thu, 09 Jun 2016</td> <th>  Prob (F-statistic):</th> <td>1.36e-142</td>\n",
       "</tr>\n",
       "<tr>\n",
       "  <th>Time:</th>                 <td>20:30:29</td>     <th>  Log-Likelihood:    </th> <td>  1382.6</td> \n",
       "</tr>\n",
       "<tr>\n",
       "  <th>No. Observations:</th>      <td>   392</td>      <th>  AIC:               </th> <td>  -2757.</td> \n",
       "</tr>\n",
       "<tr>\n",
       "  <th>Df Residuals:</th>          <td>   388</td>      <th>  BIC:               </th> <td>  -2741.</td> \n",
       "</tr>\n",
       "<tr>\n",
       "  <th>Df Model:</th>              <td>     3</td>      <th>                     </th>     <td> </td>    \n",
       "</tr>\n",
       "<tr>\n",
       "  <th>Covariance Type:</th>      <td>nonrobust</td>    <th>                     </th>     <td> </td>    \n",
       "</tr>\n",
       "</table>\n",
       "<table class=\"simpletable\">\n",
       "<tr>\n",
       "         <td></td>            <th>coef</th>     <th>std err</th>      <th>t</th>      <th>P>|t|</th> <th>[95.0% Conf. Int.]</th> \n",
       "</tr>\n",
       "<tr>\n",
       "  <th>Intercept</th>       <td>   -0.0357</td> <td>    0.007</td> <td>   -5.155</td> <td> 0.000</td> <td>   -0.049    -0.022</td>\n",
       "</tr>\n",
       "<tr>\n",
       "  <th>horsepower_sqrt</th> <td>    0.0046</td> <td>    0.001</td> <td>    7.174</td> <td> 0.000</td> <td>    0.003     0.006</td>\n",
       "</tr>\n",
       "<tr>\n",
       "  <th>weight</th>          <td> 9.625e-06</td> <td> 1.06e-06</td> <td>    9.052</td> <td> 0.000</td> <td> 7.53e-06  1.17e-05</td>\n",
       "</tr>\n",
       "<tr>\n",
       "  <th>acceleration</th>    <td>    0.0006</td> <td>    0.000</td> <td>    2.526</td> <td> 0.012</td> <td>    0.000     0.001</td>\n",
       "</tr>\n",
       "</table>\n",
       "<table class=\"simpletable\">\n",
       "<tr>\n",
       "  <th>Omnibus:</th>       <td>15.601</td> <th>  Durbin-Watson:     </th> <td>   1.070</td>\n",
       "</tr>\n",
       "<tr>\n",
       "  <th>Prob(Omnibus):</th> <td> 0.000</td> <th>  Jarque-Bera (JB):  </th> <td>  22.556</td>\n",
       "</tr>\n",
       "<tr>\n",
       "  <th>Skew:</th>          <td> 0.315</td> <th>  Prob(JB):          </th> <td>1.26e-05</td>\n",
       "</tr>\n",
       "<tr>\n",
       "  <th>Kurtosis:</th>      <td> 3.992</td> <th>  Cond. No.          </th> <td>5.96e+04</td>\n",
       "</tr>\n",
       "</table>"
      ],
      "text/plain": [
       "<class 'statsmodels.iolib.summary.Summary'>\n",
       "\"\"\"\n",
       "                            OLS Regression Results                            \n",
       "==============================================================================\n",
       "Dep. Variable:                    gpm   R-squared:                       0.817\n",
       "Model:                            OLS   Adj. R-squared:                  0.815\n",
       "Method:                 Least Squares   F-statistic:                     576.9\n",
       "Date:                Thu, 09 Jun 2016   Prob (F-statistic):          1.36e-142\n",
       "Time:                        20:30:29   Log-Likelihood:                 1382.6\n",
       "No. Observations:                 392   AIC:                            -2757.\n",
       "Df Residuals:                     388   BIC:                            -2741.\n",
       "Df Model:                           3                                         \n",
       "Covariance Type:            nonrobust                                         \n",
       "===================================================================================\n",
       "                      coef    std err          t      P>|t|      [95.0% Conf. Int.]\n",
       "-----------------------------------------------------------------------------------\n",
       "Intercept          -0.0357      0.007     -5.155      0.000        -0.049    -0.022\n",
       "horsepower_sqrt     0.0046      0.001      7.174      0.000         0.003     0.006\n",
       "weight           9.625e-06   1.06e-06      9.052      0.000      7.53e-06  1.17e-05\n",
       "acceleration        0.0006      0.000      2.526      0.012         0.000     0.001\n",
       "==============================================================================\n",
       "Omnibus:                       15.601   Durbin-Watson:                   1.070\n",
       "Prob(Omnibus):                  0.000   Jarque-Bera (JB):               22.556\n",
       "Skew:                           0.315   Prob(JB):                     1.26e-05\n",
       "Kurtosis:                       3.992   Cond. No.                     5.96e+04\n",
       "==============================================================================\n",
       "\n",
       "Warnings:\n",
       "[1] Standard Errors assume that the covariance matrix of the errors is correctly specified.\n",
       "[2] The condition number is large, 5.96e+04. This might indicate that there are\n",
       "strong multicollinearity or other numerical problems.\n",
       "\"\"\""
      ]
     },
     "execution_count": 114,
     "metadata": {},
     "output_type": "execute_result"
    }
   ],
   "source": [
    "model.summary()"
   ]
  },
  {
   "cell_type": "code",
   "execution_count": 118,
   "metadata": {
    "collapsed": true
   },
   "outputs": [],
   "source": [
    "model_ic_hp_wei=smf.ols(formula='gpm~horsepower_sqrt+weight+acceleration+horsepower_sqrt*weight',data=df).fit()"
   ]
  },
  {
   "cell_type": "code",
   "execution_count": 119,
   "metadata": {
    "collapsed": false
   },
   "outputs": [
    {
     "data": {
      "text/html": [
       "<table class=\"simpletable\">\n",
       "<caption>OLS Regression Results</caption>\n",
       "<tr>\n",
       "  <th>Dep. Variable:</th>           <td>gpm</td>       <th>  R-squared:         </th> <td>   0.819</td> \n",
       "</tr>\n",
       "<tr>\n",
       "  <th>Model:</th>                   <td>OLS</td>       <th>  Adj. R-squared:    </th> <td>   0.817</td> \n",
       "</tr>\n",
       "<tr>\n",
       "  <th>Method:</th>             <td>Least Squares</td>  <th>  F-statistic:       </th> <td>   436.4</td> \n",
       "</tr>\n",
       "<tr>\n",
       "  <th>Date:</th>             <td>Thu, 09 Jun 2016</td> <th>  Prob (F-statistic):</th> <td>6.08e-142</td>\n",
       "</tr>\n",
       "<tr>\n",
       "  <th>Time:</th>                 <td>20:41:53</td>     <th>  Log-Likelihood:    </th> <td>  1384.4</td> \n",
       "</tr>\n",
       "<tr>\n",
       "  <th>No. Observations:</th>      <td>   392</td>      <th>  AIC:               </th> <td>  -2759.</td> \n",
       "</tr>\n",
       "<tr>\n",
       "  <th>Df Residuals:</th>          <td>   387</td>      <th>  BIC:               </th> <td>  -2739.</td> \n",
       "</tr>\n",
       "<tr>\n",
       "  <th>Df Model:</th>              <td>     4</td>      <th>                     </th>     <td> </td>    \n",
       "</tr>\n",
       "<tr>\n",
       "  <th>Covariance Type:</th>      <td>nonrobust</td>    <th>                     </th>     <td> </td>    \n",
       "</tr>\n",
       "</table>\n",
       "<table class=\"simpletable\">\n",
       "<tr>\n",
       "             <td></td>               <th>coef</th>     <th>std err</th>      <th>t</th>      <th>P>|t|</th> <th>[95.0% Conf. Int.]</th> \n",
       "</tr>\n",
       "<tr>\n",
       "  <th>Intercept</th>              <td>   -0.0202</td> <td>    0.011</td> <td>   -1.881</td> <td> 0.061</td> <td>   -0.041     0.001</td>\n",
       "</tr>\n",
       "<tr>\n",
       "  <th>horsepower_sqrt</th>        <td>    0.0030</td> <td>    0.001</td> <td>    2.823</td> <td> 0.005</td> <td>    0.001     0.005</td>\n",
       "</tr>\n",
       "<tr>\n",
       "  <th>weight</th>                 <td> 4.964e-06</td> <td> 2.69e-06</td> <td>    1.843</td> <td> 0.066</td> <td>-3.33e-07  1.03e-05</td>\n",
       "</tr>\n",
       "<tr>\n",
       "  <th>acceleration</th>           <td>    0.0006</td> <td>    0.000</td> <td>    2.525</td> <td> 0.012</td> <td>    0.000     0.001</td>\n",
       "</tr>\n",
       "<tr>\n",
       "  <th>horsepower_sqrt:weight</th> <td> 4.628e-07</td> <td> 2.46e-07</td> <td>    1.882</td> <td> 0.061</td> <td>-2.07e-08  9.46e-07</td>\n",
       "</tr>\n",
       "</table>\n",
       "<table class=\"simpletable\">\n",
       "<tr>\n",
       "  <th>Omnibus:</th>       <td>14.577</td> <th>  Durbin-Watson:     </th> <td>   1.066</td>\n",
       "</tr>\n",
       "<tr>\n",
       "  <th>Prob(Omnibus):</th> <td> 0.001</td> <th>  Jarque-Bera (JB):  </th> <td>  20.416</td>\n",
       "</tr>\n",
       "<tr>\n",
       "  <th>Skew:</th>          <td> 0.306</td> <th>  Prob(JB):          </th> <td>3.69e-05</td>\n",
       "</tr>\n",
       "<tr>\n",
       "  <th>Kurtosis:</th>      <td> 3.935</td> <th>  Cond. No.          </th> <td>1.04e+06</td>\n",
       "</tr>\n",
       "</table>"
      ],
      "text/plain": [
       "<class 'statsmodels.iolib.summary.Summary'>\n",
       "\"\"\"\n",
       "                            OLS Regression Results                            \n",
       "==============================================================================\n",
       "Dep. Variable:                    gpm   R-squared:                       0.819\n",
       "Model:                            OLS   Adj. R-squared:                  0.817\n",
       "Method:                 Least Squares   F-statistic:                     436.4\n",
       "Date:                Thu, 09 Jun 2016   Prob (F-statistic):          6.08e-142\n",
       "Time:                        20:41:53   Log-Likelihood:                 1384.4\n",
       "No. Observations:                 392   AIC:                            -2759.\n",
       "Df Residuals:                     387   BIC:                            -2739.\n",
       "Df Model:                           4                                         \n",
       "Covariance Type:            nonrobust                                         \n",
       "==========================================================================================\n",
       "                             coef    std err          t      P>|t|      [95.0% Conf. Int.]\n",
       "------------------------------------------------------------------------------------------\n",
       "Intercept                 -0.0202      0.011     -1.881      0.061        -0.041     0.001\n",
       "horsepower_sqrt            0.0030      0.001      2.823      0.005         0.001     0.005\n",
       "weight                  4.964e-06   2.69e-06      1.843      0.066     -3.33e-07  1.03e-05\n",
       "acceleration               0.0006      0.000      2.525      0.012         0.000     0.001\n",
       "horsepower_sqrt:weight  4.628e-07   2.46e-07      1.882      0.061     -2.07e-08  9.46e-07\n",
       "==============================================================================\n",
       "Omnibus:                       14.577   Durbin-Watson:                   1.066\n",
       "Prob(Omnibus):                  0.001   Jarque-Bera (JB):               20.416\n",
       "Skew:                           0.306   Prob(JB):                     3.69e-05\n",
       "Kurtosis:                       3.935   Cond. No.                     1.04e+06\n",
       "==============================================================================\n",
       "\n",
       "Warnings:\n",
       "[1] Standard Errors assume that the covariance matrix of the errors is correctly specified.\n",
       "[2] The condition number is large, 1.04e+06. This might indicate that there are\n",
       "strong multicollinearity or other numerical problems.\n",
       "\"\"\""
      ]
     },
     "execution_count": 119,
     "metadata": {},
     "output_type": "execute_result"
    }
   ],
   "source": [
    "model_ic_hp_wei.summary()"
   ]
  },
  {
   "cell_type": "markdown",
   "metadata": {},
   "source": [
    "interaction with all"
   ]
  },
  {
   "cell_type": "code",
   "execution_count": 120,
   "metadata": {
    "collapsed": true
   },
   "outputs": [],
   "source": [
    "model_ic_all=smf.ols(formula='gpm~horsepower_sqrt+weight+acceleration+horsepower_sqrt*weight*acceleration',data=df).fit()"
   ]
  },
  {
   "cell_type": "code",
   "execution_count": 121,
   "metadata": {
    "collapsed": false
   },
   "outputs": [
    {
     "data": {
      "text/html": [
       "<table class=\"simpletable\">\n",
       "<caption>OLS Regression Results</caption>\n",
       "<tr>\n",
       "  <th>Dep. Variable:</th>           <td>gpm</td>       <th>  R-squared:         </th> <td>   0.831</td> \n",
       "</tr>\n",
       "<tr>\n",
       "  <th>Model:</th>                   <td>OLS</td>       <th>  Adj. R-squared:    </th> <td>   0.828</td> \n",
       "</tr>\n",
       "<tr>\n",
       "  <th>Method:</th>             <td>Least Squares</td>  <th>  F-statistic:       </th> <td>   269.7</td> \n",
       "</tr>\n",
       "<tr>\n",
       "  <th>Date:</th>             <td>Thu, 09 Jun 2016</td> <th>  Prob (F-statistic):</th> <td>5.84e-144</td>\n",
       "</tr>\n",
       "<tr>\n",
       "  <th>Time:</th>                 <td>20:43:53</td>     <th>  Log-Likelihood:    </th> <td>  1398.3</td> \n",
       "</tr>\n",
       "<tr>\n",
       "  <th>No. Observations:</th>      <td>   392</td>      <th>  AIC:               </th> <td>  -2781.</td> \n",
       "</tr>\n",
       "<tr>\n",
       "  <th>Df Residuals:</th>          <td>   384</td>      <th>  BIC:               </th> <td>  -2749.</td> \n",
       "</tr>\n",
       "<tr>\n",
       "  <th>Df Model:</th>              <td>     7</td>      <th>                     </th>     <td> </td>    \n",
       "</tr>\n",
       "<tr>\n",
       "  <th>Covariance Type:</th>      <td>nonrobust</td>    <th>                     </th>     <td> </td>    \n",
       "</tr>\n",
       "</table>\n",
       "<table class=\"simpletable\">\n",
       "<tr>\n",
       "                   <td></td>                      <th>coef</th>     <th>std err</th>      <th>t</th>      <th>P>|t|</th> <th>[95.0% Conf. Int.]</th> \n",
       "</tr>\n",
       "<tr>\n",
       "  <th>Intercept</th>                           <td>   -0.1436</td> <td>    0.041</td> <td>   -3.504</td> <td> 0.001</td> <td>   -0.224    -0.063</td>\n",
       "</tr>\n",
       "<tr>\n",
       "  <th>horsepower_sqrt</th>                     <td>    0.0166</td> <td>    0.004</td> <td>    3.808</td> <td> 0.000</td> <td>    0.008     0.025</td>\n",
       "</tr>\n",
       "<tr>\n",
       "  <th>weight</th>                              <td> 5.024e-05</td> <td> 1.33e-05</td> <td>    3.782</td> <td> 0.000</td> <td> 2.41e-05  7.64e-05</td>\n",
       "</tr>\n",
       "<tr>\n",
       "  <th>acceleration</th>                        <td>    0.0097</td> <td>    0.003</td> <td>    3.768</td> <td> 0.000</td> <td>    0.005     0.015</td>\n",
       "</tr>\n",
       "<tr>\n",
       "  <th>horsepower_sqrt:weight</th>              <td>-4.309e-06</td> <td> 1.19e-06</td> <td>   -3.608</td> <td> 0.000</td> <td>-6.66e-06 -1.96e-06</td>\n",
       "</tr>\n",
       "<tr>\n",
       "  <th>horsepower_sqrt:acceleration</th>        <td>   -0.0010</td> <td>    0.000</td> <td>   -3.410</td> <td> 0.001</td> <td>   -0.002    -0.000</td>\n",
       "</tr>\n",
       "<tr>\n",
       "  <th>weight:acceleration</th>                 <td>-3.414e-06</td> <td> 8.16e-07</td> <td>   -4.184</td> <td> 0.000</td> <td>-5.02e-06 -1.81e-06</td>\n",
       "</tr>\n",
       "<tr>\n",
       "  <th>horsepower_sqrt:weight:acceleration</th> <td> 3.592e-07</td> <td> 7.96e-08</td> <td>    4.511</td> <td> 0.000</td> <td> 2.03e-07  5.16e-07</td>\n",
       "</tr>\n",
       "</table>\n",
       "<table class=\"simpletable\">\n",
       "<tr>\n",
       "  <th>Omnibus:</th>       <td>15.672</td> <th>  Durbin-Watson:     </th> <td>   1.063</td>\n",
       "</tr>\n",
       "<tr>\n",
       "  <th>Prob(Omnibus):</th> <td> 0.000</td> <th>  Jarque-Bera (JB):  </th> <td>  25.423</td>\n",
       "</tr>\n",
       "<tr>\n",
       "  <th>Skew:</th>          <td> 0.273</td> <th>  Prob(JB):          </th> <td>3.02e-06</td>\n",
       "</tr>\n",
       "<tr>\n",
       "  <th>Kurtosis:</th>      <td> 4.122</td> <th>  Cond. No.          </th> <td>5.91e+07</td>\n",
       "</tr>\n",
       "</table>"
      ],
      "text/plain": [
       "<class 'statsmodels.iolib.summary.Summary'>\n",
       "\"\"\"\n",
       "                            OLS Regression Results                            \n",
       "==============================================================================\n",
       "Dep. Variable:                    gpm   R-squared:                       0.831\n",
       "Model:                            OLS   Adj. R-squared:                  0.828\n",
       "Method:                 Least Squares   F-statistic:                     269.7\n",
       "Date:                Thu, 09 Jun 2016   Prob (F-statistic):          5.84e-144\n",
       "Time:                        20:43:53   Log-Likelihood:                 1398.3\n",
       "No. Observations:                 392   AIC:                            -2781.\n",
       "Df Residuals:                     384   BIC:                            -2749.\n",
       "Df Model:                           7                                         \n",
       "Covariance Type:            nonrobust                                         \n",
       "=======================================================================================================\n",
       "                                          coef    std err          t      P>|t|      [95.0% Conf. Int.]\n",
       "-------------------------------------------------------------------------------------------------------\n",
       "Intercept                              -0.1436      0.041     -3.504      0.001        -0.224    -0.063\n",
       "horsepower_sqrt                         0.0166      0.004      3.808      0.000         0.008     0.025\n",
       "weight                               5.024e-05   1.33e-05      3.782      0.000      2.41e-05  7.64e-05\n",
       "acceleration                            0.0097      0.003      3.768      0.000         0.005     0.015\n",
       "horsepower_sqrt:weight              -4.309e-06   1.19e-06     -3.608      0.000     -6.66e-06 -1.96e-06\n",
       "horsepower_sqrt:acceleration           -0.0010      0.000     -3.410      0.001        -0.002    -0.000\n",
       "weight:acceleration                 -3.414e-06   8.16e-07     -4.184      0.000     -5.02e-06 -1.81e-06\n",
       "horsepower_sqrt:weight:acceleration  3.592e-07   7.96e-08      4.511      0.000      2.03e-07  5.16e-07\n",
       "==============================================================================\n",
       "Omnibus:                       15.672   Durbin-Watson:                   1.063\n",
       "Prob(Omnibus):                  0.000   Jarque-Bera (JB):               25.423\n",
       "Skew:                           0.273   Prob(JB):                     3.02e-06\n",
       "Kurtosis:                       4.122   Cond. No.                     5.91e+07\n",
       "==============================================================================\n",
       "\n",
       "Warnings:\n",
       "[1] Standard Errors assume that the covariance matrix of the errors is correctly specified.\n",
       "[2] The condition number is large, 5.91e+07. This might indicate that there are\n",
       "strong multicollinearity or other numerical problems.\n",
       "\"\"\""
      ]
     },
     "execution_count": 121,
     "metadata": {},
     "output_type": "execute_result"
    }
   ],
   "source": [
    "model_ic_all.summary()"
   ]
  },
  {
   "cell_type": "code",
   "execution_count": null,
   "metadata": {
    "collapsed": true
   },
   "outputs": [],
   "source": []
  },
  {
   "cell_type": "code",
   "execution_count": null,
   "metadata": {
    "collapsed": true
   },
   "outputs": [],
   "source": []
  },
  {
   "cell_type": "code",
   "execution_count": null,
   "metadata": {
    "collapsed": true
   },
   "outputs": [],
   "source": []
  },
  {
   "cell_type": "code",
   "execution_count": null,
   "metadata": {
    "collapsed": false
   },
   "outputs": [],
   "source": [
    "df_new[['displacement_sqrt','mpg']].plot(x='displacement_sqrt',y='mpg',kind='scatter',color='red',label='dispsq&mpg')"
   ]
  },
  {
   "cell_type": "code",
   "execution_count": null,
   "metadata": {
    "collapsed": true
   },
   "outputs": [],
   "source": [
    "horsepower_sqrt"
   ]
  },
  {
   "cell_type": "code",
   "execution_count": null,
   "metadata": {
    "collapsed": false
   },
   "outputs": [],
   "source": [
    "df_new[['horsepower_sqrt','mpg']].plot(x='horsepower_sqrt',y='mpg',kind='scatter',color='black',label='dispsq&mpg')"
   ]
  },
  {
   "cell_type": "code",
   "execution_count": null,
   "metadata": {
    "collapsed": false
   },
   "outputs": [],
   "source": [
    "df_new[ ['displacement_log', 'horsepower_log'] ] = df[ ['displacement', 'horsepower'] ].apply(np.log)"
   ]
  },
  {
   "cell_type": "code",
   "execution_count": null,
   "metadata": {
    "collapsed": false
   },
   "outputs": [],
   "source": [
    "df_new.head()"
   ]
  },
  {
   "cell_type": "code",
   "execution_count": null,
   "metadata": {
    "collapsed": true
   },
   "outputs": [],
   "source": []
  },
  {
   "cell_type": "code",
   "execution_count": null,
   "metadata": {
    "collapsed": false
   },
   "outputs": [],
   "source": [
    "df_new[['displacement_sqrt','mpg']].plot(x='displacement_sqrt',y='mpg',kind='scatter',color='red',label='dispsq&mpg')"
   ]
  },
  {
   "cell_type": "code",
   "execution_count": null,
   "metadata": {
    "collapsed": true
   },
   "outputs": [],
   "source": []
  },
  {
   "cell_type": "code",
   "execution_count": null,
   "metadata": {
    "collapsed": true
   },
   "outputs": [],
   "source": [
    "df_new[['displacement','mpg']].plot(x='displacement',y='mpg',kind='scatter',color='Magenta')"
   ]
  },
  {
   "cell_type": "code",
   "execution_count": null,
   "metadata": {
    "collapsed": true
   },
   "outputs": [],
   "source": []
  },
  {
   "cell_type": "code",
   "execution_count": null,
   "metadata": {
    "collapsed": true
   },
   "outputs": [],
   "source": []
  },
  {
   "cell_type": "code",
   "execution_count": null,
   "metadata": {
    "collapsed": true
   },
   "outputs": [],
   "source": []
  },
  {
   "cell_type": "code",
   "execution_count": null,
   "metadata": {
    "collapsed": true
   },
   "outputs": [],
   "source": []
  },
  {
   "cell_type": "code",
   "execution_count": null,
   "metadata": {
    "collapsed": true
   },
   "outputs": [],
   "source": []
  },
  {
   "cell_type": "code",
   "execution_count": null,
   "metadata": {
    "collapsed": false
   },
   "outputs": [],
   "source": [
    "model = smf.ols(formula='mpg ~ displacement + horsepower + weight + acceleration + model_year + origin ',data=df_new)"
   ]
  },
  {
   "cell_type": "code",
   "execution_count": null,
   "metadata": {
    "collapsed": false
   },
   "outputs": [],
   "source": [
    "model.fit().summary()"
   ]
  },
  {
   "cell_type": "markdown",
   "metadata": {},
   "source": [
    "P > .025 for the following:\n",
    "cylinders\n",
    "horsepower\n",
    "acceleration\n",
    "year"
   ]
  },
  {
   "cell_type": "code",
   "execution_count": null,
   "metadata": {
    "collapsed": true
   },
   "outputs": [],
   "source": [
    "model1 = smf.ols(formula='mpg ~  displacement  + weight + acceleration + model_year + origin ',data=df)"
   ]
  },
  {
   "cell_type": "code",
   "execution_count": null,
   "metadata": {
    "collapsed": false
   },
   "outputs": [],
   "source": [
    "model1.fit().summary()"
   ]
  },
  {
   "cell_type": "markdown",
   "metadata": {},
   "source": [
    "### "
   ]
  },
  {
   "cell_type": "markdown",
   "metadata": {},
   "source": [
    "### "
   ]
  },
  {
   "cell_type": "markdown",
   "metadata": {},
   "source": [
    "### SCIKIT LEARN"
   ]
  },
  {
   "cell_type": "code",
   "execution_count": 123,
   "metadata": {
    "collapsed": false
   },
   "outputs": [],
   "source": [
    "df = df.dropna(axis = 0, subset = ['gpm', 'horsepower_sqrt', 'weight'])"
   ]
  },
  {
   "cell_type": "code",
   "execution_count": 124,
   "metadata": {
    "collapsed": false
   },
   "outputs": [
    {
     "data": {
      "text/html": [
       "<div>\n",
       "<table border=\"1\" class=\"dataframe\">\n",
       "  <thead>\n",
       "    <tr style=\"text-align: right;\">\n",
       "      <th></th>\n",
       "      <th>mpg</th>\n",
       "      <th>displacement</th>\n",
       "      <th>horsepower</th>\n",
       "      <th>weight</th>\n",
       "      <th>acceleration</th>\n",
       "      <th>...</th>\n",
       "      <th>origin</th>\n",
       "      <th>car_name</th>\n",
       "      <th>gpm</th>\n",
       "      <th>displacement_sqrt</th>\n",
       "      <th>horsepower_sqrt</th>\n",
       "    </tr>\n",
       "  </thead>\n",
       "  <tbody>\n",
       "    <tr>\n",
       "      <th>0</th>\n",
       "      <td>18.0</td>\n",
       "      <td>307.0</td>\n",
       "      <td>130.0</td>\n",
       "      <td>3504.0</td>\n",
       "      <td>12.0</td>\n",
       "      <td>...</td>\n",
       "      <td>1</td>\n",
       "      <td>chevrolet chevelle malibu</td>\n",
       "      <td>0.055556</td>\n",
       "      <td>17.521415</td>\n",
       "      <td>11.401754</td>\n",
       "    </tr>\n",
       "    <tr>\n",
       "      <th>1</th>\n",
       "      <td>15.0</td>\n",
       "      <td>350.0</td>\n",
       "      <td>165.0</td>\n",
       "      <td>3693.0</td>\n",
       "      <td>11.5</td>\n",
       "      <td>...</td>\n",
       "      <td>1</td>\n",
       "      <td>buick skylark 320</td>\n",
       "      <td>0.066667</td>\n",
       "      <td>18.708287</td>\n",
       "      <td>12.845233</td>\n",
       "    </tr>\n",
       "    <tr>\n",
       "      <th>2</th>\n",
       "      <td>18.0</td>\n",
       "      <td>318.0</td>\n",
       "      <td>150.0</td>\n",
       "      <td>3436.0</td>\n",
       "      <td>11.0</td>\n",
       "      <td>...</td>\n",
       "      <td>1</td>\n",
       "      <td>plymouth satellite</td>\n",
       "      <td>0.055556</td>\n",
       "      <td>17.832555</td>\n",
       "      <td>12.247449</td>\n",
       "    </tr>\n",
       "    <tr>\n",
       "      <th>3</th>\n",
       "      <td>16.0</td>\n",
       "      <td>304.0</td>\n",
       "      <td>150.0</td>\n",
       "      <td>3433.0</td>\n",
       "      <td>12.0</td>\n",
       "      <td>...</td>\n",
       "      <td>1</td>\n",
       "      <td>amc rebel sst</td>\n",
       "      <td>0.062500</td>\n",
       "      <td>17.435596</td>\n",
       "      <td>12.247449</td>\n",
       "    </tr>\n",
       "    <tr>\n",
       "      <th>4</th>\n",
       "      <td>17.0</td>\n",
       "      <td>302.0</td>\n",
       "      <td>140.0</td>\n",
       "      <td>3449.0</td>\n",
       "      <td>10.5</td>\n",
       "      <td>...</td>\n",
       "      <td>1</td>\n",
       "      <td>ford torino</td>\n",
       "      <td>0.058824</td>\n",
       "      <td>17.378147</td>\n",
       "      <td>11.832160</td>\n",
       "    </tr>\n",
       "  </tbody>\n",
       "</table>\n",
       "<p>5 rows × 11 columns</p>\n",
       "</div>"
      ],
      "text/plain": [
       "    mpg  displacement  horsepower  weight  acceleration       ...         \\\n",
       "0  18.0         307.0       130.0  3504.0          12.0       ...          \n",
       "1  15.0         350.0       165.0  3693.0          11.5       ...          \n",
       "2  18.0         318.0       150.0  3436.0          11.0       ...          \n",
       "3  16.0         304.0       150.0  3433.0          12.0       ...          \n",
       "4  17.0         302.0       140.0  3449.0          10.5       ...          \n",
       "\n",
       "   origin                   car_name       gpm  displacement_sqrt  \\\n",
       "0       1  chevrolet chevelle malibu  0.055556          17.521415   \n",
       "1       1          buick skylark 320  0.066667          18.708287   \n",
       "2       1         plymouth satellite  0.055556          17.832555   \n",
       "3       1              amc rebel sst  0.062500          17.435596   \n",
       "4       1                ford torino  0.058824          17.378147   \n",
       "\n",
       "   horsepower_sqrt  \n",
       "0        11.401754  \n",
       "1        12.845233  \n",
       "2        12.247449  \n",
       "3        12.247449  \n",
       "4        11.832160  \n",
       "\n",
       "[5 rows x 11 columns]"
      ]
     },
     "execution_count": 124,
     "metadata": {},
     "output_type": "execute_result"
    }
   ],
   "source": [
    "df.head()"
   ]
  },
  {
   "cell_type": "code",
   "execution_count": 125,
   "metadata": {
    "collapsed": true
   },
   "outputs": [],
   "source": [
    "train_df = df.sample(frac = .6, random_state = 0)\n",
    "test_df = df.drop(train_df.index)"
   ]
  },
  {
   "cell_type": "code",
   "execution_count": 127,
   "metadata": {
    "collapsed": false
   },
   "outputs": [
    {
     "data": {
      "text/plain": [
       "Index([u'mpg', u'displacement', u'horsepower', u'weight', u'acceleration',\n",
       "       u'model_year', u'origin', u'car_name', u'gpm', u'displacement_sqrt',\n",
       "       u'horsepower_sqrt'],\n",
       "      dtype='object')"
      ]
     },
     "execution_count": 127,
     "metadata": {},
     "output_type": "execute_result"
    }
   ],
   "source": [
    "train_df.columns"
   ]
  },
  {
   "cell_type": "code",
   "execution_count": null,
   "metadata": {
    "collapsed": true
   },
   "outputs": [],
   "source": [
    "X_train = train_df['displacement','']"
   ]
  },
  {
   "cell_type": "code",
   "execution_count": null,
   "metadata": {
    "collapsed": true
   },
   "outputs": [],
   "source": [
    "\n"
   ]
  },
  {
   "cell_type": "code",
   "execution_count": null,
   "metadata": {
    "collapsed": true
   },
   "outputs": [],
   "source": []
  },
  {
   "cell_type": "code",
   "execution_count": null,
   "metadata": {
    "collapsed": true
   },
   "outputs": [],
   "source": []
  },
  {
   "cell_type": "code",
   "execution_count": null,
   "metadata": {
    "collapsed": true
   },
   "outputs": [],
   "source": [
    "model_sk = linear_model.LinearRegression()"
   ]
  },
  {
   "cell_type": "code",
   "execution_count": null,
   "metadata": {
    "collapsed": true
   },
   "outputs": [],
   "source": []
  },
  {
   "cell_type": "code",
   "execution_count": null,
   "metadata": {
    "collapsed": true
   },
   "outputs": [],
   "source": []
  },
  {
   "cell_type": "code",
   "execution_count": null,
   "metadata": {
    "collapsed": true
   },
   "outputs": [],
   "source": []
  },
  {
   "cell_type": "code",
   "execution_count": null,
   "metadata": {
    "collapsed": true
   },
   "outputs": [],
   "source": []
  },
  {
   "cell_type": "code",
   "execution_count": null,
   "metadata": {
    "collapsed": true
   },
   "outputs": [],
   "source": [
    "df_new['horsepower_inv'] =1./df_new.horsepower"
   ]
  },
  {
   "cell_type": "code",
   "execution_count": null,
   "metadata": {
    "collapsed": false
   },
   "outputs": [],
   "source": [
    "df_new.head()"
   ]
  },
  {
   "cell_type": "code",
   "execution_count": null,
   "metadata": {
    "collapsed": false
   },
   "outputs": [],
   "source": [
    "df_new[['horsepower_inv','mpg']].plot(x='horsepower_inv',y='mpg',kind='scatter',color='Magenta')"
   ]
  },
  {
   "cell_type": "code",
   "execution_count": null,
   "metadata": {
    "collapsed": true
   },
   "outputs": [],
   "source": []
  },
  {
   "cell_type": "code",
   "execution_count": null,
   "metadata": {
    "collapsed": true
   },
   "outputs": [],
   "source": []
  }
 ],
 "metadata": {
  "kernelspec": {
   "display_name": "Python 2",
   "language": "python",
   "name": "python2"
  },
  "language_info": {
   "codemirror_mode": {
    "name": "ipython",
    "version": 2
   },
   "file_extension": ".py",
   "mimetype": "text/x-python",
   "name": "python",
   "nbconvert_exporter": "python",
   "pygments_lexer": "ipython2",
   "version": "2.7.11"
  }
 },
 "nbformat": 4,
 "nbformat_minor": 0
}
