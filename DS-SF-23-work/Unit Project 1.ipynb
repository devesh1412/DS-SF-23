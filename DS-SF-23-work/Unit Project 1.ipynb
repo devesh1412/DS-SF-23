{
 "cells": [
  {
   "cell_type": "markdown",
   "metadata": {},
   "source": [
    "# Problem Statement"
   ]
  },
  {
   "cell_type": "markdown",
   "metadata": {},
   "source": [
    "Based on the available data of GPA,GRE Score and education history, predict if a student will get admission in UCLA"
   ]
  },
  {
   "cell_type": "markdown",
   "metadata": {},
   "source": [
    "## What is the outcome?\n"
   ]
  },
  {
   "cell_type": "markdown",
   "metadata": {},
   "source": [
    "Outcome is a variable-admit, a binary value which indicates whether or not a candidate will get admission  (admit = 1-Admitted)  / (admit = 0, Not Admitted)."
   ]
  },
  {
   "cell_type": "markdown",
   "metadata": {},
   "source": [
    "## 2. What are the predictors/covariates?\n"
   ]
  },
  {
   "cell_type": "code",
   "execution_count": null,
   "metadata": {
    "collapsed": true
   },
   "outputs": [],
   "source": [
    "The dataset contains four variables: admit, gre, gpa, and prestige.\n",
    "Note- Refer to the subsequent sections for a detailed decsription of each"
   ]
  },
  {
   "cell_type": "markdown",
   "metadata": {},
   "source": [
    "## 4. What is the hypothesis?\n"
   ]
  },
  {
   "cell_type": "code",
   "execution_count": null,
   "metadata": {
    "collapsed": true
   },
   "outputs": [],
   "source": [
    "An applicant education history will allow us to predict if hs/she will get admitted in UCLA or not\n"
   ]
  },
  {
   "cell_type": "markdown",
   "metadata": {},
   "source": [
    "## Data Dictionary"
   ]
  },
  {
   "cell_type": "markdown",
   "metadata": {},
   "source": [
    "**Variable** | ** Description** |** Type**\n",
    "---|---|---\n",
    "Admit|Outcome,0=Admitted,1=Not Admitted|Boolean\n",
    "GRE|GRE Score|Float\n",
    "GPA|Grade Point Average,min=0 ,Max=5|Float\n",
    "Prestige|A discreet varaible that predicts how reputed the Alma Mater is. Min=0,Max=5|Integer\n"
   ]
  },
  {
   "cell_type": "markdown",
   "metadata": {},
   "source": [
    "## Assumptions"
   ]
  },
  {
   "cell_type": "markdown",
   "metadata": {},
   "source": [
    "**Sno | Description\n",
    "---|---\n",
    "1|There is a scaling system for determining the Prestige of Alma Mater\n",
    "2|The Admission only depends on these 3 parameters\n",
    "3|This Data is available for all the students who apply for UCLA\n",
    "    "
   ]
  },
  {
   "cell_type": "code",
   "execution_count": null,
   "metadata": {
    "collapsed": true
   },
   "outputs": [],
   "source": []
  },
  {
   "cell_type": "code",
   "execution_count": null,
   "metadata": {
    "collapsed": true
   },
   "outputs": [],
   "source": []
  }
 ],
 "metadata": {
  "kernelspec": {
   "display_name": "Python 2",
   "language": "python",
   "name": "python2"
  },
  "language_info": {
   "codemirror_mode": {
    "name": "ipython",
    "version": 2
   },
   "file_extension": ".py",
   "mimetype": "text/x-python",
   "name": "python",
   "nbconvert_exporter": "python",
   "pygments_lexer": "ipython2",
   "version": "2.7.11"
  }
 },
 "nbformat": 4,
 "nbformat_minor": 0
}
