{
 "cells": [
  {
   "cell_type": "code",
   "execution_count": 1749,
   "metadata": {
    "collapsed": false
   },
   "outputs": [],
   "source": [
    "#importing the libraries\n",
    "import os\n",
    "import numpy as np\n",
    "import pandas as pd\n",
    "import csv\n",
    "import statsmodels.api as sm\n",
    "import matplotlib.pyplot as plt\n",
    "from sklearn import linear_model, metrics , cross\n",
    "\n",
    "pd.set_option('display.max_rows', 20)\n",
    "pd.set_option('display.notebook_repr_html', True)\n",
    "pd.set_option('display.max_columns', 40)\n",
    "\n",
    "%matplotlib inline\n",
    "plt.style.use('ggplot')"
   ]
  },
  {
   "cell_type": "markdown",
   "metadata": {},
   "source": [
    "## Function Definitions"
   ]
  },
  {
   "cell_type": "code",
   "execution_count": 1750,
   "metadata": {
    "collapsed": true
   },
   "outputs": [],
   "source": [
    "# This function returns the null values in a column\n",
    "def count_null(i):\n",
    "    \n",
    "    p = df[[i]].isnull().sum()\n",
    "    print ' The number of null values in %r is %d--' %(df.columns[i] , p)"
   ]
  },
  {
   "cell_type": "markdown",
   "metadata": {},
   "source": [
    "## Creating a Data Frame"
   ]
  },
  {
   "cell_type": "code",
   "execution_count": 1751,
   "metadata": {
    "collapsed": true
   },
   "outputs": [],
   "source": [
    "df = pd.read_csv('Kaggle_YourCabs_training.csv')"
   ]
  },
  {
   "cell_type": "code",
   "execution_count": 1752,
   "metadata": {
    "collapsed": false
   },
   "outputs": [
    {
     "data": {
      "text/plain": [
       "Index([u'id', u'user_id', u'vehicle_model_id', u'package_id',\n",
       "       u'travel_type_id', u'from_area_id', u'to_area_id', u'from_city_id',\n",
       "       u'to_city_id', u'from_date', u'to_date', u'online_booking',\n",
       "       u'mobile_site_booking', u'booking_created', u'from_lat', u'from_long',\n",
       "       u'to_lat', u'to_long', u'Car_Cancellation', u'Cost_of_error'],\n",
       "      dtype='object')"
      ]
     },
     "execution_count": 1752,
     "metadata": {},
     "output_type": "execute_result"
    }
   ],
   "source": [
    "df.columns\n"
   ]
  },
  {
   "cell_type": "markdown",
   "metadata": {},
   "source": [
    "## Quick Analysis for the dependant variable"
   ]
  },
  {
   "cell_type": "code",
   "execution_count": 1753,
   "metadata": {
    "collapsed": false
   },
   "outputs": [
    {
     "data": {
      "text/plain": [
       "0    40299\n",
       "1     3132\n",
       "Name: Car_Cancellation, dtype: int64"
      ]
     },
     "execution_count": 1753,
     "metadata": {},
     "output_type": "execute_result"
    }
   ],
   "source": [
    "df['Car_Cancellation'].value_counts()\n"
   ]
  },
  {
   "cell_type": "code",
   "execution_count": 1754,
   "metadata": {
    "collapsed": false
   },
   "outputs": [
    {
     "data": {
      "text/plain": [
       "array([28, 12, 65, 24, 87, 54, 85, 17, 23, 36, 72, 30, 43, 86, 76,  1, 69,\n",
       "       14, 89, 10, 13, 64, 90, 75, 70, 91, 39])"
      ]
     },
     "execution_count": 1754,
     "metadata": {},
     "output_type": "execute_result"
    }
   ],
   "source": [
    "df.vehicle_model_id.unique()"
   ]
  },
  {
   "cell_type": "code",
   "execution_count": 1755,
   "metadata": {
    "collapsed": false
   },
   "outputs": [
    {
     "data": {
      "text/plain": [
       "12    31859\n",
       "85     2407\n",
       "89     2391\n",
       "65     1912\n",
       "28     1702\n",
       "24     1494\n",
       "87      565\n",
       "90      312\n",
       "23      297\n",
       "86      123\n",
       "      ...  \n",
       "13        7\n",
       "43        2\n",
       "72        2\n",
       "1         2\n",
       "75        1\n",
       "76        1\n",
       "39        1\n",
       "70        1\n",
       "69        1\n",
       "14        1\n",
       "Name: vehicle_model_id, dtype: int64"
      ]
     },
     "execution_count": 1755,
     "metadata": {},
     "output_type": "execute_result"
    }
   ],
   "source": [
    "df.vehicle_model_id.value_counts()"
   ]
  },
  {
   "cell_type": "code",
   "execution_count": 1756,
   "metadata": {
    "collapsed": false
   },
   "outputs": [
    {
     "data": {
      "text/plain": [
       "0"
      ]
     },
     "execution_count": 1756,
     "metadata": {},
     "output_type": "execute_result"
    }
   ],
   "source": [
    "df.vehicle_model_id.isnull().sum()"
   ]
  },
  {
   "cell_type": "markdown",
   "metadata": {},
   "source": [
    "# Transformation"
   ]
  },
  {
   "cell_type": "markdown",
   "metadata": {},
   "source": [
    "## Transformation 1- Using one v/s other approach for the feature-model_id\n",
    "Note-vehicle_model_id is the model type"
   ]
  },
  {
   "cell_type": "code",
   "execution_count": 1757,
   "metadata": {
    "collapsed": false
   },
   "outputs": [
    {
     "data": {
      "text/plain": [
       "12    31859\n",
       "85     2407\n",
       "89     2391\n",
       "65     1912\n",
       "28     1702\n",
       "24     1494\n",
       "87      565\n",
       "90      312\n",
       "23      297\n",
       "86      123\n",
       "      ...  \n",
       "13        7\n",
       "43        2\n",
       "72        2\n",
       "1         2\n",
       "75        1\n",
       "76        1\n",
       "39        1\n",
       "70        1\n",
       "69        1\n",
       "14        1\n",
       "Name: vehicle_model_id, dtype: int64"
      ]
     },
     "execution_count": 1757,
     "metadata": {},
     "output_type": "execute_result"
    }
   ],
   "source": [
    "df.vehicle_model_id.value_counts()"
   ]
  },
  {
   "cell_type": "code",
   "execution_count": 1758,
   "metadata": {
    "collapsed": false
   },
   "outputs": [],
   "source": [
    "\n",
    "#creating a new feature and initializing it to the most frequent one\n",
    "df['vehicle_type'] = '12'"
   ]
  },
  {
   "cell_type": "code",
   "execution_count": 1759,
   "metadata": {
    "collapsed": false
   },
   "outputs": [
    {
     "data": {
      "text/plain": [
       "12    43431\n",
       "Name: vehicle_type, dtype: int64"
      ]
     },
     "execution_count": 1759,
     "metadata": {},
     "output_type": "execute_result"
    }
   ],
   "source": [
    "df['vehicle_type'].value_counts()"
   ]
  },
  {
   "cell_type": "markdown",
   "metadata": {},
   "source": [
    "Note:- 31K (of 43K~72%) of all the vehciles rented are of Model_id=12\n"
   ]
  },
  {
   "cell_type": "markdown",
   "metadata": {},
   "source": [
    "### The idea below is to create a new feature called 'Vehicle type' which would hold just 2 values = 1(for 12),0 for Others"
   ]
  },
  {
   "cell_type": "code",
   "execution_count": 1760,
   "metadata": {
    "collapsed": false
   },
   "outputs": [],
   "source": [
    "other = (df.vehicle_model_id !=12 )"
   ]
  },
  {
   "cell_type": "code",
   "execution_count": 1761,
   "metadata": {
    "collapsed": false
   },
   "outputs": [
    {
     "data": {
      "text/plain": [
       "False    31859\n",
       "True     11572\n",
       "Name: vehicle_model_id, dtype: int64"
      ]
     },
     "execution_count": 1761,
     "metadata": {},
     "output_type": "execute_result"
    }
   ],
   "source": [
    "other.value_counts()"
   ]
  },
  {
   "cell_type": "code",
   "execution_count": 1762,
   "metadata": {
    "collapsed": false
   },
   "outputs": [],
   "source": [
    "df.loc[other, 'vehicle_type'] = '0'\n"
   ]
  },
  {
   "cell_type": "code",
   "execution_count": 1763,
   "metadata": {
    "collapsed": false,
    "scrolled": false
   },
   "outputs": [
    {
     "data": {
      "text/plain": [
       "12    31859\n",
       "0     11572\n",
       "Name: vehicle_type, dtype: int64"
      ]
     },
     "execution_count": 1763,
     "metadata": {},
     "output_type": "execute_result"
    }
   ],
   "source": [
    "df['vehicle_type'].value_counts()"
   ]
  },
  {
   "cell_type": "code",
   "execution_count": 1764,
   "metadata": {
    "collapsed": false
   },
   "outputs": [
    {
     "data": {
      "text/plain": [
       "0"
      ]
     },
     "execution_count": 1764,
     "metadata": {},
     "output_type": "execute_result"
    }
   ],
   "source": [
    "df.vehicle_type.isnull().sum()"
   ]
  },
  {
   "cell_type": "markdown",
   "metadata": {},
   "source": [
    "## Exploring the feature from_city_id:\n",
    "This represents unique identifier of city\n"
   ]
  },
  {
   "cell_type": "code",
   "execution_count": 1765,
   "metadata": {
    "collapsed": false
   },
   "outputs": [
    {
     "data": {
      "text/plain": [
       "27086"
      ]
     },
     "execution_count": 1765,
     "metadata": {},
     "output_type": "execute_result"
    }
   ],
   "source": [
    "df.from_city_id.isnull().sum()"
   ]
  },
  {
   "cell_type": "code",
   "execution_count": 1766,
   "metadata": {
    "collapsed": false
   },
   "outputs": [
    {
     "data": {
      "text/plain": [
       "from_city_id    1441\n",
       "dtype: int64"
      ]
     },
     "execution_count": 1766,
     "metadata": {},
     "output_type": "execute_result"
    }
   ],
   "source": [
    "df[df.Car_Cancellation==1][['from_city_id']].isnull().sum()"
   ]
  },
  {
   "cell_type": "code",
   "execution_count": 1767,
   "metadata": {
    "collapsed": false
   },
   "outputs": [
    {
     "data": {
      "text/html": [
       "<div>\n",
       "<table border=\"1\" class=\"dataframe\">\n",
       "  <thead>\n",
       "    <tr style=\"text-align: right;\">\n",
       "      <th></th>\n",
       "      <th>from_city_id</th>\n",
       "      <th>Car_Cancellation</th>\n",
       "    </tr>\n",
       "  </thead>\n",
       "  <tbody>\n",
       "    <tr>\n",
       "      <th>from_city_id</th>\n",
       "      <td>1.000000</td>\n",
       "      <td>0.024755</td>\n",
       "    </tr>\n",
       "    <tr>\n",
       "      <th>Car_Cancellation</th>\n",
       "      <td>0.024755</td>\n",
       "      <td>1.000000</td>\n",
       "    </tr>\n",
       "  </tbody>\n",
       "</table>\n",
       "</div>"
      ],
      "text/plain": [
       "                  from_city_id  Car_Cancellation\n",
       "from_city_id          1.000000          0.024755\n",
       "Car_Cancellation      0.024755          1.000000"
      ]
     },
     "execution_count": 1767,
     "metadata": {},
     "output_type": "execute_result"
    }
   ],
   "source": [
    "df[['from_city_id','Car_Cancellation']].corr()"
   ]
  },
  {
   "cell_type": "markdown",
   "metadata": {},
   "source": [
    "## Analysis and Transformation on User_id\n",
    "The idea is to classify all the booking to check if this has been booked form a frequent user "
   ]
  },
  {
   "cell_type": "code",
   "execution_count": 1768,
   "metadata": {
    "collapsed": false
   },
   "outputs": [
    {
     "data": {
      "text/plain": [
       "22267"
      ]
     },
     "execution_count": 1768,
     "metadata": {},
     "output_type": "execute_result"
    }
   ],
   "source": [
    "len(df.user_id.unique())\n"
   ]
  },
  {
   "cell_type": "code",
   "execution_count": 1769,
   "metadata": {
    "collapsed": false
   },
   "outputs": [
    {
     "data": {
      "text/plain": [
       "6332"
      ]
     },
     "execution_count": 1769,
     "metadata": {},
     "output_type": "execute_result"
    }
   ],
   "source": [
    "(df.user_id.value_counts() > 1).sum()"
   ]
  },
  {
   "cell_type": "code",
   "execution_count": 1770,
   "metadata": {
    "collapsed": false
   },
   "outputs": [
    {
     "data": {
      "text/plain": [
       "29648    471\n",
       "868      245\n",
       "27458    211\n",
       "32527    202\n",
       "34972    198\n",
       "33002    187\n",
       "29275    185\n",
       "32023    125\n",
       "30290    120\n",
       "38538    105\n",
       "        ... \n",
       "42119      1\n",
       "29853      1\n",
       "44198      1\n",
       "27806      1\n",
       "25759      1\n",
       "38049      1\n",
       "36002      1\n",
       "48292      1\n",
       "46245      1\n",
       "8196       1\n",
       "Name: user_id, dtype: int64"
      ]
     },
     "execution_count": 1770,
     "metadata": {},
     "output_type": "execute_result"
    }
   ],
   "source": [
    "df.user_id.value_counts()"
   ]
  },
  {
   "cell_type": "markdown",
   "metadata": {},
   "source": [
    "#### 22267 unique users and out of which 6332 have reused the service "
   ]
  },
  {
   "cell_type": "markdown",
   "metadata": {},
   "source": [
    "#### Creating a new feature frequent_user and initializing it to 0"
   ]
  },
  {
   "cell_type": "code",
   "execution_count": 1771,
   "metadata": {
    "collapsed": false
   },
   "outputs": [],
   "source": [
    "df['frequent_user'] = 0"
   ]
  },
  {
   "cell_type": "code",
   "execution_count": 1772,
   "metadata": {
    "collapsed": false
   },
   "outputs": [
    {
     "data": {
      "text/plain": [
       "0        0\n",
       "1        0\n",
       "2        0\n",
       "3        0\n",
       "4        0\n",
       "5        0\n",
       "6        0\n",
       "7        0\n",
       "8        0\n",
       "9        0\n",
       "        ..\n",
       "43421    0\n",
       "43422    0\n",
       "43423    0\n",
       "43424    0\n",
       "43425    0\n",
       "43426    0\n",
       "43427    0\n",
       "43428    0\n",
       "43429    0\n",
       "43430    0\n",
       "Name: frequent_user, dtype: int64"
      ]
     },
     "execution_count": 1772,
     "metadata": {},
     "output_type": "execute_result"
    }
   ],
   "source": [
    "df.frequent_user"
   ]
  },
  {
   "cell_type": "code",
   "execution_count": 1773,
   "metadata": {
    "collapsed": false
   },
   "outputs": [],
   "source": [
    "# This is a series with TRUE for each of the user id that has booked multiple times\n",
    "is_frequent = df.user_id.value_counts()>1"
   ]
  },
  {
   "cell_type": "code",
   "execution_count": 1774,
   "metadata": {
    "collapsed": false
   },
   "outputs": [
    {
     "data": {
      "text/plain": [
       "pandas.core.series.Series"
      ]
     },
     "execution_count": 1774,
     "metadata": {},
     "output_type": "execute_result"
    }
   ],
   "source": [
    "type(is_frequent)"
   ]
  },
  {
   "cell_type": "code",
   "execution_count": 1775,
   "metadata": {
    "collapsed": false
   },
   "outputs": [
    {
     "data": {
      "text/plain": [
       "Int64Index([29648,   868, 27458, 32527, 34972, 33002, 29275, 32023, 30290,\n",
       "            38538,\n",
       "            ...\n",
       "            42119, 29853, 44198, 27806, 25759, 38049, 36002, 48292, 46245,\n",
       "             8196],\n",
       "           dtype='int64', length=22267)"
      ]
     },
     "execution_count": 1775,
     "metadata": {},
     "output_type": "execute_result"
    }
   ],
   "source": [
    "is_frequent.index"
   ]
  },
  {
   "cell_type": "code",
   "execution_count": 1776,
   "metadata": {
    "collapsed": false
   },
   "outputs": [
    {
     "data": {
      "text/plain": [
       "22267"
      ]
     },
     "execution_count": 1776,
     "metadata": {},
     "output_type": "execute_result"
    }
   ],
   "source": [
    "len(is_frequent.values)"
   ]
  },
  {
   "cell_type": "code",
   "execution_count": 1777,
   "metadata": {
    "collapsed": false
   },
   "outputs": [],
   "source": [
    "#The function below takes the user_id as input and checks the value against the index of the series, returns 1 for True and 0 for False\n",
    "def check_frequent(user_id):\n",
    "    if is_frequent.ix[user_id]==True:\n",
    "        return '1'\n",
    "    else:\n",
    "        return '0'"
   ]
  },
  {
   "cell_type": "code",
   "execution_count": 1778,
   "metadata": {
    "collapsed": false
   },
   "outputs": [],
   "source": [
    "#Calling function on the second column(user_id) for each of the rows\n",
    "#df.head()\n",
    "df['frequent_user']= df.iloc[:, 1].apply(check_frequent)"
   ]
  },
  {
   "cell_type": "code",
   "execution_count": 1779,
   "metadata": {
    "collapsed": false
   },
   "outputs": [
    {
     "data": {
      "text/plain": [
       "1    27496\n",
       "0    15935\n",
       "Name: frequent_user, dtype: int64"
      ]
     },
     "execution_count": 1779,
     "metadata": {},
     "output_type": "execute_result"
    }
   ],
   "source": [
    "df.frequent_user.value_counts()"
   ]
  },
  {
   "cell_type": "code",
   "execution_count": 1780,
   "metadata": {
    "collapsed": false
   },
   "outputs": [
    {
     "data": {
      "text/plain": [
       "0"
      ]
     },
     "execution_count": 1780,
     "metadata": {},
     "output_type": "execute_result"
    }
   ],
   "source": [
    "df.frequent_user.isnull().sum()"
   ]
  },
  {
   "cell_type": "markdown",
   "metadata": {},
   "source": [
    "## from_Areaid and to_area_id"
   ]
  },
  {
   "cell_type": "code",
   "execution_count": 1781,
   "metadata": {
    "collapsed": false
   },
   "outputs": [
    {
     "data": {
      "text/plain": [
       "599"
      ]
     },
     "execution_count": 1781,
     "metadata": {},
     "output_type": "execute_result"
    }
   ],
   "source": [
    "len(df.from_area_id.unique())\n",
    "#599 unique values for Area id "
   ]
  },
  {
   "cell_type": "code",
   "execution_count": 1782,
   "metadata": {
    "collapsed": false,
    "scrolled": true
   },
   "outputs": [
    {
     "data": {
      "text/plain": [
       "393.0     3858\n",
       "571.0     1631\n",
       "293.0     1052\n",
       "585.0      911\n",
       "1010.0     768\n",
       "142.0      727\n",
       "83.0       719\n",
       "1384.0     628\n",
       "1096.0     542\n",
       "58.0       466\n",
       "          ... \n",
       "1277.0       1\n",
       "1380.0       1\n",
       "802.0        1\n",
       "1252.0       1\n",
       "235.0        1\n",
       "369.0        1\n",
       "1127.0       1\n",
       "1125.0       1\n",
       "1253.0       1\n",
       "1403.0       1\n",
       "Name: from_area_id, dtype: int64"
      ]
     },
     "execution_count": 1782,
     "metadata": {},
     "output_type": "execute_result"
    }
   ],
   "source": [
    "df.from_area_id.value_counts()"
   ]
  },
  {
   "cell_type": "code",
   "execution_count": 1783,
   "metadata": {
    "collapsed": false,
    "scrolled": true
   },
   "outputs": [
    {
     "data": {
      "text/plain": [
       "72.4799331103679"
      ]
     },
     "execution_count": 1783,
     "metadata": {},
     "output_type": "execute_result"
    }
   ],
   "source": [
    "df.from_area_id.value_counts().mean()"
   ]
  },
  {
   "cell_type": "code",
   "execution_count": 1784,
   "metadata": {
    "collapsed": false
   },
   "outputs": [
    {
     "data": {
      "text/plain": [
       "444"
      ]
     },
     "execution_count": 1784,
     "metadata": {},
     "output_type": "execute_result"
    }
   ],
   "source": [
    "(df.from_area_id.value_counts()<72).sum()"
   ]
  },
  {
   "cell_type": "code",
   "execution_count": 1785,
   "metadata": {
    "collapsed": false
   },
   "outputs": [
    {
     "data": {
      "text/plain": [
       "154"
      ]
     },
     "execution_count": 1785,
     "metadata": {},
     "output_type": "execute_result"
    }
   ],
   "source": [
    "(df.from_area_id.value_counts()>72).sum()"
   ]
  },
  {
   "cell_type": "code",
   "execution_count": null,
   "metadata": {
    "collapsed": false
   },
   "outputs": [],
   "source": []
  },
  {
   "cell_type": "markdown",
   "metadata": {},
   "source": [
    "#### 72 is the mean value of the no of booking from a specific area , on a closer look it seems that out of 599 areas served by the company , a majority of the areas 444, have less than the avg no of booking per area and around 154 areas have higher than the avg no of booking per area"
   ]
  },
  {
   "cell_type": "code",
   "execution_count": 1786,
   "metadata": {
    "collapsed": false
   },
   "outputs": [
    {
     "data": {
      "text/plain": [
       "599"
      ]
     },
     "execution_count": 1786,
     "metadata": {},
     "output_type": "execute_result"
    }
   ],
   "source": [
    "len(df.from_area_id.unique())"
   ]
  },
  {
   "cell_type": "code",
   "execution_count": 1787,
   "metadata": {
    "collapsed": false
   },
   "outputs": [
    {
     "data": {
      "text/plain": [
       "569"
      ]
     },
     "execution_count": 1787,
     "metadata": {},
     "output_type": "execute_result"
    }
   ],
   "source": [
    "len(df.to_area_id.unique())"
   ]
  },
  {
   "cell_type": "code",
   "execution_count": 1788,
   "metadata": {
    "collapsed": false
   },
   "outputs": [
    {
     "data": {
      "text/plain": [
       "393.0      True\n",
       "571.0      True\n",
       "293.0      True\n",
       "585.0      True\n",
       "1010.0     True\n",
       "142.0      True\n",
       "83.0       True\n",
       "1384.0     True\n",
       "1096.0     True\n",
       "58.0       True\n",
       "          ...  \n",
       "1277.0    False\n",
       "1380.0    False\n",
       "802.0     False\n",
       "1252.0    False\n",
       "235.0     False\n",
       "369.0     False\n",
       "1127.0    False\n",
       "1125.0    False\n",
       "1253.0    False\n",
       "1403.0    False\n",
       "Name: from_area_id, dtype: bool"
      ]
     },
     "execution_count": 1788,
     "metadata": {},
     "output_type": "execute_result"
    }
   ],
   "source": [
    "df.from_area_id.value_counts()>df.from_area_id.value_counts().mean()"
   ]
  },
  {
   "cell_type": "code",
   "execution_count": 1789,
   "metadata": {
    "collapsed": false
   },
   "outputs": [],
   "source": [
    "# the function below will check the from_booking location is greater than the Mean value of the most frequent booking\n",
    "# If yes , populate the popular_pickup to 1 else populate it to 0\n",
    "\n",
    "df['Popular_Pickup']='0'\n",
    "is_popular_pickup = df.from_area_id.value_counts()>df.from_area_id.value_counts().mean()\n",
    "\n",
    "def check_popular(area_id):\n",
    "    if is_popular_pickup.ix[area_id].any()==True:\n",
    "        return '1'\n",
    "    else:\n",
    "        return '0'\n",
    "\n",
    "    \n",
    "    \n",
    "def check_popular_Drop(area_id):\n",
    "    if is_popular_Drop.ix[area_id].any()==True:\n",
    "        return '1'\n",
    "    else:\n",
    "        return '0'"
   ]
  },
  {
   "cell_type": "code",
   "execution_count": 1790,
   "metadata": {
    "collapsed": false
   },
   "outputs": [],
   "source": [
    "\n",
    "df['Popular_Pickup'] = df.iloc[:, 5].apply(check_popular)\n"
   ]
  },
  {
   "cell_type": "code",
   "execution_count": 1791,
   "metadata": {
    "collapsed": false
   },
   "outputs": [
    {
     "data": {
      "text/plain": [
       "1    34259\n",
       "0     9172\n",
       "Name: Popular_Pickup, dtype: int64"
      ]
     },
     "execution_count": 1791,
     "metadata": {},
     "output_type": "execute_result"
    }
   ],
   "source": [
    "df.Popular_Pickup.value_counts()"
   ]
  },
  {
   "cell_type": "code",
   "execution_count": 1792,
   "metadata": {
    "collapsed": false
   },
   "outputs": [
    {
     "data": {
      "text/plain": [
       "0"
      ]
     },
     "execution_count": 1792,
     "metadata": {},
     "output_type": "execute_result"
    }
   ],
   "source": [
    "df.Popular_Pickup.isnull().sum()"
   ]
  },
  {
   "cell_type": "code",
   "execution_count": 1793,
   "metadata": {
    "collapsed": false
   },
   "outputs": [
    {
     "data": {
      "text/plain": [
       "569"
      ]
     },
     "execution_count": 1793,
     "metadata": {},
     "output_type": "execute_result"
    }
   ],
   "source": [
    "len(df.to_area_id.unique())"
   ]
  },
  {
   "cell_type": "code",
   "execution_count": 1794,
   "metadata": {
    "collapsed": false
   },
   "outputs": [
    {
     "data": {
      "text/plain": [
       "393.0     8777\n",
       "585.0     2339\n",
       "1384.0    1237\n",
       "571.0      664\n",
       "293.0      555\n",
       "1010.0     480\n",
       "83.0       365\n",
       "168.0      338\n",
       "1371.0     332\n",
       "452.0      330\n",
       "          ... \n",
       "201.0        1\n",
       "1196.0       1\n",
       "1201.0       1\n",
       "1207.0       1\n",
       "1233.0       1\n",
       "174.0        1\n",
       "1252.0       1\n",
       "1266.0       1\n",
       "1271.0       1\n",
       "1403.0       1\n",
       "Name: to_area_id, dtype: int64"
      ]
     },
     "execution_count": 1794,
     "metadata": {},
     "output_type": "execute_result"
    }
   ],
   "source": [
    "df.to_area_id.value_counts()"
   ]
  },
  {
   "cell_type": "code",
   "execution_count": 1795,
   "metadata": {
    "collapsed": false
   },
   "outputs": [
    {
     "data": {
      "text/plain": [
       "60.375"
      ]
     },
     "execution_count": 1795,
     "metadata": {},
     "output_type": "execute_result"
    }
   ],
   "source": [
    "df.to_area_id.value_counts().mean()"
   ]
  },
  {
   "cell_type": "code",
   "execution_count": 1796,
   "metadata": {
    "collapsed": false
   },
   "outputs": [
    {
     "data": {
      "text/plain": [
       "104"
      ]
     },
     "execution_count": 1796,
     "metadata": {},
     "output_type": "execute_result"
    }
   ],
   "source": [
    "(df.to_area_id.value_counts()>60).sum()"
   ]
  },
  {
   "cell_type": "markdown",
   "metadata": {},
   "source": [
    "### #### 60 is the mean value of the no of booking from a specific area , on a closer look it seems that out of 569 areas served by the company , a majority of the areas 462, have less than the avg no of booking per area and around 104 areas have higher than the avg no of booking per area"
   ]
  },
  {
   "cell_type": "code",
   "execution_count": 1797,
   "metadata": {
    "collapsed": true
   },
   "outputs": [],
   "source": [
    "df['Popular_Drop']='0'\n",
    "is_popular_Drop = df.to_area_id.value_counts()>df.to_area_id.value_counts().mean()\n"
   ]
  },
  {
   "cell_type": "code",
   "execution_count": 1798,
   "metadata": {
    "collapsed": false
   },
   "outputs": [],
   "source": [
    "df['Popular_Drop'] = df.iloc[:, 6].apply(check_popular_Drop)\n"
   ]
  },
  {
   "cell_type": "code",
   "execution_count": 1799,
   "metadata": {
    "collapsed": false
   },
   "outputs": [
    {
     "data": {
      "text/plain": [
       "1    26994\n",
       "0    16437\n",
       "Name: Popular_Drop, dtype: int64"
      ]
     },
     "execution_count": 1799,
     "metadata": {},
     "output_type": "execute_result"
    }
   ],
   "source": [
    "df.Popular_Drop.value_counts()"
   ]
  },
  {
   "cell_type": "code",
   "execution_count": 1800,
   "metadata": {
    "collapsed": false
   },
   "outputs": [
    {
     "data": {
      "text/plain": [
       "0"
      ]
     },
     "execution_count": 1800,
     "metadata": {},
     "output_type": "execute_result"
    }
   ],
   "source": [
    "df.Popular_Drop.isnull().sum()"
   ]
  },
  {
   "cell_type": "markdown",
   "metadata": {},
   "source": [
    "## to_city_id - unique identifier of city (only for intercity)\n"
   ]
  },
  {
   "cell_type": "code",
   "execution_count": 1801,
   "metadata": {
    "collapsed": false,
    "scrolled": true
   },
   "outputs": [
    {
     "data": {
      "text/plain": [
       "41843"
      ]
     },
     "execution_count": 1801,
     "metadata": {},
     "output_type": "execute_result"
    }
   ],
   "source": [
    "df.to_city_id.isnull().sum()"
   ]
  },
  {
   "cell_type": "code",
   "execution_count": 1802,
   "metadata": {
    "collapsed": true
   },
   "outputs": [],
   "source": [
    "#### 41 K out of 43 K have Null values- Definitely Drop it"
   ]
  },
  {
   "cell_type": "markdown",
   "metadata": {},
   "source": [
    "## getting rid of package_id which has ~35K null values,vehicle_model_id,to_city_id"
   ]
  },
  {
   "cell_type": "markdown",
   "metadata": {},
   "source": [
    "## DATE Fields-from_date- Timestamp of the requested trip start"
   ]
  },
  {
   "cell_type": "code",
   "execution_count": 1803,
   "metadata": {
    "collapsed": false
   },
   "outputs": [
    {
     "data": {
      "text/plain": [
       "20377"
      ]
     },
     "execution_count": 1803,
     "metadata": {},
     "output_type": "execute_result"
    }
   ],
   "source": [
    "len(df.from_date.unique())"
   ]
  },
  {
   "cell_type": "code",
   "execution_count": 1804,
   "metadata": {
    "collapsed": false
   },
   "outputs": [
    {
     "data": {
      "text/plain": [
       "0           1/1/13 2:00\n",
       "1           1/1/13 9:00\n",
       "2           1/1/13 3:30\n",
       "3           1/1/13 5:45\n",
       "4           1/1/13 9:00\n",
       "5          1/1/13 22:30\n",
       "6           1/1/13 9:45\n",
       "7          1/1/13 11:00\n",
       "8          1/1/13 16:00\n",
       "9          1/1/13 11:00\n",
       "              ...      \n",
       "43421     11/25/13 9:45\n",
       "43422    11/24/13 21:15\n",
       "43423    11/24/13 16:00\n",
       "43424    11/24/13 15:15\n",
       "43425     11/25/13 0:00\n",
       "43426    11/24/13 18:00\n",
       "43427     11/26/13 1:00\n",
       "43428    11/24/13 18:30\n",
       "43429    11/24/13 16:00\n",
       "43430     11/25/13 5:00\n",
       "Name: from_date, dtype: object"
      ]
     },
     "execution_count": 1804,
     "metadata": {},
     "output_type": "execute_result"
    }
   ],
   "source": [
    "df.from_date"
   ]
  },
  {
   "cell_type": "code",
   "execution_count": 1805,
   "metadata": {
    "collapsed": false
   },
   "outputs": [
    {
     "data": {
      "text/plain": [
       "str"
      ]
     },
     "execution_count": 1805,
     "metadata": {},
     "output_type": "execute_result"
    }
   ],
   "source": [
    "#df.DateTime[-1]\n",
    "type(df.from_date[1])"
   ]
  },
  {
   "cell_type": "markdown",
   "metadata": {},
   "source": [
    "#### Transforming a string value to Date time on from_Date and To_Date"
   ]
  },
  {
   "cell_type": "code",
   "execution_count": 1806,
   "metadata": {
    "collapsed": false
   },
   "outputs": [],
   "source": [
    "df.from_date = pd.to_datetime(df.from_date)"
   ]
  },
  {
   "cell_type": "code",
   "execution_count": 1807,
   "metadata": {
    "collapsed": false
   },
   "outputs": [
    {
     "data": {
      "text/plain": [
       "0         1\n",
       "1         1\n",
       "2         1\n",
       "3         1\n",
       "4         1\n",
       "5         1\n",
       "6         1\n",
       "7         1\n",
       "8         1\n",
       "9         1\n",
       "         ..\n",
       "43421    11\n",
       "43422    11\n",
       "43423    11\n",
       "43424    11\n",
       "43425    11\n",
       "43426    11\n",
       "43427    11\n",
       "43428    11\n",
       "43429    11\n",
       "43430    11\n",
       "Name: from_date, dtype: int64"
      ]
     },
     "execution_count": 1807,
     "metadata": {},
     "output_type": "execute_result"
    }
   ],
   "source": [
    "df.from_date.apply(lambda date: date.month)"
   ]
  },
  {
   "cell_type": "code",
   "execution_count": 1808,
   "metadata": {
    "collapsed": false
   },
   "outputs": [
    {
     "data": {
      "text/plain": [
       "pandas.tslib.Timestamp"
      ]
     },
     "execution_count": 1808,
     "metadata": {},
     "output_type": "execute_result"
    }
   ],
   "source": [
    "type(df.from_date[1])"
   ]
  },
  {
   "cell_type": "code",
   "execution_count": 1809,
   "metadata": {
    "collapsed": false
   },
   "outputs": [
    {
     "name": "stderr",
     "output_type": "stream",
     "text": [
      "WARNING: Output cache limit (currently 1000 entries) hit.\n",
      "Flushing oldest 200 entries.\n"
     ]
    },
    {
     "data": {
      "text/plain": [
       "1"
      ]
     },
     "execution_count": 1809,
     "metadata": {},
     "output_type": "execute_result"
    }
   ],
   "source": [
    "df.from_date[1].month"
   ]
  },
  {
   "cell_type": "code",
   "execution_count": 1810,
   "metadata": {
    "collapsed": false
   },
   "outputs": [],
   "source": [
    "def get_month(x):\n",
    "    return x.month\n",
    "\n",
    "\n",
    "\n",
    "\n",
    "\n",
    "df['Req_start_Month'] = df['from_date'].apply(get_month)"
   ]
  },
  {
   "cell_type": "code",
   "execution_count": 1811,
   "metadata": {
    "collapsed": false
   },
   "outputs": [
    {
     "data": {
      "text/plain": [
       "8     False\n",
       "7     False\n",
       "10    False\n",
       "9     False\n",
       "6     False\n",
       "5     False\n",
       "11    False\n",
       "4     False\n",
       "2     False\n",
       "1     False\n",
       "3     False\n",
       "12    False\n",
       "Name: Req_start_Month, dtype: bool"
      ]
     },
     "execution_count": 1811,
     "metadata": {},
     "output_type": "execute_result"
    }
   ],
   "source": [
    "df.Req_start_Month.value_counts().isnull()"
   ]
  },
  {
   "cell_type": "code",
   "execution_count": 1812,
   "metadata": {
    "collapsed": false
   },
   "outputs": [],
   "source": [
    "df.to_date = pd.to_datetime(df.to_date)\n",
    "df['Req_end_Month'] = df['to_date'].apply(get_month)"
   ]
  },
  {
   "cell_type": "code",
   "execution_count": 1813,
   "metadata": {
    "collapsed": false,
    "scrolled": true
   },
   "outputs": [
    {
     "data": {
      "text/plain": [
       "0                                 NaT\n",
       "1                                 NaT\n",
       "2                                 NaT\n",
       "3                                 NaT\n",
       "4                                 NaT\n",
       "5                                 NaT\n",
       "6       1970-01-01 00:00:00.000041275\n",
       "7                                 NaT\n",
       "8                                 NaT\n",
       "9                                 NaT\n",
       "                     ...             \n",
       "43421   1970-01-01 00:00:00.000041603\n",
       "43422   1970-01-01 00:00:00.000041602\n",
       "43423   1970-01-01 00:00:00.000041602\n",
       "43424   1970-01-01 00:00:00.000041603\n",
       "43425   1970-01-01 00:00:00.000041603\n",
       "43426   1970-01-01 00:00:00.000041602\n",
       "43427   1970-01-01 00:00:00.000041604\n",
       "43428   1970-01-01 00:00:00.000041602\n",
       "43429   1970-01-01 00:00:00.000041602\n",
       "43430   1970-01-01 00:00:00.000041603\n",
       "Name: to_date, dtype: datetime64[ns]"
      ]
     },
     "execution_count": 1813,
     "metadata": {},
     "output_type": "execute_result"
    }
   ],
   "source": [
    "df.to_date"
   ]
  },
  {
   "cell_type": "code",
   "execution_count": null,
   "metadata": {
    "collapsed": true
   },
   "outputs": [],
   "source": []
  },
  {
   "cell_type": "markdown",
   "metadata": {},
   "source": [
    "### Note- The to_date seems to have a junk value as it has a default 1970 date- should be ignored"
   ]
  },
  {
   "cell_type": "code",
   "execution_count": 1814,
   "metadata": {
    "collapsed": false
   },
   "outputs": [
    {
     "data": {
      "text/plain": [
       "0           1/1/13 1:39\n",
       "1           1/1/13 2:25\n",
       "2           1/1/13 3:08\n",
       "3           1/1/13 4:39\n",
       "4           1/1/13 7:53\n",
       "5           1/1/13 8:01\n",
       "6           1/1/13 9:21\n",
       "7           1/1/13 9:39\n",
       "8           1/1/13 9:44\n",
       "9           1/1/13 9:49\n",
       "              ...      \n",
       "43421    11/24/13 14:10\n",
       "43422    11/24/13 14:12\n",
       "43423    11/24/13 14:15\n",
       "43424    11/24/13 14:23\n",
       "43425    11/24/13 14:24\n",
       "43426    11/24/13 14:25\n",
       "43427    11/24/13 14:30\n",
       "43428    11/24/13 14:35\n",
       "43429    11/24/13 14:43\n",
       "43430    11/24/13 14:50\n",
       "Name: booking_created, dtype: object"
      ]
     },
     "execution_count": 1814,
     "metadata": {},
     "output_type": "execute_result"
    }
   ],
   "source": [
    "df.booking_created"
   ]
  },
  {
   "cell_type": "code",
   "execution_count": 1815,
   "metadata": {
    "collapsed": false
   },
   "outputs": [],
   "source": [
    "df.booking_created = pd.to_datetime(df.booking_created)\n",
    "\n",
    "df['Creation_Month'] = df['booking_created'].apply(get_month)"
   ]
  },
  {
   "cell_type": "code",
   "execution_count": 1816,
   "metadata": {
    "collapsed": false
   },
   "outputs": [
    {
     "data": {
      "text/plain": [
       "8     5627\n",
       "7     4925\n",
       "10    4924\n",
       "9     4778\n",
       "6     4420\n",
       "5     4311\n",
       "4     3156\n",
       "1     2937\n",
       "2     2874\n",
       "3     2822\n",
       "11    2657\n",
       "Name: Creation_Month, dtype: int64"
      ]
     },
     "execution_count": 1816,
     "metadata": {},
     "output_type": "execute_result"
    }
   ],
   "source": [
    "df.Creation_Month.value_counts()"
   ]
  },
  {
   "cell_type": "code",
   "execution_count": 1817,
   "metadata": {
    "collapsed": false
   },
   "outputs": [
    {
     "data": {
      "text/plain": [
       "id                  2308\n",
       "user_id             2308\n",
       "vehicle_model_id    2308\n",
       "package_id           164\n",
       "travel_type_id      2308\n",
       "from_area_id        2306\n",
       "to_area_id          2020\n",
       "from_city_id        1461\n",
       "to_city_id           124\n",
       "from_date           2308\n",
       "                    ... \n",
       "to_long             2020\n",
       "Car_Cancellation    2308\n",
       "Cost_of_error       2308\n",
       "vehicle_type        2308\n",
       "frequent_user       2308\n",
       "Popular_Pickup      2308\n",
       "Popular_Drop        2308\n",
       "Req_start_Month     2308\n",
       "Req_end_Month       1812\n",
       "Creation_Month      2308\n",
       "dtype: int64"
      ]
     },
     "execution_count": 1817,
     "metadata": {},
     "output_type": "execute_result"
    }
   ],
   "source": [
    "df[(df.Creation_Month) !=(df.Req_start_Month)].count()"
   ]
  },
  {
   "cell_type": "markdown",
   "metadata": {},
   "source": [
    "#### Appears that there are 2308 records for which booking was created in advance of the trip start date"
   ]
  },
  {
   "cell_type": "markdown",
   "metadata": {},
   "source": [
    "## Geographic information:\n",
    "1)from_lat - latitude of from area\n",
    "2)from_long -  longitude of from area\n",
    "3)to_lat - latitude of to area\n",
    "4)to_long - longitude of to area\n"
   ]
  },
  {
   "cell_type": "code",
   "execution_count": 1818,
   "metadata": {
    "collapsed": false,
    "scrolled": true
   },
   "outputs": [
    {
     "data": {
      "text/plain": [
       "13.199560    3858\n",
       "12.951850    1631\n",
       "12.976770    1080\n",
       "12.849482    1052\n",
       "12.924150     960\n",
       "13.028530     928\n",
       "12.966910     776\n",
       "12.912810     732\n",
       "12.965190     726\n",
       "12.974400     468\n",
       "             ... \n",
       "12.969520       1\n",
       "12.923680       1\n",
       "12.957324       1\n",
       "12.998700       1\n",
       "12.963180       1\n",
       "13.031318       1\n",
       "12.972380       1\n",
       "12.946000       1\n",
       "13.062130       1\n",
       "13.032010       1\n",
       "Name: from_lat, dtype: int64"
      ]
     },
     "execution_count": 1818,
     "metadata": {},
     "output_type": "execute_result"
    }
   ],
   "source": [
    "df.from_lat.value_counts()"
   ]
  },
  {
   "cell_type": "code",
   "execution_count": 1819,
   "metadata": {
    "collapsed": false
   },
   "outputs": [
    {
     "data": {
      "text/plain": [
       "467"
      ]
     },
     "execution_count": 1819,
     "metadata": {},
     "output_type": "execute_result"
    }
   ],
   "source": [
    "len(df.from_lat.unique())"
   ]
  },
  {
   "cell_type": "code",
   "execution_count": 1820,
   "metadata": {
    "collapsed": false
   },
   "outputs": [
    {
     "data": {
      "text/plain": [
       "13.199560    3858\n",
       "12.951850    1631\n",
       "12.976770    1080\n",
       "12.849482    1052\n",
       "12.924150     960\n",
       "13.028530     928\n",
       "12.966910     776\n",
       "12.912810     732\n",
       "12.965190     726\n",
       "12.974400     468\n",
       "             ... \n",
       "12.969520       1\n",
       "12.923680       1\n",
       "12.957324       1\n",
       "12.998700       1\n",
       "12.963180       1\n",
       "13.031318       1\n",
       "12.972380       1\n",
       "12.946000       1\n",
       "13.062130       1\n",
       "13.032010       1\n",
       "Name: from_lat, dtype: int64"
      ]
     },
     "execution_count": 1820,
     "metadata": {},
     "output_type": "execute_result"
    }
   ],
   "source": [
    "df.from_lat.value_counts()"
   ]
  },
  {
   "cell_type": "code",
   "execution_count": 1821,
   "metadata": {
    "collapsed": false
   },
   "outputs": [
    {
     "data": {
      "text/plain": [
       "467"
      ]
     },
     "execution_count": 1821,
     "metadata": {},
     "output_type": "execute_result"
    }
   ],
   "source": [
    "len(df.from_lat.unique())"
   ]
  },
  {
   "cell_type": "code",
   "execution_count": 1822,
   "metadata": {
    "collapsed": false
   },
   "outputs": [
    {
     "data": {
      "text/plain": [
       "<matplotlib.axes._subplots.AxesSubplot at 0x136f86890>"
      ]
     },
     "execution_count": 1822,
     "metadata": {},
     "output_type": "execute_result"
    },
    {
     "data": {
      "image/png": "[encoded data removed]",
      "text/plain": [
       "<matplotlib.figure.Figure at 0x133abd8d0>"
      ]
     },
     "metadata": {},
     "output_type": "display_data"
    }
   ],
   "source": [
    "df.from_lat.value_counts().plot(kind='box')"
   ]
  },
  {
   "cell_type": "code",
   "execution_count": null,
   "metadata": {
    "collapsed": true
   },
   "outputs": [],
   "source": []
  },
  {
   "cell_type": "markdown",
   "metadata": {},
   "source": [
    "### The latitude data for Bangalore is between 12 and 13, accordingly creating a new feature called from_outside City that represents if the booking pickup is outside the city "
   ]
  },
  {
   "cell_type": "code",
   "execution_count": 1823,
   "metadata": {
    "collapsed": true
   },
   "outputs": [],
   "source": [
    "df['from_Outside_City'] = 0"
   ]
  },
  {
   "cell_type": "code",
   "execution_count": 1824,
   "metadata": {
    "collapsed": false
   },
   "outputs": [
    {
     "data": {
      "text/plain": [
       "0    43431\n",
       "Name: from_Outside_City, dtype: int64"
      ]
     },
     "execution_count": 1824,
     "metadata": {},
     "output_type": "execute_result"
    }
   ],
   "source": [
    "df.from_Outside_City.value_counts()"
   ]
  },
  {
   "cell_type": "code",
   "execution_count": 1825,
   "metadata": {
    "collapsed": false
   },
   "outputs": [],
   "source": [
    "def check_intercity(x):\n",
    "    if (x >=12) & (x <=13):\n",
    "        return '1'\n",
    "    elif pd.isnull(x)==True:\n",
    "            return '1'\n",
    "    else:\n",
    "        return '0'"
   ]
  },
  {
   "cell_type": "code",
   "execution_count": 1826,
   "metadata": {
    "collapsed": false
   },
   "outputs": [],
   "source": [
    "#df['Creation_Month'] = df['booking_created'].apply(get_month)\n",
    "df['from_Outside_City'] = df['from_lat'].apply(check_intercity)"
   ]
  },
  {
   "cell_type": "code",
   "execution_count": 1827,
   "metadata": {
    "collapsed": false
   },
   "outputs": [
    {
     "data": {
      "text/plain": [
       "1    31490\n",
       "0    11941\n",
       "Name: from_Outside_City, dtype: int64"
      ]
     },
     "execution_count": 1827,
     "metadata": {},
     "output_type": "execute_result"
    }
   ],
   "source": [
    "df.from_Outside_City.value_counts()\n"
   ]
  },
  {
   "cell_type": "code",
   "execution_count": 1828,
   "metadata": {
    "collapsed": false
   },
   "outputs": [
    {
     "data": {
      "text/plain": [
       "0"
      ]
     },
     "execution_count": 1828,
     "metadata": {},
     "output_type": "execute_result"
    }
   ],
   "source": [
    "df.from_Outside_City.isnull().sum()"
   ]
  },
  {
   "cell_type": "code",
   "execution_count": 1829,
   "metadata": {
    "collapsed": true
   },
   "outputs": [],
   "source": [
    "df['To_Outside_City'] = 0"
   ]
  },
  {
   "cell_type": "code",
   "execution_count": 1830,
   "metadata": {
    "collapsed": false
   },
   "outputs": [],
   "source": [
    "df['To_Outside_City'] = df['to_lat'].apply(check_intercity)"
   ]
  },
  {
   "cell_type": "code",
   "execution_count": 1831,
   "metadata": {
    "collapsed": false,
    "scrolled": true
   },
   "outputs": [
    {
     "data": {
      "text/plain": [
       "1    28886\n",
       "0    14545\n",
       "Name: To_Outside_City, dtype: int64"
      ]
     },
     "execution_count": 1831,
     "metadata": {},
     "output_type": "execute_result"
    }
   ],
   "source": [
    "df.To_Outside_City.value_counts()"
   ]
  },
  {
   "cell_type": "code",
   "execution_count": 1832,
   "metadata": {
    "collapsed": false
   },
   "outputs": [
    {
     "data": {
      "text/plain": [
       "Index([u'id', u'user_id', u'vehicle_model_id', u'package_id',\n",
       "       u'travel_type_id', u'from_area_id', u'to_area_id', u'from_city_id',\n",
       "       u'to_city_id', u'from_date', u'to_date', u'online_booking',\n",
       "       u'mobile_site_booking', u'booking_created', u'from_lat', u'from_long',\n",
       "       u'to_lat', u'to_long', u'Car_Cancellation', u'Cost_of_error',\n",
       "       u'vehicle_type', u'frequent_user', u'Popular_Pickup', u'Popular_Drop',\n",
       "       u'Req_start_Month', u'Req_end_Month', u'Creation_Month',\n",
       "       u'from_Outside_City', u'To_Outside_City'],\n",
       "      dtype='object')"
      ]
     },
     "execution_count": 1832,
     "metadata": {},
     "output_type": "execute_result"
    }
   ],
   "source": [
    "df.columns"
   ]
  },
  {
   "cell_type": "markdown",
   "metadata": {},
   "source": [
    "**Variable** | **__ Description__** |** Analysis**|**Present**\n",
    "---|---|---\n",
    "id|The id of the booking|Unique id representing the booking|No\n",
    "user_id|user_id of the person making the booking|22K unique values, transformed into frequent_user|No\n",
    "vehicle_model_id|vehicle model type|72% of the vehicle are in one category, transformed into vehicle_type|No\n",
    "package_id|type of package|81% of all the records have null values|No\n",
    "travel_type_id|type of travel|3 unique values|Yes\n",
    "from_area_id|id of the pickup area|560+ unique values, have been transformed to have a categories|No\n",
    "To_area_id|id of the Drop area|560+ unique values, have been transformed to have a categories|No\n",
    "from_city_id|unique identifier of city|27 K NULL Values|No\n",
    "to_city_id|unique identifier of city(Applies only for Intercity)|41 K out of 43 K have Null values-|No\n",
    "from_date|time stamp of requested trip start|Has been transformed to analyze Months|No\n",
    "to_date|time stamp of requested trip end|Has a junk value of 1970|No\n",
    "online_booking|if booking was done on desktop website|significant|YES\n",
    "mobile_site_booking|if booking was done on mobile website|significant|YES\n",
    "booking_created|time stamp of booking|Transformed into Month|No\n",
    "Geographical Coordinates(from Lat,From Long,To lat,To Long)|Geographical Location|Transformation applied|No\n",
    "\n"
   ]
  },
  {
   "cell_type": "code",
   "execution_count": 1833,
   "metadata": {
    "collapsed": false
   },
   "outputs": [
    {
     "data": {
      "text/plain": [
       "Index([u'id', u'user_id', u'vehicle_model_id', u'package_id',\n",
       "       u'travel_type_id', u'from_area_id', u'to_area_id', u'from_city_id',\n",
       "       u'to_city_id', u'from_date', u'to_date', u'online_booking',\n",
       "       u'mobile_site_booking', u'booking_created', u'from_lat', u'from_long',\n",
       "       u'to_lat', u'to_long', u'Car_Cancellation', u'Cost_of_error',\n",
       "       u'vehicle_type', u'frequent_user', u'Popular_Pickup', u'Popular_Drop',\n",
       "       u'Req_start_Month', u'Req_end_Month', u'Creation_Month',\n",
       "       u'from_Outside_City', u'To_Outside_City'],\n",
       "      dtype='object')"
      ]
     },
     "execution_count": 1833,
     "metadata": {},
     "output_type": "execute_result"
    }
   ],
   "source": [
    "df.columns"
   ]
  },
  {
   "cell_type": "markdown",
   "metadata": {},
   "source": [
    "## Below is a description of Transformed variables"
   ]
  },
  {
   "cell_type": "markdown",
   "metadata": {},
   "source": [
    "**Variable** | **__ Description__** |Values\n",
    "---|---|---\n",
    "vehicle_type|formed from Model_id to represent the vehicle|12 or others\n",
    "frequent_user|Transformation on user_id|0- one time user, >1 returning user\n",
    "POpular Pickup|Transformed from 'from_area_id'|1 represents areas receiving more than the avg no ob bookings per area\n",
    "POpular Drop|Transformed from 'to_area_id'|1 represents areas receiving more than the avg no ob bookings per area\n",
    "Req_Start_month|Transformed from 'from_date'|represents the Month for requested Trip Start\n",
    "Creation_Month|Transformed from booking_created|represents the Month for Booking creation\n",
    "\n",
    "\n",
    "\n"
   ]
  },
  {
   "cell_type": "code",
   "execution_count": null,
   "metadata": {
    "collapsed": false
   },
   "outputs": [],
   "source": []
  },
  {
   "cell_type": "code",
   "execution_count": 1834,
   "metadata": {
    "collapsed": false
   },
   "outputs": [
    {
     "data": {
      "text/html": [
       "<div>\n",
       "<table border=\"1\" class=\"dataframe\">\n",
       "  <thead>\n",
       "    <tr style=\"text-align: right;\">\n",
       "      <th></th>\n",
       "      <th>from_city_id</th>\n",
       "      <th>Car_Cancellation</th>\n",
       "    </tr>\n",
       "  </thead>\n",
       "  <tbody>\n",
       "    <tr>\n",
       "      <th>from_city_id</th>\n",
       "      <td>1.000000</td>\n",
       "      <td>0.024755</td>\n",
       "    </tr>\n",
       "    <tr>\n",
       "      <th>Car_Cancellation</th>\n",
       "      <td>0.024755</td>\n",
       "      <td>1.000000</td>\n",
       "    </tr>\n",
       "  </tbody>\n",
       "</table>\n",
       "</div>"
      ],
      "text/plain": [
       "                  from_city_id  Car_Cancellation\n",
       "from_city_id          1.000000          0.024755\n",
       "Car_Cancellation      0.024755          1.000000"
      ]
     },
     "execution_count": 1834,
     "metadata": {},
     "output_type": "execute_result"
    }
   ],
   "source": [
    "df[['from_city_id','Car_Cancellation']].corr()"
   ]
  },
  {
   "cell_type": "code",
   "execution_count": 1835,
   "metadata": {
    "collapsed": false
   },
   "outputs": [
    {
     "data": {
      "text/plain": [
       "Index([u'id', u'user_id', u'vehicle_model_id', u'package_id',\n",
       "       u'travel_type_id', u'from_area_id', u'to_area_id', u'from_city_id',\n",
       "       u'to_city_id', u'from_date', u'to_date', u'online_booking',\n",
       "       u'mobile_site_booking', u'booking_created', u'from_lat', u'from_long',\n",
       "       u'to_lat', u'to_long', u'Car_Cancellation', u'Cost_of_error',\n",
       "       u'vehicle_type', u'frequent_user', u'Popular_Pickup', u'Popular_Drop',\n",
       "       u'Req_start_Month', u'Req_end_Month', u'Creation_Month',\n",
       "       u'from_Outside_City', u'To_Outside_City'],\n",
       "      dtype='object')"
      ]
     },
     "execution_count": 1835,
     "metadata": {},
     "output_type": "execute_result"
    }
   ],
   "source": [
    "df.columns"
   ]
  },
  {
   "cell_type": "code",
   "execution_count": 1836,
   "metadata": {
    "collapsed": false
   },
   "outputs": [
    {
     "data": {
      "text/html": [
       "<div>\n",
       "<table border=\"1\" class=\"dataframe\">\n",
       "  <thead>\n",
       "    <tr style=\"text-align: right;\">\n",
       "      <th></th>\n",
       "      <th>Popular_Drop</th>\n",
       "    </tr>\n",
       "  </thead>\n",
       "  <tbody>\n",
       "    <tr>\n",
       "      <th>count</th>\n",
       "      <td>43431</td>\n",
       "    </tr>\n",
       "    <tr>\n",
       "      <th>unique</th>\n",
       "      <td>2</td>\n",
       "    </tr>\n",
       "    <tr>\n",
       "      <th>top</th>\n",
       "      <td>1</td>\n",
       "    </tr>\n",
       "    <tr>\n",
       "      <th>freq</th>\n",
       "      <td>26994</td>\n",
       "    </tr>\n",
       "  </tbody>\n",
       "</table>\n",
       "</div>"
      ],
      "text/plain": [
       "       Popular_Drop\n",
       "count         43431\n",
       "unique            2\n",
       "top               1\n",
       "freq          26994"
      ]
     },
     "execution_count": 1836,
     "metadata": {},
     "output_type": "execute_result"
    }
   ],
   "source": [
    "df[['Popular_Drop']].describe()"
   ]
  },
  {
   "cell_type": "code",
   "execution_count": 1837,
   "metadata": {
    "collapsed": true
   },
   "outputs": [],
   "source": [
    "X = df[['online_booking','mobile_site_booking','vehicle_type','travel_type_id','frequent_user','Req_start_Month','Creation_Month','from_Outside_City','To_Outside_City','Popular_Pickup','Popular_Drop']]"
   ]
  },
  {
   "cell_type": "code",
   "execution_count": 1838,
   "metadata": {
    "collapsed": true
   },
   "outputs": [],
   "source": [
    "y=df.Car_Cancellation"
   ]
  },
  {
   "cell_type": "code",
   "execution_count": 1839,
   "metadata": {
    "collapsed": false
   },
   "outputs": [
    {
     "data": {
      "text/plain": [
       "0    40299\n",
       "1     3132\n",
       "Name: Car_Cancellation, dtype: int64"
      ]
     },
     "execution_count": 1839,
     "metadata": {},
     "output_type": "execute_result"
    }
   ],
   "source": [
    "y.value_counts()"
   ]
  },
  {
   "cell_type": "code",
   "execution_count": 1840,
   "metadata": {
    "collapsed": false
   },
   "outputs": [],
   "source": [
    "#y_0 = df[df.Car_Cancellation == 0]\n",
    "#y_1 = df[df.Car_Cancellation == 1]\n",
    "#n = min([len(y_0), len(y_1)])\n",
    "#y_0 = y_0.sample(n = n, random_state = 0)\n",
    "#y_1 = y_1.sample(n = n, random_state = 0)\n",
    "#df = pd.concat([y_0, y_1])"
   ]
  },
  {
   "cell_type": "code",
   "execution_count": 1841,
   "metadata": {
    "collapsed": false
   },
   "outputs": [
    {
     "data": {
      "text/plain": [
       "Index([u'id', u'user_id', u'vehicle_model_id', u'package_id',\n",
       "       u'travel_type_id', u'from_area_id', u'to_area_id', u'from_city_id',\n",
       "       u'to_city_id', u'from_date', u'to_date', u'online_booking',\n",
       "       u'mobile_site_booking', u'booking_created', u'from_lat', u'from_long',\n",
       "       u'to_lat', u'to_long', u'Car_Cancellation', u'Cost_of_error',\n",
       "       u'vehicle_type', u'frequent_user', u'Popular_Pickup', u'Popular_Drop',\n",
       "       u'Req_start_Month', u'Req_end_Month', u'Creation_Month',\n",
       "       u'from_Outside_City', u'To_Outside_City'],\n",
       "      dtype='object')"
      ]
     },
     "execution_count": 1841,
     "metadata": {},
     "output_type": "execute_result"
    }
   ],
   "source": [
    "df.columns"
   ]
  },
  {
   "cell_type": "code",
   "execution_count": 1842,
   "metadata": {
    "collapsed": false
   },
   "outputs": [
    {
     "name": "stdout",
     "output_type": "stream",
     "text": [
      "3132 3132\n"
     ]
    }
   ],
   "source": [
    "print len(y_0), len(y_1)"
   ]
  },
  {
   "cell_type": "code",
   "execution_count": 1843,
   "metadata": {
    "collapsed": false
   },
   "outputs": [],
   "source": []
  },
  {
   "cell_type": "code",
   "execution_count": 1844,
   "metadata": {
    "collapsed": false
   },
   "outputs": [
    {
     "data": {
      "text/plain": [
       "Index([u'online_booking', u'mobile_site_booking', u'vehicle_type',\n",
       "       u'travel_type_id', u'frequent_user', u'Req_start_Month',\n",
       "       u'Creation_Month', u'from_Outside_City', u'To_Outside_City',\n",
       "       u'Popular_Pickup', u'Popular_Drop'],\n",
       "      dtype='object')"
      ]
     },
     "execution_count": 1844,
     "metadata": {},
     "output_type": "execute_result"
    }
   ],
   "source": [
    "X.columns"
   ]
  },
  {
   "cell_type": "code",
   "execution_count": 1845,
   "metadata": {
    "collapsed": false
   },
   "outputs": [
    {
     "data": {
      "text/html": [
       "<div>\n",
       "<table border=\"1\" class=\"dataframe\">\n",
       "  <thead>\n",
       "    <tr style=\"text-align: right;\">\n",
       "      <th></th>\n",
       "      <th>Cancel_0</th>\n",
       "      <th>Cancel_1</th>\n",
       "    </tr>\n",
       "  </thead>\n",
       "  <tbody>\n",
       "    <tr>\n",
       "      <th>0</th>\n",
       "      <td>1.0</td>\n",
       "      <td>0.0</td>\n",
       "    </tr>\n",
       "    <tr>\n",
       "      <th>1</th>\n",
       "      <td>1.0</td>\n",
       "      <td>0.0</td>\n",
       "    </tr>\n",
       "    <tr>\n",
       "      <th>2</th>\n",
       "      <td>1.0</td>\n",
       "      <td>0.0</td>\n",
       "    </tr>\n",
       "    <tr>\n",
       "      <th>3</th>\n",
       "      <td>1.0</td>\n",
       "      <td>0.0</td>\n",
       "    </tr>\n",
       "    <tr>\n",
       "      <th>4</th>\n",
       "      <td>1.0</td>\n",
       "      <td>0.0</td>\n",
       "    </tr>\n",
       "  </tbody>\n",
       "</table>\n",
       "</div>"
      ],
      "text/plain": [
       "   Cancel_0  Cancel_1\n",
       "0       1.0       0.0\n",
       "1       1.0       0.0\n",
       "2       1.0       0.0\n",
       "3       1.0       0.0\n",
       "4       1.0       0.0"
      ]
     },
     "execution_count": 1845,
     "metadata": {},
     "output_type": "execute_result"
    }
   ],
   "source": [
    "y_class.head()"
   ]
  },
  {
   "cell_type": "code",
   "execution_count": null,
   "metadata": {
    "collapsed": false
   },
   "outputs": [],
   "source": []
  },
  {
   "cell_type": "code",
   "execution_count": 1846,
   "metadata": {
    "collapsed": false
   },
   "outputs": [
    {
     "data": {
      "text/plain": [
       "float64           11\n",
       "int64              9\n",
       "object             6\n",
       "datetime64[ns]     3\n",
       "dtype: int64"
      ]
     },
     "execution_count": 1846,
     "metadata": {},
     "output_type": "execute_result"
    }
   ],
   "source": [
    "# df.dtypes[df.dtypes == 'object']\n",
    "df.dtypes.value_counts()"
   ]
  },
  {
   "cell_type": "code",
   "execution_count": 1847,
   "metadata": {
    "collapsed": false
   },
   "outputs": [],
   "source": [
    "df.Req_start_Month = pd.to_numeric(df.Req_start_Month)\n",
    "df.Req_end_Month = pd.to_numeric(df.Req_end_Month)\n",
    "df.Creation_Month = pd.to_numeric(df.Creation_Month)"
   ]
  },
  {
   "cell_type": "code",
   "execution_count": 1848,
   "metadata": {
    "collapsed": false
   },
   "outputs": [
    {
     "data": {
      "text/plain": [
       "float64           11\n",
       "int64              9\n",
       "object             6\n",
       "datetime64[ns]     3\n",
       "dtype: int64"
      ]
     },
     "execution_count": 1848,
     "metadata": {},
     "output_type": "execute_result"
    }
   ],
   "source": [
    "df.dtypes.value_counts()"
   ]
  },
  {
   "cell_type": "code",
   "execution_count": 1852,
   "metadata": {
    "collapsed": false
   },
   "outputs": [
    {
     "data": {
      "text/plain": [
       "Series([], dtype: object)"
      ]
     },
     "execution_count": 1852,
     "metadata": {},
     "output_type": "execute_result"
    }
   ],
   "source": [
    "df.dtypes[df.dtypes == 'object']"
   ]
  },
  {
   "cell_type": "code",
   "execution_count": 1850,
   "metadata": {
    "collapsed": true
   },
   "outputs": [],
   "source": [
    "df.vehicle_type = pd.to_numeric(df.vehicle_type)\n",
    "df.frequent_user = pd.to_numeric(df.frequent_user)\n",
    "df.Popular_Pickup = pd.to_numeric(df.Popular_Pickup)\n",
    "df.Popular_Drop = pd.to_numeric(df.Popular_Drop)\n",
    "df.from_Outside_City = pd.to_numeric(df.from_Outside_City)\n",
    "df.To_Outside_City = pd.to_numeric(df.To_Outside_City)\n"
   ]
  },
  {
   "cell_type": "code",
   "execution_count": null,
   "metadata": {
    "collapsed": true
   },
   "outputs": [],
   "source": []
  },
  {
   "cell_type": "code",
   "execution_count": null,
   "metadata": {
    "collapsed": true
   },
   "outputs": [],
   "source": []
  },
  {
   "cell_type": "code",
   "execution_count": null,
   "metadata": {
    "collapsed": true
   },
   "outputs": [],
   "source": []
  },
  {
   "cell_type": "code",
   "execution_count": null,
   "metadata": {
    "collapsed": true
   },
   "outputs": [],
   "source": []
  },
  {
   "cell_type": "code",
   "execution_count": null,
   "metadata": {
    "collapsed": true
   },
   "outputs": [],
   "source": [
    "#y_0 = df[df.Car_Cancellation == 0]\n",
    "#y_1 = df[df.Car_Cancellation == 1]\n",
    "#n = min([len(y_0), len(y_1)])\n",
    "#y_0 = y_0.sample(n = n, random_state = 0)\n",
    "#y_1 = y_1.sample(n = n, random_state = 0)\n",
    "#df = pd.concat([y_0, y_1])"
   ]
  },
  {
   "cell_type": "code",
   "execution_count": 1851,
   "metadata": {
    "collapsed": true
   },
   "outputs": [],
   "source": [
    "X = df[['online_booking','mobile_site_booking','vehicle_type','travel_type_id','frequent_user','Req_start_Month','Creation_Month','from_Outside_City','To_Outside_City','Popular_Pickup','Popular_Drop']]"
   ]
  },
  {
   "cell_type": "code",
   "execution_count": 1745,
   "metadata": {
    "collapsed": false
   },
   "outputs": [],
   "source": [
    "X = sm.add_constant(X)"
   ]
  },
  {
   "cell_type": "code",
   "execution_count": 1854,
   "metadata": {
    "collapsed": false,
    "scrolled": false
   },
   "outputs": [
    {
     "name": "stdout",
     "output_type": "stream",
     "text": [
      "Optimization terminated successfully.\n",
      "         Current function value: 0.243489\n",
      "         Iterations 7\n"
     ]
    },
    {
     "data": {
      "text/html": [
       "<table class=\"simpletable\">\n",
       "<caption>Logit Regression Results</caption>\n",
       "<tr>\n",
       "  <th>Dep. Variable:</th> <td>Car_Cancellation</td> <th>  No. Observations:  </th>   <td> 43431</td>  \n",
       "</tr>\n",
       "<tr>\n",
       "  <th>Model:</th>               <td>Logit</td>      <th>  Df Residuals:      </th>   <td> 43420</td>  \n",
       "</tr>\n",
       "<tr>\n",
       "  <th>Method:</th>               <td>MLE</td>       <th>  Df Model:          </th>   <td>    10</td>  \n",
       "</tr>\n",
       "<tr>\n",
       "  <th>Date:</th>          <td>Thu, 23 Jun 2016</td> <th>  Pseudo R-squ.:     </th>   <td>0.06016</td> \n",
       "</tr>\n",
       "<tr>\n",
       "  <th>Time:</th>              <td>04:45:09</td>     <th>  Log-Likelihood:    </th>  <td> -10575.</td> \n",
       "</tr>\n",
       "<tr>\n",
       "  <th>converged:</th>           <td>True</td>       <th>  LL-Null:           </th>  <td> -11252.</td> \n",
       "</tr>\n",
       "<tr>\n",
       "  <th> </th>                      <td> </td>        <th>  LLR p-value:       </th> <td>9.657e-285</td>\n",
       "</tr>\n",
       "</table>\n",
       "<table class=\"simpletable\">\n",
       "<tr>\n",
       "           <td></td>              <th>coef</th>     <th>std err</th>      <th>z</th>      <th>P>|z|</th> <th>[95.0% Conf. Int.]</th> \n",
       "</tr>\n",
       "<tr>\n",
       "  <th>online_booking</th>      <td>    0.8716</td> <td>    0.039</td> <td>   22.319</td> <td> 0.000</td> <td>    0.795     0.948</td>\n",
       "</tr>\n",
       "<tr>\n",
       "  <th>mobile_site_booking</th> <td>    1.1835</td> <td>    0.073</td> <td>   16.166</td> <td> 0.000</td> <td>    1.040     1.327</td>\n",
       "</tr>\n",
       "<tr>\n",
       "  <th>vehicle_type</th>        <td>    0.0380</td> <td>    0.004</td> <td>   10.115</td> <td> 0.000</td> <td>    0.031     0.045</td>\n",
       "</tr>\n",
       "<tr>\n",
       "  <th>travel_type_id</th>      <td>   -1.4865</td> <td>    0.035</td> <td>  -42.983</td> <td> 0.000</td> <td>   -1.554    -1.419</td>\n",
       "</tr>\n",
       "<tr>\n",
       "  <th>frequent_user</th>       <td>   -0.6925</td> <td>    0.038</td> <td>  -18.385</td> <td> 0.000</td> <td>   -0.766    -0.619</td>\n",
       "</tr>\n",
       "<tr>\n",
       "  <th>Req_start_Month</th>     <td>    0.4894</td> <td>    0.074</td> <td>    6.643</td> <td> 0.000</td> <td>    0.345     0.634</td>\n",
       "</tr>\n",
       "<tr>\n",
       "  <th>Creation_Month</th>      <td>   -0.4216</td> <td>    0.074</td> <td>   -5.671</td> <td> 0.000</td> <td>   -0.567    -0.276</td>\n",
       "</tr>\n",
       "<tr>\n",
       "  <th>from_Outside_City</th>   <td>    0.2477</td> <td>    0.041</td> <td>    6.031</td> <td> 0.000</td> <td>    0.167     0.328</td>\n",
       "</tr>\n",
       "<tr>\n",
       "  <th>To_Outside_City</th>     <td>    0.3152</td> <td>    0.040</td> <td>    7.811</td> <td> 0.000</td> <td>    0.236     0.394</td>\n",
       "</tr>\n",
       "<tr>\n",
       "  <th>Popular_Pickup</th>      <td>   -0.6756</td> <td>    0.039</td> <td>  -17.212</td> <td> 0.000</td> <td>   -0.753    -0.599</td>\n",
       "</tr>\n",
       "<tr>\n",
       "  <th>Popular_Drop</th>        <td>   -0.3533</td> <td>    0.041</td> <td>   -8.722</td> <td> 0.000</td> <td>   -0.433    -0.274</td>\n",
       "</tr>\n",
       "</table>"
      ],
      "text/plain": [
       "<class 'statsmodels.iolib.summary.Summary'>\n",
       "\"\"\"\n",
       "                           Logit Regression Results                           \n",
       "==============================================================================\n",
       "Dep. Variable:       Car_Cancellation   No. Observations:                43431\n",
       "Model:                          Logit   Df Residuals:                    43420\n",
       "Method:                           MLE   Df Model:                           10\n",
       "Date:                Thu, 23 Jun 2016   Pseudo R-squ.:                 0.06016\n",
       "Time:                        04:45:09   Log-Likelihood:                -10575.\n",
       "converged:                       True   LL-Null:                       -11252.\n",
       "                                        LLR p-value:                9.657e-285\n",
       "=======================================================================================\n",
       "                          coef    std err          z      P>|z|      [95.0% Conf. Int.]\n",
       "---------------------------------------------------------------------------------------\n",
       "online_booking          0.8716      0.039     22.319      0.000         0.795     0.948\n",
       "mobile_site_booking     1.1835      0.073     16.166      0.000         1.040     1.327\n",
       "vehicle_type            0.0380      0.004     10.115      0.000         0.031     0.045\n",
       "travel_type_id         -1.4865      0.035    -42.983      0.000        -1.554    -1.419\n",
       "frequent_user          -0.6925      0.038    -18.385      0.000        -0.766    -0.619\n",
       "Req_start_Month         0.4894      0.074      6.643      0.000         0.345     0.634\n",
       "Creation_Month         -0.4216      0.074     -5.671      0.000        -0.567    -0.276\n",
       "from_Outside_City       0.2477      0.041      6.031      0.000         0.167     0.328\n",
       "To_Outside_City         0.3152      0.040      7.811      0.000         0.236     0.394\n",
       "Popular_Pickup         -0.6756      0.039    -17.212      0.000        -0.753    -0.599\n",
       "Popular_Drop           -0.3533      0.041     -8.722      0.000        -0.433    -0.274\n",
       "=======================================================================================\n",
       "\"\"\""
      ]
     },
     "execution_count": 1854,
     "metadata": {},
     "output_type": "execute_result"
    }
   ],
   "source": [
    "model_stats= sm.Logit(y,X).fit()\n",
    "model_stats.summary()"
   ]
  },
  {
   "cell_type": "code",
   "execution_count": null,
   "metadata": {
    "collapsed": false
   },
   "outputs": [],
   "source": [
    "X"
   ]
  },
  {
   "cell_type": "markdown",
   "metadata": {},
   "source": [
    "# Conclusion:\n",
    "Popular_Drop can be ignored from the Data set due to the higher P value"
   ]
  },
  {
   "cell_type": "code",
   "execution_count": 1872,
   "metadata": {
    "collapsed": true
   },
   "outputs": [],
   "source": [
    "X = df[['online_booking','mobile_site_booking','vehicle_type','travel_type_id','frequent_user','Req_start_Month','Creation_Month','from_Outside_City','To_Outside_City','Popular_Pickup']]"
   ]
  },
  {
   "cell_type": "code",
   "execution_count": 1873,
   "metadata": {
    "collapsed": true
   },
   "outputs": [],
   "source": [
    "y = df.Car_Cancellation"
   ]
  },
  {
   "cell_type": "code",
   "execution_count": 1874,
   "metadata": {
    "collapsed": true
   },
   "outputs": [],
   "source": [
    "y_class = pd.get_dummies(df.Car_Cancellation,prefix = 'Cancel')"
   ]
  },
  {
   "cell_type": "code",
   "execution_count": 1882,
   "metadata": {
    "collapsed": false
   },
   "outputs": [
    {
     "data": {
      "text/html": [
       "<div>\n",
       "<table border=\"1\" class=\"dataframe\">\n",
       "  <thead>\n",
       "    <tr style=\"text-align: right;\">\n",
       "      <th></th>\n",
       "      <th>Cancel_0</th>\n",
       "      <th>Cancel_1</th>\n",
       "    </tr>\n",
       "  </thead>\n",
       "  <tbody>\n",
       "    <tr>\n",
       "      <th>0</th>\n",
       "      <td>1.0</td>\n",
       "      <td>0.0</td>\n",
       "    </tr>\n",
       "    <tr>\n",
       "      <th>1</th>\n",
       "      <td>1.0</td>\n",
       "      <td>0.0</td>\n",
       "    </tr>\n",
       "    <tr>\n",
       "      <th>2</th>\n",
       "      <td>1.0</td>\n",
       "      <td>0.0</td>\n",
       "    </tr>\n",
       "    <tr>\n",
       "      <th>3</th>\n",
       "      <td>1.0</td>\n",
       "      <td>0.0</td>\n",
       "    </tr>\n",
       "    <tr>\n",
       "      <th>4</th>\n",
       "      <td>1.0</td>\n",
       "      <td>0.0</td>\n",
       "    </tr>\n",
       "    <tr>\n",
       "      <th>5</th>\n",
       "      <td>1.0</td>\n",
       "      <td>0.0</td>\n",
       "    </tr>\n",
       "    <tr>\n",
       "      <th>6</th>\n",
       "      <td>1.0</td>\n",
       "      <td>0.0</td>\n",
       "    </tr>\n",
       "    <tr>\n",
       "      <th>7</th>\n",
       "      <td>1.0</td>\n",
       "      <td>0.0</td>\n",
       "    </tr>\n",
       "    <tr>\n",
       "      <th>8</th>\n",
       "      <td>1.0</td>\n",
       "      <td>0.0</td>\n",
       "    </tr>\n",
       "    <tr>\n",
       "      <th>9</th>\n",
       "      <td>1.0</td>\n",
       "      <td>0.0</td>\n",
       "    </tr>\n",
       "    <tr>\n",
       "      <th>...</th>\n",
       "      <td>...</td>\n",
       "      <td>...</td>\n",
       "    </tr>\n",
       "    <tr>\n",
       "      <th>43421</th>\n",
       "      <td>1.0</td>\n",
       "      <td>0.0</td>\n",
       "    </tr>\n",
       "    <tr>\n",
       "      <th>43422</th>\n",
       "      <td>0.0</td>\n",
       "      <td>1.0</td>\n",
       "    </tr>\n",
       "    <tr>\n",
       "      <th>43423</th>\n",
       "      <td>1.0</td>\n",
       "      <td>0.0</td>\n",
       "    </tr>\n",
       "    <tr>\n",
       "      <th>43424</th>\n",
       "      <td>1.0</td>\n",
       "      <td>0.0</td>\n",
       "    </tr>\n",
       "    <tr>\n",
       "      <th>43425</th>\n",
       "      <td>1.0</td>\n",
       "      <td>0.0</td>\n",
       "    </tr>\n",
       "    <tr>\n",
       "      <th>43426</th>\n",
       "      <td>1.0</td>\n",
       "      <td>0.0</td>\n",
       "    </tr>\n",
       "    <tr>\n",
       "      <th>43427</th>\n",
       "      <td>1.0</td>\n",
       "      <td>0.0</td>\n",
       "    </tr>\n",
       "    <tr>\n",
       "      <th>43428</th>\n",
       "      <td>1.0</td>\n",
       "      <td>0.0</td>\n",
       "    </tr>\n",
       "    <tr>\n",
       "      <th>43429</th>\n",
       "      <td>1.0</td>\n",
       "      <td>0.0</td>\n",
       "    </tr>\n",
       "    <tr>\n",
       "      <th>43430</th>\n",
       "      <td>1.0</td>\n",
       "      <td>0.0</td>\n",
       "    </tr>\n",
       "  </tbody>\n",
       "</table>\n",
       "<p>43431 rows × 2 columns</p>\n",
       "</div>"
      ],
      "text/plain": [
       "       Cancel_0  Cancel_1\n",
       "0           1.0       0.0\n",
       "1           1.0       0.0\n",
       "2           1.0       0.0\n",
       "3           1.0       0.0\n",
       "4           1.0       0.0\n",
       "5           1.0       0.0\n",
       "6           1.0       0.0\n",
       "7           1.0       0.0\n",
       "8           1.0       0.0\n",
       "9           1.0       0.0\n",
       "...         ...       ...\n",
       "43421       1.0       0.0\n",
       "43422       0.0       1.0\n",
       "43423       1.0       0.0\n",
       "43424       1.0       0.0\n",
       "43425       1.0       0.0\n",
       "43426       1.0       0.0\n",
       "43427       1.0       0.0\n",
       "43428       1.0       0.0\n",
       "43429       1.0       0.0\n",
       "43430       1.0       0.0\n",
       "\n",
       "[43431 rows x 2 columns]"
      ]
     },
     "execution_count": 1882,
     "metadata": {},
     "output_type": "execute_result"
    }
   ],
   "source": [
    "y_class"
   ]
  },
  {
   "cell_type": "code",
   "execution_count": null,
   "metadata": {
    "collapsed": true
   },
   "outputs": [],
   "source": []
  },
  {
   "cell_type": "markdown",
   "metadata": {},
   "source": [
    "# Using Sk learn to build the model"
   ]
  },
  {
   "cell_type": "code",
   "execution_count": 1885,
   "metadata": {
    "collapsed": true
   },
   "outputs": [],
   "source": [
    "model_sk_Class_0 = linear_model.LogisticRegression()"
   ]
  },
  {
   "cell_type": "code",
   "execution_count": 1936,
   "metadata": {
    "collapsed": true
   },
   "outputs": [],
   "source": [
    "def sk_model(X,y):\n",
    "    \n",
    "    model_class_0 = linear_model.LogisticRegression().fit(X,y.Cancel_0)\n",
    "    model_class_1 = linear_model.LogisticRegression().fit(X,y.Cancel_1)\n",
    "    print \"The values in Class 1 %r--\" %y.Cancel_1.unique()\n",
    "    print \"The values in Class 0 %r--\" %y.Cancel_0.unique()\n",
    "    \n",
    "    print \"The score on Class_0 --%r\" %model_class_0.score(X,y.Cancel_0)\n",
    "    print \"The score on Class_1 --%r\" %model_class_0.score(X,y.Cancel_1)\n",
    "    y_true_Class_0 = y.Cancel_0\n",
    "    y_true_Class_1 = y.Cancel_1\n",
    "    y_hat_Class_0 = model_class_0.predict(X)\n",
    "    y_hat_Class_1 = model_class_1.predict(X)\n",
    "    print \" The AUC for Class_0\"\n",
    "    plot_auc(y_true_Class_0,y_hat_Class_0)\n",
    "    print \" The AUC for Class_1\"\n",
    "    plot_auc(y_true_Class_1,y_hat_Class_1)\n",
    "    \n",
    "    "
   ]
  },
  {
   "cell_type": "code",
   "execution_count": 1924,
   "metadata": {
    "collapsed": true
   },
   "outputs": [],
   "source": [
    "def plot_auc(y_true,y_hat):\n",
    "    fpr, tpr, thresholds = metrics.roc_curve(y_true, y_hat)\n",
    "    plt.figure()\n",
    "    plt.plot(fpr, tpr, label = 'ROC curve (area = %0.2f)' % metrics.auc(fpr, tpr))\n",
    "    plt.plot([0, 1], [0, 1], 'k--')\n",
    "    plt.xlim([.0, 1.])\n",
    "    plt.ylim([.0, 1.1])\n",
    "    plt.xlabel('FPR/Fall-out')\n",
    "    plt.ylabel('TPR/Sensitivity')\n",
    "    #plt.title(\"Class_0 ROC\")\n",
    "    plt.legend(loc = 'lower right')\n",
    "    plt.show()\n",
    "    "
   ]
  },
  {
   "cell_type": "code",
   "execution_count": null,
   "metadata": {
    "collapsed": false
   },
   "outputs": [],
   "source": []
  },
  {
   "cell_type": "code",
   "execution_count": 1886,
   "metadata": {
    "collapsed": false
   },
   "outputs": [
    {
     "data": {
      "text/plain": [
       "LogisticRegression(C=1.0, class_weight=None, dual=False, fit_intercept=True,\n",
       "          intercept_scaling=1, max_iter=100, multi_class='ovr', n_jobs=1,\n",
       "          penalty='l2', random_state=None, solver='liblinear', tol=0.0001,\n",
       "          verbose=0, warm_start=False)"
      ]
     },
     "execution_count": 1886,
     "metadata": {},
     "output_type": "execute_result"
    }
   ],
   "source": [
    "model_sk_Class_0.fit(X , y_class.Cancel_0)"
   ]
  },
  {
   "cell_type": "code",
   "execution_count": 1887,
   "metadata": {
    "collapsed": false
   },
   "outputs": [
    {
     "data": {
      "text/plain": [
       "0.072459763763210616"
      ]
     },
     "execution_count": 1887,
     "metadata": {},
     "output_type": "execute_result"
    }
   ],
   "source": [
    "model_sk.score(X,y_class.Cancel_0)"
   ]
  },
  {
   "cell_type": "code",
   "execution_count": 1888,
   "metadata": {
    "collapsed": true
   },
   "outputs": [],
   "source": [
    "model_sk_Class_1 = linear_model.LogisticRegression()"
   ]
  },
  {
   "cell_type": "code",
   "execution_count": 1889,
   "metadata": {
    "collapsed": false
   },
   "outputs": [
    {
     "data": {
      "text/plain": [
       "LogisticRegression(C=1.0, class_weight=None, dual=False, fit_intercept=True,\n",
       "          intercept_scaling=1, max_iter=100, multi_class='ovr', n_jobs=1,\n",
       "          penalty='l2', random_state=None, solver='liblinear', tol=0.0001,\n",
       "          verbose=0, warm_start=False)"
      ]
     },
     "execution_count": 1889,
     "metadata": {},
     "output_type": "execute_result"
    }
   ],
   "source": [
    "model_sk_Class_1.fit(X , y_class.Cancel_1)"
   ]
  },
  {
   "cell_type": "code",
   "execution_count": 1891,
   "metadata": {
    "collapsed": false
   },
   "outputs": [
    {
     "data": {
      "text/plain": [
       "0.92754023623678938"
      ]
     },
     "execution_count": 1891,
     "metadata": {},
     "output_type": "execute_result"
    }
   ],
   "source": [
    "model_sk_Class_1.score(X,y_class.Cancel_1)"
   ]
  },
  {
   "cell_type": "code",
   "execution_count": 1893,
   "metadata": {
    "collapsed": false
   },
   "outputs": [],
   "source": []
  },
  {
   "cell_type": "code",
   "execution_count": 1929,
   "metadata": {
    "collapsed": false
   },
   "outputs": [
    {
     "data": {
      "image/png": "[encoded data removed]",
      "text/plain": [
       "<matplotlib.figure.Figure at 0x135e69f50>"
      ]
     },
     "metadata": {},
     "output_type": "display_data"
    }
   ],
   "source": [
    "y_true_Class_0 = y_class.Cancel_0\n",
    "y_true_Class_1 = y_class.Cancel_1\n",
    "\n",
    "y_hat_Class_0 = model_sk_Class_0.predict(X)\n",
    "y_hat_Class_1 = model_sk_Class_1.predict(X)\n",
    "fpr, tpr, thresholds = metrics.roc_curve(y_true_Class_1, y_hat_Class_1)\n",
    "\n",
    "plt.figure()\n",
    "plt.plot(fpr, tpr, label = 'ROC curve (area = %0.2f)' % metrics.auc(fpr, tpr))\n",
    "plt.plot([0, 1], [0, 1], 'k--')\n",
    "plt.xlim([.0, 1.])\n",
    "plt.ylim([.0, 1.1])\n",
    "plt.xlabel('FPR/Fall-out')\n",
    "plt.ylabel('TPR/Sensitivity')\n",
    "plt.title(\"Class_0 ROC\")\n",
    "plt.legend(loc = 'lower right')\n",
    "plt.show()"
   ]
  },
  {
   "cell_type": "markdown",
   "metadata": {},
   "source": [
    "# Accuracy is poor on the entire Data set- Bringing back stratified sampling"
   ]
  },
  {
   "cell_type": "code",
   "execution_count": 1945,
   "metadata": {
    "collapsed": false
   },
   "outputs": [
    {
     "name": "stdout",
     "output_type": "stream",
     "text": [
      "6264\n",
      "The values in Class 1 array([ 0.,  1.])--\n",
      "The values in Class 0 array([ 1.,  0.])--\n",
      "The score on Class_0 --0.71200510855683274\n",
      "The score on Class_1 --0.28799489144316731\n",
      " The AUC for Class_0\n"
     ]
    },
    {
     "data": {
      "image/png": "[encoded data removed]",
      "text/plain": [
       "<matplotlib.figure.Figure at 0x134afe4d0>"
      ]
     },
     "metadata": {},
     "output_type": "display_data"
    },
    {
     "name": "stdout",
     "output_type": "stream",
     "text": [
      " The AUC for Class_1\n"
     ]
    },
    {
     "data": {
      "image/png": "[encoded data removed]",
      "text/plain": [
       "<matplotlib.figure.Figure at 0x135df24d0>"
      ]
     },
     "metadata": {},
     "output_type": "display_data"
    }
   ],
   "source": [
    "#for i in range(10):\n",
    "#print \"Iteration %r--\" %i\n",
    "y_0 = df[df.Car_Cancellation == 0]\n",
    "y_1 = df[df.Car_Cancellation == 1]\n",
    "n = min([len(y_0), len(y_1)])\n",
    "y_0 = y_0.sample(n = n, random_state = 0)\n",
    "y_1 = y_1.sample(n = n, random_state = 0)\n",
    "df_strat = pd.concat([y_0, y_1])\n",
    "X_strat = df_strat[['online_booking','mobile_site_booking','vehicle_type','travel_type_id','frequent_user','Req_start_Month','Creation_Month','from_Outside_City','To_Outside_City','Popular_Pickup']]\n",
    "y_strat = df_strat.Car_Cancellation\n",
    "y_strat_class = pd.get_dummies(df_strat.Car_Cancellation,prefix = 'Cancel')\n",
    "print len(y_strat_class)\n",
    "sk_model(X_strat,y_strat_class)"
   ]
  },
  {
   "cell_type": "code",
   "execution_count": 1948,
   "metadata": {
    "collapsed": false
   },
   "outputs": [
    {
     "ename": "NameError",
     "evalue": "name 'cross_validation' is not defined",
     "output_type": "error",
     "traceback": [
      "\u001b[0;31m---------------------------------------------------------------------------\u001b[0m",
      "\u001b[0;31mNameError\u001b[0m                                 Traceback (most recent call last)",
      "\u001b[0;32m<ipython-input-1948-b41ab6cfe0ee>\u001b[0m in \u001b[0;36m<module>\u001b[0;34m()\u001b[0m\n\u001b[0;32m----> 1\u001b[0;31m \u001b[0mtrain_X\u001b[0m\u001b[0;34m,\u001b[0m \u001b[0mvalid_X\u001b[0m\u001b[0;34m,\u001b[0m \u001b[0mtrain_y\u001b[0m\u001b[0;34m,\u001b[0m \u001b[0mvalid_y\u001b[0m \u001b[0;34m=\u001b[0m \u001b[0mcross_validation\u001b[0m\u001b[0;34m.\u001b[0m\u001b[0mtrain_test_split\u001b[0m\u001b[0;34m(\u001b[0m\u001b[0mX_strat\u001b[0m\u001b[0;34m,\u001b[0m \u001b[0my_strat\u001b[0m\u001b[0;34m,\u001b[0m \u001b[0mtest_size\u001b[0m \u001b[0;34m=\u001b[0m \u001b[0;36m0.4\u001b[0m\u001b[0;34m)\u001b[0m\u001b[0;34m\u001b[0m\u001b[0m\n\u001b[0m",
      "\u001b[0;31mNameError\u001b[0m: name 'cross_validation' is not defined"
     ]
    }
   ],
   "source": [
    "train_X, valid_X, train_y, valid_y = cross_validation.train_test_split(X_strat, y_strat, test_size = 0.4)"
   ]
  },
  {
   "cell_type": "code",
   "execution_count": null,
   "metadata": {
    "collapsed": true
   },
   "outputs": [],
   "source": []
  }
 ],
 "metadata": {
  "kernelspec": {
   "display_name": "Python 2",
   "language": "python",
   "name": "python2"
  },
  "language_info": {
   "codemirror_mode": {
    "name": "ipython",
    "version": 2
   },
   "file_extension": ".py",
   "mimetype": "text/x-python",
   "name": "python",
   "nbconvert_exporter": "python",
   "pygments_lexer": "ipython2",
   "version": "2.7.11"
  }
 },
 "nbformat": 4,
 "nbformat_minor": 0
}
